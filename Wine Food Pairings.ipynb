{
  "cells": [
    {
      "cell_type": "code",
      "execution_count": 1,
      "metadata": {
        "id": "MMN_fPIQaBqi"
      },
      "outputs": [],
      "source": [
        "import os\n",
        "import pandas as pd\n",
        "import numpy as np\n",
        "import string\n",
        "from operator import itemgetter\n",
        "from collections import Counter, OrderedDict\n",
        "\n",
        "from nltk.tokenize import word_tokenize, sent_tokenize\n",
        "from nltk.stem import SnowballStemmer\n",
        "from nltk.corpus import stopwords\n",
        "\n",
        "from gensim.models.phrases import Phrases, Phraser\n",
        "from gensim.models import Word2Vec\n",
        "\n",
        "from sklearn.feature_extraction.text import TfidfVectorizer\n",
        "from sklearn.decomposition import PCA\n",
        "from matplotlib import pyplot as plt\n",
        "\n",
        "from scipy import spatial\n",
        "import ast\n",
        "\n",
        "import re\n",
        "import matplotlib.pyplot as plt\n",
        "%matplotlib inline\n",
        "from matplotlib import gridspec\n",
        "from math import pi\n",
        "\n",
        "pd.set_option('display.max_rows', 500)\n",
        "pd.set_option('display.max_columns', 500)\n",
        "pd.options.mode.chained_assignment = None"
      ]
    },
    {
      "cell_type": "markdown",
      "metadata": {
        "id": "3FyYBjV1aBql"
      },
      "source": [
        "### Loading the Relevant Data Files\n",
        "\n",
        "First up, the dataset with all our wine varieties and their average aroma & nonaroma embeddings."
      ]
    },
    {
      "cell_type": "code",
      "source": [
        "from google.colab import drive\n",
        "drive.mount('/content/drive')"
      ],
      "metadata": {
        "colab": {
          "base_uri": "https://localhost:8080/"
        },
        "id": "JjXZCAC9bLy3",
        "outputId": "ce3f281f-19b5-4cc6-f04b-f4a31b3cfef7"
      },
      "execution_count": 6,
      "outputs": [
        {
          "output_type": "stream",
          "name": "stdout",
          "text": [
            "Mounted at /content/drive\n"
          ]
        }
      ]
    },
    {
      "cell_type": "code",
      "source": [
        "file_path = '/content/drive/My Drive/Final Project/wine_food_pairing/wine_aromas_nonaromas.csv'"
      ],
      "metadata": {
        "id": "TFpFwBlqaml9"
      },
      "execution_count": 7,
      "outputs": []
    },
    {
      "cell_type": "code",
      "execution_count": 9,
      "metadata": {
        "colab": {
          "base_uri": "https://localhost:8080/",
          "height": 204
        },
        "id": "YrADKK7IaBqm",
        "outputId": "2dfeac60-b6f0-4b03-dbd0-b69d9a02deba"
      },
      "outputs": [
        {
          "output_type": "execute_result",
          "data": {
            "text/plain": [
              "                                               aroma    weight     sweet  \\\n",
              "0  [ 1.5145130e+00  1.8424729e+00  1.6289674e+00 ...  0.347251  0.704186   \n",
              "1  [ 1.2242099   1.2104877   2.3766973  -1.986676...  0.626490  0.823233   \n",
              "2  [ 1.9763136e+00  1.1378931e+00  1.3378321e+00 ...  0.599178  0.628506   \n",
              "3  [ 1.4385724   0.8306817   1.5512958  -2.316678...  0.618324  0.678274   \n",
              "4  [ 1.2342598   0.67209095  2.050209   -2.131179...  0.554074  0.766655   \n",
              "\n",
              "       acid  salt   piquant       fat  bitter  \n",
              "0  0.969966     0  0.454686  0.182172       0  \n",
              "1  0.961366     0  0.315761  0.180033       0  \n",
              "2  0.965486     0  0.432617  0.258589       0  \n",
              "3  0.969966     0  0.214675  0.182172       0  \n",
              "4  0.958255     0  0.363961  0.178097       0  "
            ],
            "text/html": [
              "\n",
              "  <div id=\"df-6fc5210f-4df0-42dd-b215-9f4fd61f2670\" class=\"colab-df-container\">\n",
              "    <div>\n",
              "<style scoped>\n",
              "    .dataframe tbody tr th:only-of-type {\n",
              "        vertical-align: middle;\n",
              "    }\n",
              "\n",
              "    .dataframe tbody tr th {\n",
              "        vertical-align: top;\n",
              "    }\n",
              "\n",
              "    .dataframe thead th {\n",
              "        text-align: right;\n",
              "    }\n",
              "</style>\n",
              "<table border=\"1\" class=\"dataframe\">\n",
              "  <thead>\n",
              "    <tr style=\"text-align: right;\">\n",
              "      <th></th>\n",
              "      <th>aroma</th>\n",
              "      <th>weight</th>\n",
              "      <th>sweet</th>\n",
              "      <th>acid</th>\n",
              "      <th>salt</th>\n",
              "      <th>piquant</th>\n",
              "      <th>fat</th>\n",
              "      <th>bitter</th>\n",
              "    </tr>\n",
              "  </thead>\n",
              "  <tbody>\n",
              "    <tr>\n",
              "      <th>0</th>\n",
              "      <td>[ 1.5145130e+00  1.8424729e+00  1.6289674e+00 ...</td>\n",
              "      <td>0.347251</td>\n",
              "      <td>0.704186</td>\n",
              "      <td>0.969966</td>\n",
              "      <td>0</td>\n",
              "      <td>0.454686</td>\n",
              "      <td>0.182172</td>\n",
              "      <td>0</td>\n",
              "    </tr>\n",
              "    <tr>\n",
              "      <th>1</th>\n",
              "      <td>[ 1.2242099   1.2104877   2.3766973  -1.986676...</td>\n",
              "      <td>0.626490</td>\n",
              "      <td>0.823233</td>\n",
              "      <td>0.961366</td>\n",
              "      <td>0</td>\n",
              "      <td>0.315761</td>\n",
              "      <td>0.180033</td>\n",
              "      <td>0</td>\n",
              "    </tr>\n",
              "    <tr>\n",
              "      <th>2</th>\n",
              "      <td>[ 1.9763136e+00  1.1378931e+00  1.3378321e+00 ...</td>\n",
              "      <td>0.599178</td>\n",
              "      <td>0.628506</td>\n",
              "      <td>0.965486</td>\n",
              "      <td>0</td>\n",
              "      <td>0.432617</td>\n",
              "      <td>0.258589</td>\n",
              "      <td>0</td>\n",
              "    </tr>\n",
              "    <tr>\n",
              "      <th>3</th>\n",
              "      <td>[ 1.4385724   0.8306817   1.5512958  -2.316678...</td>\n",
              "      <td>0.618324</td>\n",
              "      <td>0.678274</td>\n",
              "      <td>0.969966</td>\n",
              "      <td>0</td>\n",
              "      <td>0.214675</td>\n",
              "      <td>0.182172</td>\n",
              "      <td>0</td>\n",
              "    </tr>\n",
              "    <tr>\n",
              "      <th>4</th>\n",
              "      <td>[ 1.2342598   0.67209095  2.050209   -2.131179...</td>\n",
              "      <td>0.554074</td>\n",
              "      <td>0.766655</td>\n",
              "      <td>0.958255</td>\n",
              "      <td>0</td>\n",
              "      <td>0.363961</td>\n",
              "      <td>0.178097</td>\n",
              "      <td>0</td>\n",
              "    </tr>\n",
              "  </tbody>\n",
              "</table>\n",
              "</div>\n",
              "    <div class=\"colab-df-buttons\">\n",
              "\n",
              "  <div class=\"colab-df-container\">\n",
              "    <button class=\"colab-df-convert\" onclick=\"convertToInteractive('df-6fc5210f-4df0-42dd-b215-9f4fd61f2670')\"\n",
              "            title=\"Convert this dataframe to an interactive table.\"\n",
              "            style=\"display:none;\">\n",
              "\n",
              "  <svg xmlns=\"http://www.w3.org/2000/svg\" height=\"24px\" viewBox=\"0 -960 960 960\">\n",
              "    <path d=\"M120-120v-720h720v720H120Zm60-500h600v-160H180v160Zm220 220h160v-160H400v160Zm0 220h160v-160H400v160ZM180-400h160v-160H180v160Zm440 0h160v-160H620v160ZM180-180h160v-160H180v160Zm440 0h160v-160H620v160Z\"/>\n",
              "  </svg>\n",
              "    </button>\n",
              "\n",
              "  <style>\n",
              "    .colab-df-container {\n",
              "      display:flex;\n",
              "      gap: 12px;\n",
              "    }\n",
              "\n",
              "    .colab-df-convert {\n",
              "      background-color: #E8F0FE;\n",
              "      border: none;\n",
              "      border-radius: 50%;\n",
              "      cursor: pointer;\n",
              "      display: none;\n",
              "      fill: #1967D2;\n",
              "      height: 32px;\n",
              "      padding: 0 0 0 0;\n",
              "      width: 32px;\n",
              "    }\n",
              "\n",
              "    .colab-df-convert:hover {\n",
              "      background-color: #E2EBFA;\n",
              "      box-shadow: 0px 1px 2px rgba(60, 64, 67, 0.3), 0px 1px 3px 1px rgba(60, 64, 67, 0.15);\n",
              "      fill: #174EA6;\n",
              "    }\n",
              "\n",
              "    .colab-df-buttons div {\n",
              "      margin-bottom: 4px;\n",
              "    }\n",
              "\n",
              "    [theme=dark] .colab-df-convert {\n",
              "      background-color: #3B4455;\n",
              "      fill: #D2E3FC;\n",
              "    }\n",
              "\n",
              "    [theme=dark] .colab-df-convert:hover {\n",
              "      background-color: #434B5C;\n",
              "      box-shadow: 0px 1px 3px 1px rgba(0, 0, 0, 0.15);\n",
              "      filter: drop-shadow(0px 1px 2px rgba(0, 0, 0, 0.3));\n",
              "      fill: #FFFFFF;\n",
              "    }\n",
              "  </style>\n",
              "\n",
              "    <script>\n",
              "      const buttonEl =\n",
              "        document.querySelector('#df-6fc5210f-4df0-42dd-b215-9f4fd61f2670 button.colab-df-convert');\n",
              "      buttonEl.style.display =\n",
              "        google.colab.kernel.accessAllowed ? 'block' : 'none';\n",
              "\n",
              "      async function convertToInteractive(key) {\n",
              "        const element = document.querySelector('#df-6fc5210f-4df0-42dd-b215-9f4fd61f2670');\n",
              "        const dataTable =\n",
              "          await google.colab.kernel.invokeFunction('convertToInteractive',\n",
              "                                                    [key], {});\n",
              "        if (!dataTable) return;\n",
              "\n",
              "        const docLinkHtml = 'Like what you see? Visit the ' +\n",
              "          '<a target=\"_blank\" href=https://colab.research.google.com/notebooks/data_table.ipynb>data table notebook</a>'\n",
              "          + ' to learn more about interactive tables.';\n",
              "        element.innerHTML = '';\n",
              "        dataTable['output_type'] = 'display_data';\n",
              "        await google.colab.output.renderOutput(dataTable, element);\n",
              "        const docLink = document.createElement('div');\n",
              "        docLink.innerHTML = docLinkHtml;\n",
              "        element.appendChild(docLink);\n",
              "      }\n",
              "    </script>\n",
              "  </div>\n",
              "\n",
              "\n",
              "<div id=\"df-04b51804-acfa-4b3f-8ff3-a39454b5d7ea\">\n",
              "  <button class=\"colab-df-quickchart\" onclick=\"quickchart('df-04b51804-acfa-4b3f-8ff3-a39454b5d7ea')\"\n",
              "            title=\"Suggest charts\"\n",
              "            style=\"display:none;\">\n",
              "\n",
              "<svg xmlns=\"http://www.w3.org/2000/svg\" height=\"24px\"viewBox=\"0 0 24 24\"\n",
              "     width=\"24px\">\n",
              "    <g>\n",
              "        <path d=\"M19 3H5c-1.1 0-2 .9-2 2v14c0 1.1.9 2 2 2h14c1.1 0 2-.9 2-2V5c0-1.1-.9-2-2-2zM9 17H7v-7h2v7zm4 0h-2V7h2v10zm4 0h-2v-4h2v4z\"/>\n",
              "    </g>\n",
              "</svg>\n",
              "  </button>\n",
              "\n",
              "<style>\n",
              "  .colab-df-quickchart {\n",
              "      --bg-color: #E8F0FE;\n",
              "      --fill-color: #1967D2;\n",
              "      --hover-bg-color: #E2EBFA;\n",
              "      --hover-fill-color: #174EA6;\n",
              "      --disabled-fill-color: #AAA;\n",
              "      --disabled-bg-color: #DDD;\n",
              "  }\n",
              "\n",
              "  [theme=dark] .colab-df-quickchart {\n",
              "      --bg-color: #3B4455;\n",
              "      --fill-color: #D2E3FC;\n",
              "      --hover-bg-color: #434B5C;\n",
              "      --hover-fill-color: #FFFFFF;\n",
              "      --disabled-bg-color: #3B4455;\n",
              "      --disabled-fill-color: #666;\n",
              "  }\n",
              "\n",
              "  .colab-df-quickchart {\n",
              "    background-color: var(--bg-color);\n",
              "    border: none;\n",
              "    border-radius: 50%;\n",
              "    cursor: pointer;\n",
              "    display: none;\n",
              "    fill: var(--fill-color);\n",
              "    height: 32px;\n",
              "    padding: 0;\n",
              "    width: 32px;\n",
              "  }\n",
              "\n",
              "  .colab-df-quickchart:hover {\n",
              "    background-color: var(--hover-bg-color);\n",
              "    box-shadow: 0 1px 2px rgba(60, 64, 67, 0.3), 0 1px 3px 1px rgba(60, 64, 67, 0.15);\n",
              "    fill: var(--button-hover-fill-color);\n",
              "  }\n",
              "\n",
              "  .colab-df-quickchart-complete:disabled,\n",
              "  .colab-df-quickchart-complete:disabled:hover {\n",
              "    background-color: var(--disabled-bg-color);\n",
              "    fill: var(--disabled-fill-color);\n",
              "    box-shadow: none;\n",
              "  }\n",
              "\n",
              "  .colab-df-spinner {\n",
              "    border: 2px solid var(--fill-color);\n",
              "    border-color: transparent;\n",
              "    border-bottom-color: var(--fill-color);\n",
              "    animation:\n",
              "      spin 1s steps(1) infinite;\n",
              "  }\n",
              "\n",
              "  @keyframes spin {\n",
              "    0% {\n",
              "      border-color: transparent;\n",
              "      border-bottom-color: var(--fill-color);\n",
              "      border-left-color: var(--fill-color);\n",
              "    }\n",
              "    20% {\n",
              "      border-color: transparent;\n",
              "      border-left-color: var(--fill-color);\n",
              "      border-top-color: var(--fill-color);\n",
              "    }\n",
              "    30% {\n",
              "      border-color: transparent;\n",
              "      border-left-color: var(--fill-color);\n",
              "      border-top-color: var(--fill-color);\n",
              "      border-right-color: var(--fill-color);\n",
              "    }\n",
              "    40% {\n",
              "      border-color: transparent;\n",
              "      border-right-color: var(--fill-color);\n",
              "      border-top-color: var(--fill-color);\n",
              "    }\n",
              "    60% {\n",
              "      border-color: transparent;\n",
              "      border-right-color: var(--fill-color);\n",
              "    }\n",
              "    80% {\n",
              "      border-color: transparent;\n",
              "      border-right-color: var(--fill-color);\n",
              "      border-bottom-color: var(--fill-color);\n",
              "    }\n",
              "    90% {\n",
              "      border-color: transparent;\n",
              "      border-bottom-color: var(--fill-color);\n",
              "    }\n",
              "  }\n",
              "</style>\n",
              "\n",
              "  <script>\n",
              "    async function quickchart(key) {\n",
              "      const quickchartButtonEl =\n",
              "        document.querySelector('#' + key + ' button');\n",
              "      quickchartButtonEl.disabled = true;  // To prevent multiple clicks.\n",
              "      quickchartButtonEl.classList.add('colab-df-spinner');\n",
              "      try {\n",
              "        const charts = await google.colab.kernel.invokeFunction(\n",
              "            'suggestCharts', [key], {});\n",
              "      } catch (error) {\n",
              "        console.error('Error during call to suggestCharts:', error);\n",
              "      }\n",
              "      quickchartButtonEl.classList.remove('colab-df-spinner');\n",
              "      quickchartButtonEl.classList.add('colab-df-quickchart-complete');\n",
              "    }\n",
              "    (() => {\n",
              "      let quickchartButtonEl =\n",
              "        document.querySelector('#df-04b51804-acfa-4b3f-8ff3-a39454b5d7ea button');\n",
              "      quickchartButtonEl.style.display =\n",
              "        google.colab.kernel.accessAllowed ? 'block' : 'none';\n",
              "    })();\n",
              "  </script>\n",
              "</div>\n",
              "\n",
              "    </div>\n",
              "  </div>\n"
            ],
            "application/vnd.google.colaboratory.intrinsic+json": {
              "type": "dataframe",
              "variable_name": "wine_variety_vectors",
              "summary": "{\n  \"name\": \"wine_variety_vectors\",\n  \"rows\": 739,\n  \"fields\": [\n    {\n      \"column\": \"aroma\",\n      \"properties\": {\n        \"dtype\": \"string\",\n        \"num_unique_values\": 739,\n        \"samples\": [\n          \"[ 1.0887759e+00  1.5666788e+00  1.2887001e+00 -2.5285802e+00\\n -1.0526583e+00 -1.6737642e+00 -1.2078222e+00  3.0299389e-01\\n  1.5717336e+00  2.6331773e+00  6.5604967e-01  6.3694897e+00\\n -3.8563922e-01  1.0211453e+00  2.4940400e-01 -6.4173073e-01\\n -9.7501147e-01 -3.6881726e+00  4.2737430e-01  8.4882528e-02\\n  3.9422431e+00  2.4722924e+00  9.6227807e-01  1.2135242e+00\\n  2.2472689e+00 -2.8366220e+00  6.4533744e+00  4.1700810e-01\\n -1.3397019e+00 -1.6866733e+00  2.4620563e-01 -3.8186159e+00\\n  7.3919672e-01  2.3800276e-01  3.6749895e+00  1.9624424e+00\\n -1.4123771e+00 -1.0019405e+00 -1.6585033e+00  3.1992602e-01\\n -1.9986339e+00 -2.1913497e+00 -3.0629971e+00 -2.8912252e-01\\n  5.5574495e-01 -1.8644248e+00 -1.3863131e+00 -1.6050009e+00\\n -3.7109284e+00  2.4901006e+00 -1.3480335e+00  1.8394681e+00\\n -1.2261833e+00 -2.8030529e+00  2.0580814e+00  6.5918875e-01\\n -1.1571182e-01 -2.1757810e+00  1.6123188e+00 -1.4697680e+00\\n  1.1913580e+00  2.5592895e+00  2.0112643e+00 -6.5931123e-01\\n  1.5427632e+00  1.4569794e+00  1.1138775e+00 -1.5585440e+00\\n -5.3390670e+00  4.1917783e-01 -1.0836231e+00  7.5144604e-02\\n  3.2005167e+00 -5.3835231e-01  3.8288587e-01  1.2021024e+00\\n  3.2115657e+00  1.8261722e-04  3.2714829e+00 -2.2255197e+00\\n  6.9670087e-01  2.1248460e+00  1.3593574e+00  6.6442215e-01\\n -5.6636590e-01 -7.7063161e-01 -3.7974143e+00  1.8834311e+00\\n -2.4190898e+00 -1.0219685e+00  1.7300302e+00  1.4223541e+00\\n  2.4250603e+00 -1.9489383e-02 -1.3289899e-01 -2.6768260e+00\\n -1.3089732e+00  4.3502155e-01  3.2512767e+00 -5.5491228e+00\\n  3.7053865e-01  2.6023405e+00 -1.3792473e+00  2.8335917e+00\\n -6.9137108e-01 -2.1005366e+00  2.6506180e-01 -2.9372436e-01\\n -1.0054882e+00  1.7770920e+00 -9.9408388e-01 -5.9714615e-01\\n  4.6487265e+00  6.2335271e-01  3.2330528e-01  4.5951772e+00\\n -1.4940195e+00  4.2289615e+00  1.5603940e+00  5.6444488e+00\\n -4.6943077e-01  2.0545598e-02  7.0146501e-01 -1.2761420e+00\\n -1.1879479e+00  2.2337639e+00 -6.0093465e+00  1.4821337e+00\\n  3.8127571e-01  2.2589423e-02 -1.7761126e-02 -3.2925444e+00\\n -2.0538702e+00  1.6535552e-01  3.1307518e+00  1.7307174e+00\\n  2.1103644e+00  3.2687438e-01 -6.1015403e-01 -3.3902106e+00\\n -1.0741835e+00 -3.8672209e+00 -2.2072875e+00  1.3564402e+00\\n  1.9979433e+00  1.4951177e+00 -1.3618139e+00 -3.3229654e+00\\n -1.5158325e+00  2.0894449e+00  1.3095884e+00  3.5538194e+00\\n -3.7195487e+00  3.7808424e-01 -9.0672605e-02  1.0638080e+00\\n  1.2145513e+00 -2.0727327e+00  3.2167778e+00 -3.7736754e+00\\n -4.1099052e+00  3.5132248e+00 -2.6356559e+00  3.2998850e+00\\n -4.1365790e+00  1.0294650e-01  2.7636826e+00 -3.5289341e-01\\n  2.9366580e-01  1.4451319e+00 -2.2754183e+00  2.7250233e+00\\n  4.0944338e-01 -8.6939961e-01 -1.6722529e+00 -5.9723443e-01\\n -2.1912821e-01 -4.6410480e+00  1.7382326e+00 -2.3167756e+00\\n -1.7817242e+00 -1.3187174e+00  9.9122673e-01 -1.3944826e+00\\n  5.8055334e+00  4.2573519e+00 -5.2829385e-01  2.3030992e+00\\n  4.9219108e+00  6.2532455e-01 -1.8893023e+00 -2.6290135e+00\\n -4.5083799e+00 -2.8123639e+00  1.7253023e+00 -5.0781244e-01\\n  2.9543774e+00  1.1478254e+00  1.4907693e+00 -7.1725410e-01\\n -2.5161862e-01 -1.9473575e+00  1.4661949e+00  4.7001335e-01\\n -2.5143943e+00 -2.4926808e-01  6.0617501e-01  4.2141932e-01\\n  1.8709048e+00 -8.5202837e-01  1.1966143e+00 -1.0428953e+00\\n -9.6123713e-01  2.5479321e+00  9.9096930e-01  1.7463552e+00\\n  1.9092753e+00  2.5615497e+00  6.1381450e+00  5.9620947e-01\\n -2.1656268e+00  2.4728839e-01  1.3605951e+00 -2.3931494e+00\\n -2.0665364e+00 -1.3651453e+00  4.3571162e+00 -2.8734696e-01\\n -4.1933000e-02 -1.2141995e-01 -2.9151931e+00  2.8236890e-01\\n -1.5590729e+00 -2.0347059e+00 -1.0286902e+00  3.0084672e+00\\n  6.1878249e-02 -4.4693533e-01  6.1892879e-01  7.1572876e-01\\n -1.8055317e+00  2.7874675e+00 -1.6247016e+00  4.7552049e-01\\n  3.6198716e+00 -1.9802656e+00  4.4205470e+00  3.9925022e+00\\n -1.5272683e+00  4.7975368e+00 -1.4841931e+00  1.8173434e+00\\n  1.8398823e+00 -4.4983025e+00  8.2311630e-01  2.3195813e+00\\n -5.1660019e-01  2.1123931e+00 -3.6518314e-01 -2.1158187e+00\\n -3.6788160e-01 -1.3918078e+00  1.2338172e+00  1.9570612e+00\\n  5.1768082e-01 -2.3235052e+00  2.8223429e+00  1.3343912e+00\\n  4.4364734e+00  1.1146617e+00  3.1080017e+00 -5.4235039e+00\\n -4.3001473e-01  3.6511004e-01  2.2075112e+00 -2.0370750e+00\\n  1.7372801e+00 -1.6755012e+00  1.1069685e-01  4.3192000e+00\\n  6.0603094e+00  2.5064537e-01 -3.1897657e+00 -5.0049906e+00\\n -1.5723269e+00 -1.7908262e+00 -4.4043654e-01  7.1753448e-01\\n  1.7443087e+00 -8.0568802e-01  4.5274028e-01 -1.2791630e+00\\n  5.3324022e+00  5.6547570e+00 -2.1518598e+00 -1.6074638e+00\\n  2.4920084e+00 -2.3000867e+00 -8.0780149e-02 -9.2337841e-01]\",\n          \"[ 1.0964799  -0.67369723  1.7150325  -2.8877854  -0.4723647  -0.08314779\\n  2.9511585  -0.5886325   3.0318582   1.3132101   1.3514262   4.368278\\n  1.0090601   0.27201766  2.7931733  -0.2440426  -3.6869051  -0.73626775\\n  0.9382179  -1.5722024   5.076678    2.882454    1.8235515   0.2519906\\n  0.61858886 -1.2823898   5.5642314  -0.355354   -1.6272559   0.22371306\\n  0.8746786  -2.1923308  -0.6959957  -1.6938223   3.3082774   2.6608787\\n  1.0199896  -0.13130768 -1.3110735   0.93754154 -0.0079125  -1.125355\\n -0.50410235 -0.6716376  -1.311361   -3.3336818  -3.2904706  -2.2415705\\n -4.2053127   2.7537713  -1.2642452   0.11112416 -1.0210528  -3.9419565\\n  1.4858332   3.2440734   0.8905608  -1.025979    3.5080686  -1.5372596\\n  0.14601332  0.84464914  1.1718508  -2.108483    2.9708567   0.6437558\\n  0.5247275  -2.2615104  -5.7759414  -1.1412311  -1.4888203   0.28139806\\n  4.8381867  -0.7445087   1.799754   -0.323791    1.5269681   0.07759294\\n  3.3777218   1.5337632  -1.0529523   1.8428639  -0.5193525   0.581012\\n  0.97607577 -3.3333726  -2.0539236   0.16734649 -2.4749112   1.3121674\\n -0.0637809   1.1753964   3.5014088   1.4304879  -0.4564219  -1.0436883\\n -0.77554923  0.9526021   1.6135452  -4.264862    1.3888938   2.0977528\\n  0.06580922  2.865818   -0.9684543  -2.7320638  -0.19311167 -2.6350195\\n -1.7993095   0.3965289  -0.08359289 -0.8493746   3.8317838  -2.6560063\\n  1.3200364   4.424492    0.5780193   3.9959564   0.7428076   2.6570046\\n -0.1819336  -1.5814984  -0.7142337  -0.7244359   1.4157314   0.2646677\\n -4.8172207  -0.61145365 -1.2937973   0.73277307  0.7444632  -3.2071905\\n -1.0859717   0.77135676  2.1024015   1.0223974   0.9913311   1.288228\\n -2.3673253  -1.7590543   1.1618891  -3.5725152  -1.2562388  -0.354893\\n  2.2932098   3.7305458  -4.8284025  -2.1866536   0.42970902  2.4233747\\n  0.96708703  5.8718824  -3.5261538   0.5015988  -0.00749308 -0.60482895\\n  0.8083264  -2.6217003   1.8609699  -3.608284   -5.866639    1.7388194\\n -1.9922409   4.966856   -2.8139687   0.71535516  2.1941965   0.5329046\\n -1.282264    2.030259   -2.6674488  -0.7532396   2.7195477  -0.01707252\\n -3.629285   -0.0595606  -2.704535   -3.0564141   2.1911702  -2.2490547\\n -1.806022   -1.2372955  -0.28641292 -1.9026833   5.2192802   2.407256\\n -1.0810263   0.03080905  6.9076824  -0.6451012   2.0405283  -3.1574235\\n -2.6417298  -3.9875042  -1.865415   -0.6018868   0.4938617   1.7977579\\n  2.2184997  -0.61833507  0.91507673 -0.417402    2.0954688  -0.21108495\\n -1.8855808   0.20241113 -1.3737245  -0.22683722  2.1855998  -1.5679941\\n -0.5468842   1.4194771  -1.2874491  -0.126432   -1.5229219  -0.6016686\\n  2.4652593   1.244849    5.182241   -0.07376356 -1.0291357  -1.5905106\\n -0.92195886 -3.0253496  -0.48804104  0.70509773  5.1175413   1.7305943\\n  0.08629841  1.8268392  -4.148244   -1.7829977  -0.79840326 -1.2752831\\n -0.8824923   2.5384307   2.4599319   0.79333264 -1.3335227  -0.4606634\\n -2.6827734   1.4464254  -0.4438997   1.4746807   1.7228829  -1.6360718\\n  4.485599    3.0179706  -1.5385199   2.9604092   2.3722544  -0.18133324\\n  1.5163149  -3.4440784  -1.3430759   2.7147992  -0.30182838  2.6160107\\n  1.2450539  -2.4666896   2.47778    -2.1436672  -1.9641143  -0.1323142\\n  0.9041553  -2.547663   -0.32529718  1.0713652   1.1691755  -0.01794155\\n  1.74124    -4.19259    -1.2604735  -1.1832322   4.2673035  -0.31703898\\n  0.94162    -1.6739434   0.07507572  1.5933671   3.7727363   0.7393267\\n -0.9376169  -4.941583    0.45896143  0.20198166  1.4055482  -3.1082315\\n  2.0313995  -1.2080297   1.4621038  -1.6782677   3.5577364   3.7278266\\n -2.7214193  -3.130701    0.6895689   0.02215512  2.7131922  -0.8039624 ]\",\n          \"[ 1.0924335   1.8054234   2.0120914  -2.5499535  -1.8689294  -1.6954218\\n -1.2240216   1.4343657   2.7549434   3.1884224   0.55912036  6.996933\\n -0.6097317  -0.01922422  1.1799767  -0.39865765 -1.2356001  -3.422365\\n  0.7506548   0.23706308  4.3265862   2.9089339   1.4711263   1.9191823\\n  1.6384255  -1.6284144   6.912787   -0.27117935  0.01761067 -1.2335936\\n  0.9320434  -3.5676544  -0.13443737 -1.8855711   3.937694    3.4560037\\n -1.1877068  -1.1317438  -2.636644   -0.6053167  -2.0433145  -3.0600326\\n -2.390015    0.36344385 -0.33039984 -1.4956435  -0.82834476 -1.197835\\n -3.658774    3.5015242  -1.4290131   2.2656364  -1.0178577  -3.8564932\\n  1.2978011   0.7701194  -0.21500118 -3.1988647   0.9043602  -0.8266713\\n  0.10937966  2.33717     0.8712579  -1.713419    2.5299523   1.5952953\\n  1.3885374  -1.2667166  -5.9136405  -0.8920114  -1.1539799  -0.39830837\\n  3.4721954  -0.5611817   1.554485    0.38219276  2.996193    0.5522846\\n  2.957194   -2.3463316   0.05969029  2.5701969   1.4303628   0.14748351\\n  0.07694767 -2.1315422  -4.853004    1.8735764  -2.0674942  -1.4209837\\n  2.546209    1.7766969   2.585512    0.59754086  0.04902257 -2.6338348\\n -1.0590832   1.414318    3.5706012  -6.300805    1.0316015   2.8809109\\n  0.02927916  3.7801497  -0.57858396 -3.2618427  -0.1681429  -1.191237\\n -0.55570376  2.271441   -0.6461212   0.3690341   4.5855145   0.85853285\\n  1.1271266   3.76664    -1.1524261   3.3655887   2.5033078   5.6314983\\n -0.6290105   0.36029485  0.55519897 -1.5074978  -0.89473087  1.8415493\\n -5.90375     0.5769495  -1.4658576   0.18066742 -1.2115571  -3.0003114\\n -1.8167757   0.9669391   4.2799497   2.3028784   1.9898763   0.3354412\\n -2.0393784  -4.2970724  -1.6098833  -3.1169162  -2.5780659   1.3179278\\n  5.578725    3.1572607  -2.4437141  -3.0014377  -0.96638846  2.7520819\\n  0.61072993  4.164517   -4.548889    0.15922727 -0.6966401   1.7940812\\n -0.6538067  -2.688721    2.3213232  -2.9687006  -4.86897     3.3673549\\n -2.9376493   2.7098587  -4.812704    0.35894185  2.743091   -1.3822043\\n -0.14357793  2.3506193  -2.6655974   1.7082057   2.0788484  -0.6670249\\n -1.8814322  -0.7140061  -0.34964478 -4.7644296   2.245074   -2.863987\\n -1.9791044  -0.46945283  1.3037686  -0.9839495   5.5067606   5.0302453\\n  0.5543504   2.8339686   5.5389986   1.1335608  -1.9357274  -3.0181305\\n -5.0877714  -3.1908345   1.9537044   0.01824619  2.0139592   2.5993326\\n  1.541348   -1.0760864  -0.9464714  -2.2568295   1.8212621  -0.41395426\\n -2.6239069   0.6383035   0.41989136 -0.6492803   2.7631638  -1.6960207\\n  1.9181298  -1.0462304  -1.779352    3.6042986  -0.028115    1.035079\\n  2.1879764   3.3210614   6.685985    0.23543033 -1.4159893  -1.3118721\\n  0.45210025 -2.5687141  -2.1222332  -0.599014    3.5944245  -0.28390056\\n -0.41189942  0.15752368 -3.0723531   0.3523326  -1.9039224  -3.201938\\n -0.6335332   3.202245    0.71812636 -0.17488171  1.3238856   1.1035316\\n -2.742677    2.8253243  -1.6110101   0.04582098  3.586358   -1.7600521\\n  4.659746    4.9240947  -3.0675125   5.079654   -0.59800315  1.4575093\\n  2.1128926  -4.1688004  -0.4981206   4.140371   -0.07752868  1.5798573\\n -0.4195513  -1.2578719   0.6304402  -1.1734409   0.923091    1.5152991\\n -0.12085065 -2.5635443   3.2346344   1.6949017   3.827781   -0.15194076\\n  2.8556566  -3.874308   -0.09446685  0.4001231   2.7132776  -1.4997665\\n  0.8591477  -2.3460958   0.01340631  3.9422112   6.60274    -0.49357262\\n -3.0887096  -4.182891   -0.92122084 -1.9507172  -0.2512463  -0.7839422\\n  2.0756705  -1.147399    0.61197263 -1.0483435   4.905862    5.4830437\\n -2.2986538  -1.3265051   1.7614328  -2.1926322  -0.02530033 -2.0426342 ]\"\n        ],\n        \"semantic_type\": \"\",\n        \"description\": \"\"\n      }\n    },\n    {\n      \"column\": \"weight\",\n      \"properties\": {\n        \"dtype\": \"number\",\n        \"std\": 0.16900700238746305,\n        \"min\": 0.0,\n        \"max\": 1.0,\n        \"num_unique_values\": 739,\n        \"samples\": [\n          0.3534017570506377,\n          0.8309081943791906,\n          0.7367458935479382\n        ],\n        \"semantic_type\": \"\",\n        \"description\": \"\"\n      }\n    },\n    {\n      \"column\": \"sweet\",\n      \"properties\": {\n        \"dtype\": \"number\",\n        \"std\": 0.09285702985277143,\n        \"min\": 0.0,\n        \"max\": 1.0,\n        \"num_unique_values\": 738,\n        \"samples\": [\n          0.632469431215606,\n          0.6912139341769561,\n          0.7393588958735547\n        ],\n        \"semantic_type\": \"\",\n        \"description\": \"\"\n      }\n    },\n    {\n      \"column\": \"acid\",\n      \"properties\": {\n        \"dtype\": \"number\",\n        \"std\": 0.08908912401286169,\n        \"min\": 0.0,\n        \"max\": 1.0,\n        \"num_unique_values\": 739,\n        \"samples\": [\n          0.9449422309475376,\n          0.9720712368544736,\n          0.985807833366717\n        ],\n        \"semantic_type\": \"\",\n        \"description\": \"\"\n      }\n    },\n    {\n      \"column\": \"salt\",\n      \"properties\": {\n        \"dtype\": \"number\",\n        \"std\": 0,\n        \"min\": 0,\n        \"max\": 0,\n        \"num_unique_values\": 1,\n        \"samples\": [\n          0\n        ],\n        \"semantic_type\": \"\",\n        \"description\": \"\"\n      }\n    },\n    {\n      \"column\": \"piquant\",\n      \"properties\": {\n        \"dtype\": \"number\",\n        \"std\": 0.1634893726027913,\n        \"min\": 0.0,\n        \"max\": 1.0,\n        \"num_unique_values\": 660,\n        \"samples\": [\n          0.1079434068439624\n        ],\n        \"semantic_type\": \"\",\n        \"description\": \"\"\n      }\n    },\n    {\n      \"column\": \"fat\",\n      \"properties\": {\n        \"dtype\": \"number\",\n        \"std\": 0.13811093088183174,\n        \"min\": 0.0,\n        \"max\": 1.0,\n        \"num_unique_values\": 613,\n        \"samples\": [\n          0.1818985204263452\n        ],\n        \"semantic_type\": \"\",\n        \"description\": \"\"\n      }\n    },\n    {\n      \"column\": \"bitter\",\n      \"properties\": {\n        \"dtype\": \"number\",\n        \"std\": 0,\n        \"min\": 0,\n        \"max\": 0,\n        \"num_unique_values\": 1,\n        \"samples\": [\n          0\n        ],\n        \"semantic_type\": \"\",\n        \"description\": \"\"\n      }\n    }\n  ]\n}"
            }
          },
          "metadata": {},
          "execution_count": 9
        }
      ],
      "source": [
        "wine_variety_vectors = pd.read_csv(file_path)\n",
        "wine_variety_vectors.head()"
      ]
    },
    {
      "cell_type": "code",
      "source": [],
      "metadata": {
        "id": "DQ-b6e7XhIl6",
        "outputId": "864a23af-0e81-4988-d63a-f9f3639e78fa",
        "colab": {
          "base_uri": "https://localhost:8080/",
          "height": 139
        }
      },
      "execution_count": 50,
      "outputs": [
        {
          "output_type": "error",
          "ename": "NameError",
          "evalue": "name 'wine_variety_descriptors' is not defined",
          "traceback": [
            "\u001b[0;31m---------------------------------------------------------------------------\u001b[0m",
            "\u001b[0;31mNameError\u001b[0m                                 Traceback (most recent call last)",
            "\u001b[0;32m<ipython-input-50-9de18598f73e>\u001b[0m in \u001b[0;36m<cell line: 1>\u001b[0;34m()\u001b[0m\n\u001b[0;32m----> 1\u001b[0;31m \u001b[0mwine_variety_descriptors\u001b[0m\u001b[0;34m.\u001b[0m\u001b[0mdtypes\u001b[0m\u001b[0;34m(\u001b[0m\u001b[0;34m)\u001b[0m\u001b[0;34m\u001b[0m\u001b[0;34m\u001b[0m\u001b[0m\n\u001b[0m",
            "\u001b[0;31mNameError\u001b[0m: name 'wine_variety_descriptors' is not defined"
          ]
        }
      ]
    },
    {
      "cell_type": "markdown",
      "metadata": {
        "id": "kGH_Jec4aBqm"
      },
      "source": [
        "Before we proceed, we should make sure that the nonaromas are modeled on a scale from low to high for each flavor. At a glance, those for weight, acid, salt and bitter need to be flipped."
      ]
    },
    {
      "cell_type": "code",
      "execution_count": 10,
      "metadata": {
        "id": "OeGowExtaBqm"
      },
      "outputs": [],
      "source": [
        "wine_variety_vectors['weight'] = wine_variety_vectors['weight'].apply(lambda x: 1 - x)\n",
        "wine_variety_vectors['acid'] = wine_variety_vectors['acid'].apply(lambda x: 1 - x)\n",
        "wine_variety_vectors['salt'] = wine_variety_vectors['salt'].apply(lambda x: 1 - x)\n",
        "wine_variety_vectors['bitter'] = wine_variety_vectors['bitter'].apply(lambda x: 1 - x)"
      ]
    },
    {
      "cell_type": "markdown",
      "metadata": {
        "id": "yz3jpN2MaBqn"
      },
      "source": [
        "Let's load the other files we'll need:"
      ]
    },
    {
      "cell_type": "code",
      "source": [
        "file_path1 = '/content/drive/My Drive/Final Project/wine_food_pairing/wine_variety_descriptors.csv'\n",
        "file_path2 = '/content/drive/My Drive/Final Project/wine_food_pairing/food_word2vec_model.bin'\n",
        "file_path3 = '/content/drive/My Drive/Final Project/wine_food_pairing/average_nonaroma_vectors.csv'"
      ],
      "metadata": {
        "id": "eOGZKEKUcMgf"
      },
      "execution_count": 11,
      "outputs": []
    },
    {
      "cell_type": "code",
      "source": [
        "wine_variety_descriptors.dtypes()"
      ],
      "metadata": {
        "id": "_KEuxGWthSrk",
        "outputId": "86ac2ace-ae81-4d63-ad32-7a1ed087353f",
        "colab": {
          "base_uri": "https://localhost:8080/",
          "height": 139
        }
      },
      "execution_count": 51,
      "outputs": [
        {
          "output_type": "error",
          "ename": "NameError",
          "evalue": "name 'wine_variety_descriptors' is not defined",
          "traceback": [
            "\u001b[0;31m---------------------------------------------------------------------------\u001b[0m",
            "\u001b[0;31mNameError\u001b[0m                                 Traceback (most recent call last)",
            "\u001b[0;32m<ipython-input-51-9de18598f73e>\u001b[0m in \u001b[0;36m<cell line: 1>\u001b[0;34m()\u001b[0m\n\u001b[0;32m----> 1\u001b[0;31m \u001b[0mwine_variety_descriptors\u001b[0m\u001b[0;34m.\u001b[0m\u001b[0mdtypes\u001b[0m\u001b[0;34m(\u001b[0m\u001b[0;34m)\u001b[0m\u001b[0;34m\u001b[0m\u001b[0;34m\u001b[0m\u001b[0m\n\u001b[0m",
            "\u001b[0;31mNameError\u001b[0m: name 'wine_variety_descriptors' is not defined"
          ]
        }
      ]
    },
    {
      "cell_type": "code",
      "execution_count": 12,
      "metadata": {
        "id": "0FD_BdrmaBqn"
      },
      "outputs": [],
      "source": [
        "# a file containing the 50 most frequently appearing descriptors for each wine\n",
        "descriptor_frequencies = pd.read_csv(file_path1)\n",
        "\n",
        "# our word2vec model for all wine and food terms\n",
        "wine_word2vec_model = Word2Vec.load(file_path2)\n",
        "word_vectors = wine_word2vec_model.wv\n",
        "\n",
        "# a file with the average wine nonaroma vectors for each nonaroma\n",
        "food_nonaroma_infos = pd.read_csv(file_path3)"
      ]
    },
    {
      "cell_type": "code",
      "source": [
        "descriptor_frequencies.dtypes()"
      ],
      "metadata": {
        "id": "eEaFEh1shVJl",
        "outputId": "ba959eb5-7e79-44bc-cc78-e7a63ec39454",
        "colab": {
          "base_uri": "https://localhost:8080/",
          "height": 139
        }
      },
      "execution_count": 52,
      "outputs": [
        {
          "output_type": "error",
          "ename": "TypeError",
          "evalue": "'Series' object is not callable",
          "traceback": [
            "\u001b[0;31m---------------------------------------------------------------------------\u001b[0m",
            "\u001b[0;31mTypeError\u001b[0m                                 Traceback (most recent call last)",
            "\u001b[0;32m<ipython-input-52-6fce2a72ed7a>\u001b[0m in \u001b[0;36m<cell line: 1>\u001b[0;34m()\u001b[0m\n\u001b[0;32m----> 1\u001b[0;31m \u001b[0mdescriptor_frequencies\u001b[0m\u001b[0;34m.\u001b[0m\u001b[0mdtypes\u001b[0m\u001b[0;34m(\u001b[0m\u001b[0;34m)\u001b[0m\u001b[0;34m\u001b[0m\u001b[0;34m\u001b[0m\u001b[0m\n\u001b[0m",
            "\u001b[0;31mTypeError\u001b[0m: 'Series' object is not callable"
          ]
        }
      ]
    },
    {
      "cell_type": "code",
      "source": [
        "print(wine_variety_vectors.columns)\n",
        "print(descriptor_frequencies.columns)\n",
        "print(food_nonaroma_infos.columns)"
      ],
      "metadata": {
        "id": "QDLdFTDbhfys",
        "outputId": "f0abb0b8-69dc-488f-a3cd-331e58139dde",
        "colab": {
          "base_uri": "https://localhost:8080/"
        }
      },
      "execution_count": 53,
      "outputs": [
        {
          "output_type": "stream",
          "name": "stdout",
          "text": [
            "Index(['aroma', 'weight', 'sweet', 'acid', 'salt', 'piquant', 'fat', 'bitter'], dtype='object')\n",
            "Index(['index', 'descriptors', 'relative_frequency'], dtype='object')\n",
            "Index(['farthest', 'closest', 'average_vec'], dtype='object')\n"
          ]
        }
      ]
    },
    {
      "cell_type": "code",
      "source": [
        "print(wine_variety_vectors.index)\n",
        "print(descriptor_frequencies.index)\n",
        "print(food_nonaroma_infos.index)"
      ],
      "metadata": {
        "id": "gpKEKKLmhh2v",
        "outputId": "12331920-ec75-43e4-cc93-69edd0220398",
        "colab": {
          "base_uri": "https://localhost:8080/"
        }
      },
      "execution_count": 54,
      "outputs": [
        {
          "output_type": "stream",
          "name": "stdout",
          "text": [
            "RangeIndex(start=0, stop=739, step=1)\n",
            "RangeIndex(start=0, stop=21469, step=1)\n",
            "Index(['weight', 'sweet', 'acid', 'salt', 'piquant', 'fat', 'bitter'], dtype='object', name='Unnamed: 0')\n"
          ]
        }
      ]
    },
    {
      "cell_type": "code",
      "source": [
        "print(wine_recommendations.head())\n",
        "print(food_nonaromas)\n",
        "print(food_weight)"
      ],
      "metadata": {
        "id": "S2dDl6rzhlX1",
        "outputId": "0e1a46cd-7f8c-4bd9-ca53-d468880f985c",
        "colab": {
          "base_uri": "https://localhost:8080/"
        }
      },
      "execution_count": 55,
      "outputs": [
        {
          "output_type": "stream",
          "name": "stdout",
          "text": [
            "   index                                              aroma  weight  sweet  \\\n",
            "0    193  [3.6170471, -2.5913758, 0.96421856, -3.279789,...       2      2   \n",
            "1    556  [5.2432156, -1.2206883, 1.6791562, -3.6666715,...       3      2   \n",
            "2    198  [3.741254, -3.297289, 0.9975004, -3.4976885, 0...       3      2   \n",
            "3    628  [4.2170572, -2.7370536, 0.72930068, -2.4595389...       3      3   \n",
            "4    157  [3.6520329, -2.620361, 1.131393, -3.2362242, -...       2      2   \n",
            "\n",
            "   acid  salt  piquant  fat  bitter pairing_type  aroma_distance  \n",
            "0     4     4        1    2       4  contrasting        0.302175  \n",
            "1     3     4        1    1       4  contrasting        0.304311  \n",
            "2     4     4        1    2       4  contrasting        0.304467  \n",
            "3     3     4        1    1       4  contrasting        0.309213  \n",
            "4     3     4        1    2       4  contrasting        0.310258  \n",
            "{'sweet': (0.8927243630794977, 4), 'acid': (0.6724349682464564, 3), 'salt': (0.38513325472932425, 2), 'piquant': (0.30745579223486363, 1), 'fat': (0.6479118272938675, 4), 'bitter': (0.49642615808542345, 2)}\n",
            "(0.5201521630261822, 3)\n"
          ]
        }
      ]
    },
    {
      "cell_type": "code",
      "source": [
        "food_nonaroma_infos.set_index('Unnamed: 0', inplace=True)"
      ],
      "metadata": {
        "id": "PslkLuOGd2ck"
      },
      "execution_count": 28,
      "outputs": []
    },
    {
      "cell_type": "code",
      "source": [
        "print(wine_recommendations.columns)"
      ],
      "metadata": {
        "colab": {
          "base_uri": "https://localhost:8080/"
        },
        "id": "1Kvnstpre4GF",
        "outputId": "0ec22c2d-7ad9-4581-bf63-632cea8a57d1"
      },
      "execution_count": 47,
      "outputs": [
        {
          "output_type": "stream",
          "name": "stdout",
          "text": [
            "Index(['index', 'aroma', 'weight', 'sweet', 'acid', 'salt', 'piquant', 'fat',\n",
            "       'bitter', 'pairing_type', 'aroma_distance'],\n",
            "      dtype='object')\n"
          ]
        }
      ]
    },
    {
      "cell_type": "code",
      "source": [
        "wine_recommendations.set_index('Unnamed: 0', inplace=True)"
      ],
      "metadata": {
        "id": "esJLAPaigN_u",
        "outputId": "ba03f044-fbfe-4366-e0fb-3d3ad3c60374",
        "colab": {
          "base_uri": "https://localhost:8080/",
          "height": 275
        }
      },
      "execution_count": 49,
      "outputs": [
        {
          "output_type": "error",
          "ename": "KeyError",
          "evalue": "\"None of ['Unnamed: 0'] are in the columns\"",
          "traceback": [
            "\u001b[0;31m---------------------------------------------------------------------------\u001b[0m",
            "\u001b[0;31mKeyError\u001b[0m                                  Traceback (most recent call last)",
            "\u001b[0;32m<ipython-input-49-227e162720c6>\u001b[0m in \u001b[0;36m<cell line: 1>\u001b[0;34m()\u001b[0m\n\u001b[0;32m----> 1\u001b[0;31m \u001b[0mwine_recommendations\u001b[0m\u001b[0;34m.\u001b[0m\u001b[0mset_index\u001b[0m\u001b[0;34m(\u001b[0m\u001b[0;34m'Unnamed: 0'\u001b[0m\u001b[0;34m,\u001b[0m \u001b[0minplace\u001b[0m\u001b[0;34m=\u001b[0m\u001b[0;32mTrue\u001b[0m\u001b[0;34m)\u001b[0m\u001b[0;34m\u001b[0m\u001b[0;34m\u001b[0m\u001b[0m\n\u001b[0m",
            "\u001b[0;32m/usr/local/lib/python3.10/dist-packages/pandas/core/frame.py\u001b[0m in \u001b[0;36mset_index\u001b[0;34m(self, keys, drop, append, inplace, verify_integrity)\u001b[0m\n\u001b[1;32m   6120\u001b[0m \u001b[0;34m\u001b[0m\u001b[0m\n\u001b[1;32m   6121\u001b[0m         \u001b[0;32mif\u001b[0m \u001b[0mmissing\u001b[0m\u001b[0;34m:\u001b[0m\u001b[0;34m\u001b[0m\u001b[0;34m\u001b[0m\u001b[0m\n\u001b[0;32m-> 6122\u001b[0;31m             \u001b[0;32mraise\u001b[0m \u001b[0mKeyError\u001b[0m\u001b[0;34m(\u001b[0m\u001b[0;34mf\"None of {missing} are in the columns\"\u001b[0m\u001b[0;34m)\u001b[0m\u001b[0;34m\u001b[0m\u001b[0;34m\u001b[0m\u001b[0m\n\u001b[0m\u001b[1;32m   6123\u001b[0m \u001b[0;34m\u001b[0m\u001b[0m\n\u001b[1;32m   6124\u001b[0m         \u001b[0;32mif\u001b[0m \u001b[0minplace\u001b[0m\u001b[0;34m:\u001b[0m\u001b[0;34m\u001b[0m\u001b[0;34m\u001b[0m\u001b[0m\n",
            "\u001b[0;31mKeyError\u001b[0m: \"None of ['Unnamed: 0'] are in the columns\""
          ]
        }
      ]
    },
    {
      "cell_type": "code",
      "source": [
        "print(wine_recommendations.head())"
      ],
      "metadata": {
        "colab": {
          "base_uri": "https://localhost:8080/"
        },
        "id": "FMfskeatfBRR",
        "outputId": "1258660e-3b79-41bf-e670-01ff01296f70"
      },
      "execution_count": 48,
      "outputs": [
        {
          "output_type": "stream",
          "name": "stdout",
          "text": [
            "   index                                              aroma  weight  sweet  \\\n",
            "0    193  [3.6170471, -2.5913758, 0.96421856, -3.279789,...       2      2   \n",
            "1    556  [5.2432156, -1.2206883, 1.6791562, -3.6666715,...       3      2   \n",
            "2    198  [3.741254, -3.297289, 0.9975004, -3.4976885, 0...       3      2   \n",
            "3    628  [4.2170572, -2.7370536, 0.72930068, -2.4595389...       3      3   \n",
            "4    157  [3.6520329, -2.620361, 1.131393, -3.2362242, -...       2      2   \n",
            "\n",
            "   acid  salt  piquant  fat  bitter pairing_type  aroma_distance  \n",
            "0     4     4        1    2       4  contrasting        0.302175  \n",
            "1     3     4        1    1       4  contrasting        0.304311  \n",
            "2     4     4        1    2       4  contrasting        0.304467  \n",
            "3     3     4        1    1       4  contrasting        0.309213  \n",
            "4     3     4        1    2       4  contrasting        0.310258  \n"
          ]
        }
      ]
    },
    {
      "cell_type": "code",
      "source": [
        "# Reset the index so we can use the 'title' column\n",
        "wine_recommendations.reset_index(inplace=True)\n",
        "\n",
        "# Assuming the column 'title' contains wine names or identifiers\n",
        "wine_recommendations['most_impactful_descriptors'] = wine_recommendations['title'].map(most_impactful_descriptors)"
      ],
      "metadata": {
        "colab": {
          "base_uri": "https://localhost:8080/",
          "height": 537
        },
        "id": "SZL8zqi-euU5",
        "outputId": "0f07b21b-aca7-496b-e3a8-24967766080c"
      },
      "execution_count": 46,
      "outputs": [
        {
          "output_type": "error",
          "ename": "KeyError",
          "evalue": "'title'",
          "traceback": [
            "\u001b[0;31m---------------------------------------------------------------------------\u001b[0m",
            "\u001b[0;31mKeyError\u001b[0m                                  Traceback (most recent call last)",
            "\u001b[0;32m/usr/local/lib/python3.10/dist-packages/pandas/core/indexes/base.py\u001b[0m in \u001b[0;36mget_loc\u001b[0;34m(self, key)\u001b[0m\n\u001b[1;32m   3804\u001b[0m         \u001b[0;32mtry\u001b[0m\u001b[0;34m:\u001b[0m\u001b[0;34m\u001b[0m\u001b[0;34m\u001b[0m\u001b[0m\n\u001b[0;32m-> 3805\u001b[0;31m             \u001b[0;32mreturn\u001b[0m \u001b[0mself\u001b[0m\u001b[0;34m.\u001b[0m\u001b[0m_engine\u001b[0m\u001b[0;34m.\u001b[0m\u001b[0mget_loc\u001b[0m\u001b[0;34m(\u001b[0m\u001b[0mcasted_key\u001b[0m\u001b[0;34m)\u001b[0m\u001b[0;34m\u001b[0m\u001b[0;34m\u001b[0m\u001b[0m\n\u001b[0m\u001b[1;32m   3806\u001b[0m         \u001b[0;32mexcept\u001b[0m \u001b[0mKeyError\u001b[0m \u001b[0;32mas\u001b[0m \u001b[0merr\u001b[0m\u001b[0;34m:\u001b[0m\u001b[0;34m\u001b[0m\u001b[0;34m\u001b[0m\u001b[0m\n",
            "\u001b[0;32mindex.pyx\u001b[0m in \u001b[0;36mpandas._libs.index.IndexEngine.get_loc\u001b[0;34m()\u001b[0m\n",
            "\u001b[0;32mindex.pyx\u001b[0m in \u001b[0;36mpandas._libs.index.IndexEngine.get_loc\u001b[0;34m()\u001b[0m\n",
            "\u001b[0;32mpandas/_libs/hashtable_class_helper.pxi\u001b[0m in \u001b[0;36mpandas._libs.hashtable.PyObjectHashTable.get_item\u001b[0;34m()\u001b[0m\n",
            "\u001b[0;32mpandas/_libs/hashtable_class_helper.pxi\u001b[0m in \u001b[0;36mpandas._libs.hashtable.PyObjectHashTable.get_item\u001b[0;34m()\u001b[0m\n",
            "\u001b[0;31mKeyError\u001b[0m: 'title'",
            "\nThe above exception was the direct cause of the following exception:\n",
            "\u001b[0;31mKeyError\u001b[0m                                  Traceback (most recent call last)",
            "\u001b[0;32m<ipython-input-46-055c600ab95f>\u001b[0m in \u001b[0;36m<cell line: 5>\u001b[0;34m()\u001b[0m\n\u001b[1;32m      3\u001b[0m \u001b[0;34m\u001b[0m\u001b[0m\n\u001b[1;32m      4\u001b[0m \u001b[0;31m# Assuming the column 'title' contains wine names or identifiers\u001b[0m\u001b[0;34m\u001b[0m\u001b[0;34m\u001b[0m\u001b[0m\n\u001b[0;32m----> 5\u001b[0;31m \u001b[0mwine_recommendations\u001b[0m\u001b[0;34m[\u001b[0m\u001b[0;34m'most_impactful_descriptors'\u001b[0m\u001b[0;34m]\u001b[0m \u001b[0;34m=\u001b[0m \u001b[0mwine_recommendations\u001b[0m\u001b[0;34m[\u001b[0m\u001b[0;34m'title'\u001b[0m\u001b[0;34m]\u001b[0m\u001b[0;34m.\u001b[0m\u001b[0mmap\u001b[0m\u001b[0;34m(\u001b[0m\u001b[0mmost_impactful_descriptors\u001b[0m\u001b[0;34m)\u001b[0m\u001b[0;34m\u001b[0m\u001b[0;34m\u001b[0m\u001b[0m\n\u001b[0m",
            "\u001b[0;32m/usr/local/lib/python3.10/dist-packages/pandas/core/frame.py\u001b[0m in \u001b[0;36m__getitem__\u001b[0;34m(self, key)\u001b[0m\n\u001b[1;32m   4100\u001b[0m             \u001b[0;32mif\u001b[0m \u001b[0mself\u001b[0m\u001b[0;34m.\u001b[0m\u001b[0mcolumns\u001b[0m\u001b[0;34m.\u001b[0m\u001b[0mnlevels\u001b[0m \u001b[0;34m>\u001b[0m \u001b[0;36m1\u001b[0m\u001b[0;34m:\u001b[0m\u001b[0;34m\u001b[0m\u001b[0;34m\u001b[0m\u001b[0m\n\u001b[1;32m   4101\u001b[0m                 \u001b[0;32mreturn\u001b[0m \u001b[0mself\u001b[0m\u001b[0;34m.\u001b[0m\u001b[0m_getitem_multilevel\u001b[0m\u001b[0;34m(\u001b[0m\u001b[0mkey\u001b[0m\u001b[0;34m)\u001b[0m\u001b[0;34m\u001b[0m\u001b[0;34m\u001b[0m\u001b[0m\n\u001b[0;32m-> 4102\u001b[0;31m             \u001b[0mindexer\u001b[0m \u001b[0;34m=\u001b[0m \u001b[0mself\u001b[0m\u001b[0;34m.\u001b[0m\u001b[0mcolumns\u001b[0m\u001b[0;34m.\u001b[0m\u001b[0mget_loc\u001b[0m\u001b[0;34m(\u001b[0m\u001b[0mkey\u001b[0m\u001b[0;34m)\u001b[0m\u001b[0;34m\u001b[0m\u001b[0;34m\u001b[0m\u001b[0m\n\u001b[0m\u001b[1;32m   4103\u001b[0m             \u001b[0;32mif\u001b[0m \u001b[0mis_integer\u001b[0m\u001b[0;34m(\u001b[0m\u001b[0mindexer\u001b[0m\u001b[0;34m)\u001b[0m\u001b[0;34m:\u001b[0m\u001b[0;34m\u001b[0m\u001b[0;34m\u001b[0m\u001b[0m\n\u001b[1;32m   4104\u001b[0m                 \u001b[0mindexer\u001b[0m \u001b[0;34m=\u001b[0m \u001b[0;34m[\u001b[0m\u001b[0mindexer\u001b[0m\u001b[0;34m]\u001b[0m\u001b[0;34m\u001b[0m\u001b[0;34m\u001b[0m\u001b[0m\n",
            "\u001b[0;32m/usr/local/lib/python3.10/dist-packages/pandas/core/indexes/base.py\u001b[0m in \u001b[0;36mget_loc\u001b[0;34m(self, key)\u001b[0m\n\u001b[1;32m   3810\u001b[0m             ):\n\u001b[1;32m   3811\u001b[0m                 \u001b[0;32mraise\u001b[0m \u001b[0mInvalidIndexError\u001b[0m\u001b[0;34m(\u001b[0m\u001b[0mkey\u001b[0m\u001b[0;34m)\u001b[0m\u001b[0;34m\u001b[0m\u001b[0;34m\u001b[0m\u001b[0m\n\u001b[0;32m-> 3812\u001b[0;31m             \u001b[0;32mraise\u001b[0m \u001b[0mKeyError\u001b[0m\u001b[0;34m(\u001b[0m\u001b[0mkey\u001b[0m\u001b[0;34m)\u001b[0m \u001b[0;32mfrom\u001b[0m \u001b[0merr\u001b[0m\u001b[0;34m\u001b[0m\u001b[0;34m\u001b[0m\u001b[0m\n\u001b[0m\u001b[1;32m   3813\u001b[0m         \u001b[0;32mexcept\u001b[0m \u001b[0mTypeError\u001b[0m\u001b[0;34m:\u001b[0m\u001b[0;34m\u001b[0m\u001b[0;34m\u001b[0m\u001b[0m\n\u001b[1;32m   3814\u001b[0m             \u001b[0;31m# If we have a listlike key, _check_indexing_error will raise\u001b[0m\u001b[0;34m\u001b[0m\u001b[0;34m\u001b[0m\u001b[0m\n",
            "\u001b[0;31mKeyError\u001b[0m: 'title'"
          ]
        }
      ]
    },
    {
      "cell_type": "markdown",
      "metadata": {
        "id": "nme7HncgaBqn"
      },
      "source": [
        "#### Extracting Nonaroma Values from Food\n",
        "\n",
        "We will need a method to extract nonaroma values from food. We will compute a value for each nonaroma by looking at the distance between a food's embedding and the embedding that represents each nonaroma. We will normalize this to return a value between 0 and 1. Then, we will further standardize this by mapping the value between 0 and 1 to an ordinal integer value between 1 (low) and 4 (high)."
      ]
    },
    {
      "cell_type": "code",
      "execution_count": 30,
      "metadata": {
        "id": "Eh32Ws2saBqn"
      },
      "outputs": [],
      "source": [
        "# this function scales each nonaroma between 0 and 1\n",
        "def minmax_scaler(val, minval, maxval):\n",
        "    val = max(min(val, maxval), minval)\n",
        "    normalized_val = (val - minval)/(maxval - minval)\n",
        "    return normalized_val\n",
        "\n",
        "# this function makes sure that a scaled value (between 0 and 1) is returned for a food nonaroma\n",
        "def check_in_range(label_range_dict, value):\n",
        "    for label, value_range_tuple in label_range_dict.items():\n",
        "        lower_end = value_range_tuple[0]\n",
        "        upper_end = value_range_tuple[1]\n",
        "        if value >= lower_end and value <= upper_end:\n",
        "            return label\n",
        "        else:\n",
        "            continue\n",
        "\n",
        "# this function calculates the average word embedding of all foods supplied as input\n",
        "def calculate_avg_food_vec(sample_foods):\n",
        "    sample_food_vecs = []\n",
        "    for s in sample_foods:\n",
        "        sample_food_vec = word_vectors[s]\n",
        "        sample_food_vecs.append(sample_food_vec)\n",
        "    sample_food_vecs_avg = np.average(sample_food_vecs, axis=0)\n",
        "    return sample_food_vecs_avg\n",
        "\n",
        "# this function returns two things: a score (between 0 and 1) and a normalized value (integer between 1 and 4) for a given nonaroma\n",
        "def nonaroma_values(nonaroma, average_food_embedding):\n",
        "    average_taste_vec = food_nonaroma_infos.at[nonaroma, 'average_vec']\n",
        "    average_taste_vec = re.sub('\\s+', ',', average_taste_vec)\n",
        "    average_taste_vec = average_taste_vec.replace('[,', '[')\n",
        "    average_taste_vec  = np.array(ast.literal_eval(average_taste_vec))\n",
        "\n",
        "    similarity = 1 - spatial.distance.cosine(average_taste_vec, average_food_embedding)\n",
        "    # scale the similarity using our minmax scaler\n",
        "    scaled_similarity = minmax_scaler(similarity, food_nonaroma_infos.at[nonaroma, 'farthest'],\n",
        "                                      food_nonaroma_infos.at[nonaroma, 'closest'])\n",
        "    standardized_similarity = check_in_range(food_weights[nonaroma], scaled_similarity)\n",
        "    similarity_and_scalar = (scaled_similarity, standardized_similarity)\n",
        "    return similarity_and_scalar\n",
        "\n",
        "# this function loops through the various nonaromas, returning the nonaroma scores & normalized values, the body/weight of the food and the average food embedding\n",
        "def return_all_food_values(sample_foods):\n",
        "    food_nonaromas = dict()\n",
        "    average_food_embedding = calculate_avg_food_vec(sample_foods)\n",
        "    for nonaroma in ['sweet', 'acid', 'salt', 'piquant', 'fat', 'bitter']:\n",
        "        food_nonaromas[nonaroma] = nonaroma_values(nonaroma, average_food_embedding)\n",
        "    food_weight = nonaroma_values('weight', average_food_embedding)\n",
        "    return food_nonaromas, food_weight, average_food_embedding"
      ]
    },
    {
      "cell_type": "code",
      "execution_count": 31,
      "metadata": {
        "id": "wYQ71dkUaBqo"
      },
      "outputs": [],
      "source": [
        "# this is the mapping of food similarities to the normalized ordinal integer values between 1 and 4\n",
        "food_weights = {\n",
        "    'weight': {1: (0, 0.3), 2: (0.3, 0.5), 3: (0.5, 0.7), 4: (0.7, 1)},\n",
        "    'sweet': {1: (0, 0.45), 2: (0.45, 0.6), 3: (0.6, 0.8), 4: (0.8, 1)},\n",
        "    'acid': {1: (0, 0.4), 2: (0.4, 0.55), 3: (0.55, 0.7), 4: (0.7, 1)},\n",
        "    'salt': {1: (0, 0.3), 2: (0.3, 0.55), 3: (0.55, 0.8), 4: (0.8, 1)},\n",
        "    'piquant': {1: (0, 0.4), 2: (0.4, 0.6), 3: (0.6, 0.8), 4: (0.8, 1)},\n",
        "    'fat': {1: (0, 0.4), 2: (0.4, 0.5), 3: (0.5, 0.6), 4: (0.6, 1)},\n",
        "    'bitter': {1: (0, 0.3), 2: (0.3, 0.5), 3: (0.5, 0.65), 4: (0.65, 1)}\n",
        "}"
      ]
    },
    {
      "cell_type": "markdown",
      "metadata": {
        "id": "lyvvR8GFaBqo"
      },
      "source": [
        "### Standardizing Nonaroma Values from Wine\n",
        "\n",
        "To compare the nonaroma characteristics of wines and foods, we need to normalize them on the same scale (1-4)."
      ]
    },
    {
      "cell_type": "code",
      "execution_count": 32,
      "metadata": {
        "id": "AvgCU65_aBqo"
      },
      "outputs": [],
      "source": [
        "wine_weights = {\n",
        "    'weight': {1: (0, 0.25), 2: (0.25, 0.45), 3: (0.45, 0.75), 4: (0.75, 1)},\n",
        "    'sweet': {1: (0, 0.25), 2: (0.25, 0.6), 3: (0.6, 0.75), 4: (0.75, 1)},\n",
        "    'acid': {1: (0, 0.05), 2: (0.05, 0.25), 3: (0.25, 0.5), 4: (0.5, 1)},\n",
        "    'salt': {1: (0, 0.15), 2: (0.15, 0.25), 3: (0.25, 0.7), 4: (0.7, 1)},\n",
        "    'piquant': {1: (0, 0.15), 2: (0.15, 0.3), 3: (0.3, 0.6), 4: (0.6, 1)},\n",
        "    'fat': {1: (0, 0.25), 2: (0.25, 0.5), 3: (0.5, 0.7), 4: (0.7, 1)},\n",
        "    'bitter': {1: (0, 0.2), 2: (0.2, 0.37), 3: (0.37, 0.6), 4: (0.6, 1)}\n",
        "}\n",
        "\n",
        "wine_variety_vectors_normalized = wine_variety_vectors.copy()\n",
        "for w, subdict in wine_weights.items():\n",
        "    wine_variety_vectors_normalized[w] = wine_variety_vectors_normalized[w].apply(lambda x: check_in_range(subdict, x))\n",
        "\n",
        "wine_variety_vectors_normalized.sort_index(inplace=True)"
      ]
    },
    {
      "cell_type": "markdown",
      "metadata": {
        "id": "qCUke0sxaBqo"
      },
      "source": [
        "### Pairing Rules\n",
        "\n",
        "Now, we will set some rules for creating wine pairings. We will run the rules below sequentially to eliminate pairings that do not make sense."
      ]
    },
    {
      "cell_type": "code",
      "execution_count": 33,
      "metadata": {
        "id": "K-e8sqPiaBqo"
      },
      "outputs": [],
      "source": [
        "def weight_rule(df, food_weight):\n",
        "    # Rule 1: the wine should have at least the same body as the food\n",
        "    df = df.loc[(df['weight'] >= food_weight[1] - 1) & (df['weight'] <= food_weight[1])]\n",
        "    return df\n",
        "\n",
        "def acidity_rule(df, food_nonaromas):\n",
        "    # Rule 2: the wine should be at least as acidic as the food\n",
        "    df = df.loc[df['acid'] >= food_nonaromas['acid'][1]]\n",
        "    return df\n",
        "\n",
        "def sweetness_rule(df, food_nonaromas):\n",
        "    # Rule 3: the wine should be at least as sweet as the food\n",
        "    df = df.loc[df['sweet'] >= food_nonaromas['sweet'][1]]\n",
        "    return df\n",
        "\n",
        "def bitterness_rule(df, food_nonaromas):\n",
        "    # Rule 4: bitter wines do not pair well with bitter foods\n",
        "    if food_nonaromas['bitter'][1] == 4:\n",
        "        df = df.loc[df['bitter'] <= 2]\n",
        "    return df\n",
        "\n",
        "def bitter_salt_rule(df, food_nonaromas):\n",
        "    # Rule 5: bitter and salt do not go well together\n",
        "    if food_nonaromas['bitter'][1] == 4:\n",
        "        df = df.loc[(df['salt'] <= 2)]\n",
        "    if food_nonaromas['salt'] == 4:\n",
        "        df = df.loc[(df['bitter'][1] <= 2)]\n",
        "    return df\n",
        "\n",
        "def acid_bitter_rule(df, food_nonaromas):\n",
        "    # Rule 6: acid and bitterness do not go well together\n",
        "    if food_nonaromas['acid'][1] == 4:\n",
        "        df = df.loc[(df['bitter'] <= 2)]\n",
        "    if food_nonaromas['bitter'][1] == 4:\n",
        "        df = df.loc[(df['acid'] <= 2)]\n",
        "    return df\n",
        "\n",
        "def acid_piquant_rule(df, food_nonaromas):\n",
        "    # Rule 7: acid and piquant do not go well together\n",
        "    if food_nonaromas['acid'][1] == 4:\n",
        "        df = df.loc[(df['piquant'] <= 2)]\n",
        "    if food_nonaromas['piquant'][1] == 4:\n",
        "        df = df.loc[(df['acid'] <= 2)]\n",
        "    return df\n",
        "\n",
        "def nonaroma_rules(wine_df, food_nonaromas, food_weight):\n",
        "    df = weight_rule(wine_df, food_weight)\n",
        "    list_of_tests = [acidity_rule, sweetness_rule, bitterness_rule, bitter_salt_rule, acid_bitter_rule, acid_piquant_rule]\n",
        "    for t in list_of_tests:\n",
        "        # only apply the rule if it retains a sufficient number of wines in the selection.\n",
        "        df_test = t(df, food_nonaromas)\n",
        "        if df_test.shape[0] > 5:\n",
        "            df = t(df, food_nonaromas)\n",
        "#         print(df.shape)\n",
        "    return df\n"
      ]
    },
    {
      "cell_type": "markdown",
      "metadata": {
        "id": "PW26LFRiaBqp"
      },
      "source": [
        "Now, we would like to find which pairings are contrasting or congruent. Contrasting pairings have nonaroma attributes that are different but that match well, whereas congruent pairings make use of shared compounds between wine and food."
      ]
    },
    {
      "cell_type": "code",
      "execution_count": 34,
      "metadata": {
        "id": "7PrKkwtgaBqp"
      },
      "outputs": [],
      "source": [
        "def sweet_pairing(df, food_nonaromas):\n",
        "    # Rule 1: sweet food goes well with highly bitter, fat, piquant, salt or acid wine\n",
        "    if food_nonaromas['sweet'][1] == 4:\n",
        "        df['pairing_type'] = np.where(((df.bitter == 4) | (df.fat == 4) | (df.piquant == 4) | (df.salt == 4) | (df.acid == 4)), 'contrasting', df.pairing_type)\n",
        "    return df\n",
        "\n",
        "def acid_pairing(df, food_nonaromas):\n",
        "    # Rule 2: acidic food goes well with highly sweet, fat, or salt wine\n",
        "    if food_nonaromas['acid'][1] == 4:\n",
        "        df['pairing_type'] = np.where(((df.sweet == 4) | (df.fat == 4) | (df.salt == 4)), 'contrasting', df.pairing_type)\n",
        "    return df\n",
        "\n",
        "def salt_pairing(df, food_nonaromas):\n",
        "    # Rule 3: sweet food goes well with highly bitter, fat, piquant, salt or acid wine\n",
        "    if food_nonaromas['salt'][1] == 4:\n",
        "        df['pairing_type'] = np.where(((df.bitter == 4) | (df.sweet == 4) | (df.piquant == 4) | (df.fat == 4) | (df.acid == 4)), 'contrasting', df.pairing_type)\n",
        "    return df\n",
        "\n",
        "def piquant_pairing(df, food_nonaromas):\n",
        "    # Rule 4: piquant food goes well with highly sweet, fat, or salt wine\n",
        "    if food_nonaromas['piquant'][1] == 4:\n",
        "        df['pairing_type'] = np.where(((df.sweet == 4) | (df.fat == 4) | (df.salt == 4)), 'contrasting', df.pairing_type)\n",
        "    return df\n",
        "\n",
        "def fat_pairing(df, food_nonaromas):\n",
        "    # Rule 5: fatty food goes well with highly bitter, fat, piquant, salt or acid wine\n",
        "    if food_nonaromas['fat'][1] == 4:\n",
        "        df['pairing_type'] = np.where(((df.bitter == 4) | (df.sweet == 4) | (df.piquant == 4) | (df.salt == 4) | (df.acid == 4)), 'contrasting', df.pairing_type)\n",
        "    return df\n",
        "\n",
        "def bitter_pairing(df, food_nonaromas):\n",
        "    # Rule 6: bitter food goes well with highly sweet, fat, or salt wine\n",
        "    if food_nonaromas['bitter'][1] == 4:\n",
        "        df['pairing_type'] = np.where(((df.sweet == 4) | (df.fat == 4) | (df.salt == 4)), 'contrasting', df.pairing_type)\n",
        "    return df\n",
        "\n",
        "def congruent_pairing(pairing_type, max_food_nonaroma_val, wine_nonaroma_val):\n",
        "    if pairing_type == 'congruent':\n",
        "        return 'congruent'\n",
        "    elif wine_nonaroma_val >= max_food_nonaroma_val:\n",
        "        return 'congruent'\n",
        "    else:\n",
        "        return ''\n",
        "\n",
        "def congruent_or_contrasting(df, food_nonaromas):\n",
        "\n",
        "    # first, look for a congruent match\n",
        "    max_nonaroma_val = max([i[1] for i in list(food_nonaromas.values())])\n",
        "    most_defining_tastes = [key for key, val in food_nonaromas.items() if val[1] == max_nonaroma_val]\n",
        "    df['pairing_type'] = ''\n",
        "    for m in most_defining_tastes:\n",
        "        df['pairing_type'] = df.apply(lambda x: congruent_pairing(x['pairing_type'], food_nonaromas[m][1], x[m]), axis=1)\n",
        "\n",
        "    # then, look for any contrasting matches\n",
        "    list_of_tests = [sweet_pairing, acid_pairing, salt_pairing, piquant_pairing, fat_pairing, bitter_pairing]\n",
        "    for t in list_of_tests:\n",
        "        df = t(df, food_nonaromas)\n",
        "    return df"
      ]
    },
    {
      "cell_type": "markdown",
      "metadata": {
        "id": "uLH9ItX9aBqp"
      },
      "source": [
        "Finally, we will prioritize wine recommendations that share aroma characteristics with the food. We will sort the resulting recommendations by similarity between the wine aroma embedding and the average food embedding, in descending order."
      ]
    },
    {
      "cell_type": "code",
      "execution_count": 35,
      "metadata": {
        "id": "TvrJzD3eaBqp"
      },
      "outputs": [],
      "source": [
        "def sort_by_aroma_similarity(df, food_aroma):\n",
        "\n",
        "    def nparray_str_to_list(array_string):\n",
        "        average_taste_vec = re.sub('\\s+', ',', array_string)\n",
        "        average_taste_vec = average_taste_vec.replace('[,', '[')\n",
        "        average_taste_vec  = np.array(ast.literal_eval(average_taste_vec))\n",
        "        return average_taste_vec\n",
        "\n",
        "    df['aroma'] = df['aroma'].apply(nparray_str_to_list)\n",
        "    df['aroma_distance'] = df['aroma'].apply(lambda x: spatial.distance.cosine(x, food_aroma))\n",
        "    df.sort_values(by=['aroma_distance'], ascending=True, inplace=True)\n",
        "    return df"
      ]
    },
    {
      "cell_type": "markdown",
      "metadata": {
        "id": "gkmF6dqRaBqp"
      },
      "source": [
        "For the top wine recommendations, we would also like to have a bit of additional context on which aroma descriptors in the wine match well with our food."
      ]
    },
    {
      "cell_type": "code",
      "execution_count": 36,
      "metadata": {
        "id": "wdfn8B5taBqp"
      },
      "outputs": [],
      "source": [
        "# these functions return the wine descriptors that most closely match the wine aromas of the selected recommendations. This will help give additional context and justification to the recommendations.\n",
        "\n",
        "def find_descriptor_distance(word, foodvec):\n",
        "    descriptor_wordvec = word_vectors[word]\n",
        "    similarity = 1 - spatial.distance.cosine(descriptor_wordvec, foodvec)\n",
        "    return similarity\n",
        "\n",
        "def most_impactful_descriptors(recommendation):\n",
        "    recommendation_frequencies = descriptor_frequencies.filter(like=recommendation, axis=0)\n",
        "    recommendation_frequencies['similarity'] = recommendation_frequencies['descriptors'].apply(lambda x: find_descriptor_distance(x, aroma_embedding))\n",
        "    recommendation_frequencies.sort_values(['similarity', 'relative_frequency'], ascending=False, inplace=True)\n",
        "    recommendation_frequencies = recommendation_frequencies.head(5)\n",
        "    most_impactful_descriptors = list(recommendation_frequencies['descriptors'])\n",
        "    return most_impactful_descriptors"
      ]
    },
    {
      "cell_type": "markdown",
      "metadata": {
        "id": "8Z_LByjeaBqq"
      },
      "source": [
        "The following function puts all the steps in our recommendation generation process together."
      ]
    },
    {
      "cell_type": "code",
      "execution_count": 37,
      "metadata": {
        "id": "u48FFID7aBqq"
      },
      "outputs": [],
      "source": [
        "def retrieve_pairing_type_info(wine_recommendations, full_nonaroma_table, pairing_type):\n",
        "    pairings = wine_recommendations.loc[wine_recommendations['pairing_type'] == pairing_type].head(4)\n",
        "    wine_names = list(pairings.index)\n",
        "    recommendation_nonaromas = full_nonaroma_table.loc[wine_names, :]\n",
        "    pairing_nonaromas = recommendation_nonaromas[['sweet', 'acid', 'salt', 'piquant', 'fat', 'bitter']].to_dict('records')\n",
        "    pairing_body = list(recommendation_nonaromas['weight'])\n",
        "    impactful_descriptors = list(pairings['most_impactful_descriptors'])\n",
        "    return wine_names, pairing_nonaromas, pairing_body, impactful_descriptors"
      ]
    },
    {
      "cell_type": "markdown",
      "metadata": {
        "id": "lrMjwynraBqq"
      },
      "source": [
        "### Visualization\n",
        "\n",
        "We will want to examine the proposed recommendations in a visual manner. The following cells lay out functions that we can use to generate a visualization of the food nonaromas, and subsequently nonaroma & aroma details for a series of wine recommendations."
      ]
    },
    {
      "cell_type": "code",
      "execution_count": 38,
      "metadata": {
        "id": "ndpzDcZZaBqq"
      },
      "outputs": [],
      "source": [
        "def make_spider(gs, n, data, title, color, pairing_type):\n",
        "\n",
        "    # number of variable\n",
        "    categories = list(food_nonaromas.keys())\n",
        "    N = len(categories)\n",
        "\n",
        "    # What will be the angle of each axis in the plot? (we divide the plot / number of variable)\n",
        "    angles = [n / float(N) * 2 * pi for n in range(N)]\n",
        "    angles += angles[:1]\n",
        "\n",
        "    # Initialise the spider plot\n",
        "    ax = plt.subplot(gs[n], polar=True, )\n",
        "\n",
        "    # If you want the first axis to be on top:\n",
        "    ax.set_theta_offset(pi / 2)\n",
        "    ax.set_theta_direction(-1)\n",
        "\n",
        "    # Draw one axe per variable + add labels labels yet\n",
        "    plt.xticks(angles[:-1], categories, color='grey', size=11)\n",
        "\n",
        "    # Draw ylabels\n",
        "    ax.set_rlabel_position(0)\n",
        "    plt.yticks([0.25, 0.5, 0.75, 1.0], [\"0.25\",\"0.50\",\"0.75\", \"1.00\"], color=\"grey\", size=0)\n",
        "    plt.ylim(0, 1)\n",
        "\n",
        "    # Ind1\n",
        "    values = list(data.values())\n",
        "    values += values[:1]\n",
        "    ax.plot(angles, values, color=color, linewidth=2, linestyle='solid')\n",
        "    ax.fill(angles, values, color=color, alpha=0.4)\n",
        "\n",
        "    # Add a title\n",
        "    # Insert a line break in the title if needed\n",
        "    title_split = str(title).split(',')\n",
        "    new_title = []\n",
        "    for number, word in enumerate(title_split):\n",
        "        if (number % 2) == 0 and number > 0:\n",
        "            updated_word = '\\n' + word.strip()\n",
        "            new_title.append(updated_word)\n",
        "        else:\n",
        "            updated_word = word.strip()\n",
        "            new_title.append(updated_word)\n",
        "    new_title = ', '.join(new_title)\n",
        "\n",
        "    title_incl_pairing_type = new_title + '\\n' + '(' + str(pairing_type) + ')'\n",
        "\n",
        "    plt.title(title_incl_pairing_type, size=13, color='black', y=1.2)"
      ]
    },
    {
      "cell_type": "code",
      "execution_count": 39,
      "metadata": {
        "id": "9_zXnPGEaBqq"
      },
      "outputs": [],
      "source": [
        "def plot_number_line(gs, n, value, dot_color):\n",
        "    ax = plt.subplot(gs[n])\n",
        "    ax.set_xlim(-1, 2)\n",
        "    ax.set_ylim(0, 3)\n",
        "\n",
        "    # draw lines\n",
        "    xmin = 0\n",
        "    xmax = 1\n",
        "    y = 1\n",
        "    height = 0.2\n",
        "\n",
        "    plt.hlines(y, xmin, xmax)\n",
        "    plt.vlines(xmin, y - height / 2., y + height / 2.)\n",
        "    plt.vlines(xmax, y - height / 2., y + height / 2.)\n",
        "\n",
        "    # draw a point on the line\n",
        "    px = value\n",
        "    plt.plot(px, y, 'ko', ms = 10, mfc = dot_color)\n",
        "\n",
        "    # add numbers\n",
        "    plt.text(xmin - 0.1, y, 'Light-Bodied', horizontalalignment='right', fontsize=11, color='grey')\n",
        "    plt.text(xmax + 0.1, y, 'Full-Bodied', horizontalalignment='left', fontsize=11, color='grey')\n",
        "\n",
        "    plt.axis('off')"
      ]
    },
    {
      "cell_type": "code",
      "execution_count": 40,
      "metadata": {
        "id": "4faGe8VdaBqq"
      },
      "outputs": [],
      "source": [
        "def create_text(gs, n, impactful_descriptors):\n",
        "    ax = plt.subplot(gs[n])\n",
        "\n",
        "    ax.set_xticks([])\n",
        "    ax.set_yticks([])\n",
        "    for spine in ax.spines.values():\n",
        "        spine.set_visible(False)\n",
        "    ax.invert_yaxis()\n",
        "\n",
        "    text = f'Complementary wine aromas:\\n\\n{impactful_descriptors[0]}, \\n{impactful_descriptors[1]}, \\n{impactful_descriptors[2]}, \\n{impactful_descriptors[3]}, \\n{impactful_descriptors[4]}'\n",
        "    ax.text(x=0, y=1, s=text, fontsize=12, color='grey')"
      ]
    },
    {
      "cell_type": "code",
      "execution_count": 41,
      "metadata": {
        "id": "lEz617_gaBqr"
      },
      "outputs": [],
      "source": [
        "def plot_wine_recommendations(pairing_wines, pairing_nonaromas, pairing_body, impactful_descriptors, pairing_types):\n",
        "\n",
        "    subplot_rows = 3\n",
        "    subplot_columns = 4\n",
        "    plt.figure(figsize=(20, 7), dpi=96)\n",
        "\n",
        "    gs = gridspec.GridSpec(3, 4, height_ratios=[3, 0.5, 1])\n",
        "\n",
        "    spider_nr = 0\n",
        "    number_line_nr = 4\n",
        "    descriptor_nr = 8\n",
        "\n",
        "    for w in range(4):\n",
        "        make_spider(gs, spider_nr, pairing_nonaromas[w], pairing_wines[w], 'red', pairing_types[w])\n",
        "        plot_number_line(gs, number_line_nr, pairing_body[w], dot_color='red')\n",
        "        create_text(gs, descriptor_nr, impactful_descriptors[w])\n",
        "        spider_nr += 1\n",
        "        number_line_nr += 1\n",
        "        descriptor_nr += 1"
      ]
    },
    {
      "cell_type": "markdown",
      "metadata": {
        "id": "lwLjHg_faBqr"
      },
      "source": [
        "It's showtime. Time to generate our wine recommendations."
      ]
    },
    {
      "cell_type": "code",
      "source": [
        "print(food_nonaroma_infos.index)\n",
        "print(food_nonaroma_infos.columns)"
      ],
      "metadata": {
        "colab": {
          "base_uri": "https://localhost:8080/"
        },
        "id": "0Qo5hJ_IdUI8",
        "outputId": "e888699b-03b6-4fcb-d019-fd9aa79a1514"
      },
      "execution_count": 42,
      "outputs": [
        {
          "output_type": "stream",
          "name": "stdout",
          "text": [
            "Index(['weight', 'sweet', 'acid', 'salt', 'piquant', 'fat', 'bitter'], dtype='object', name='Unnamed: 0')\n",
            "Index(['farthest', 'closest', 'average_vec'], dtype='object')\n"
          ]
        }
      ]
    },
    {
      "cell_type": "code",
      "source": [
        "print(food_nonaroma_infos.head())"
      ],
      "metadata": {
        "colab": {
          "base_uri": "https://localhost:8080/"
        },
        "id": "_2f4OhEfdZCP",
        "outputId": "2290fb7e-ab92-474b-c7d8-1747060d898f"
      },
      "execution_count": 43,
      "outputs": [
        {
          "output_type": "stream",
          "name": "stdout",
          "text": [
            "            farthest   closest  \\\n",
            "Unnamed: 0                       \n",
            "weight     -0.112542  0.546997   \n",
            "sweet      -0.178080  0.569045   \n",
            "acid       -0.122667  0.576622   \n",
            "salt       -0.145948  0.604643   \n",
            "piquant    -0.113430  0.347895   \n",
            "\n",
            "                                                  average_vec  \n",
            "Unnamed: 0                                                     \n",
            "weight      [-3.91950518e-01  1.47827134e-01 -2.20653694e-...  \n",
            "sweet       [ 0.6886504  -0.56699586 -0.62899655 -1.280294...  \n",
            "acid        [ 6.49246395e-01  4.74704623e-01  1.22554518e-...  \n",
            "salt        [ 1.63945481e-01  4.76453900e-01  1.99856743e-...  \n",
            "piquant     [ 0.27950513 -0.90266985  0.64406705 -0.757049...  \n"
          ]
        }
      ]
    },
    {
      "cell_type": "code",
      "source": [
        "print(wine_recommendations.index)\n",
        "print(wine_recommendations.index.dtype)"
      ],
      "metadata": {
        "colab": {
          "base_uri": "https://localhost:8080/"
        },
        "id": "H3deiXSteS9O",
        "outputId": "e323de2f-d46d-4cf4-aeee-7ee6f45128f5"
      },
      "execution_count": 45,
      "outputs": [
        {
          "output_type": "stream",
          "name": "stdout",
          "text": [
            "Index([193, 556, 198, 628, 157,   5, 613, 194, 192, 195, 708, 241, 592, 720,\n",
            "       609, 702, 611, 552, 615, 703, 249, 376, 304, 692, 113, 474, 305, 127],\n",
            "      dtype='int64')\n",
            "int64\n"
          ]
        }
      ]
    },
    {
      "cell_type": "code",
      "execution_count": 44,
      "metadata": {
        "colab": {
          "base_uri": "https://localhost:8080/",
          "height": 418
        },
        "id": "bBgdneglaBqr",
        "outputId": "c44ecd55-7214-4848-900f-68b87f27b6f6"
      },
      "outputs": [
        {
          "output_type": "error",
          "ename": "TypeError",
          "evalue": "'in <string>' requires string as left operand, not int",
          "traceback": [
            "\u001b[0;31m---------------------------------------------------------------------------\u001b[0m",
            "\u001b[0;31mTypeError\u001b[0m                                 Traceback (most recent call last)",
            "\u001b[0;32m<ipython-input-44-01f6d93e0532>\u001b[0m in \u001b[0;36m<cell line: 12>\u001b[0;34m()\u001b[0m\n\u001b[1;32m     10\u001b[0m \u001b[0mwine_recommendations\u001b[0m \u001b[0;34m=\u001b[0m \u001b[0mcongruent_or_contrasting\u001b[0m\u001b[0;34m(\u001b[0m\u001b[0mwine_recommendations\u001b[0m\u001b[0;34m,\u001b[0m \u001b[0mfood_nonaromas\u001b[0m\u001b[0;34m)\u001b[0m\u001b[0;34m\u001b[0m\u001b[0;34m\u001b[0m\u001b[0m\n\u001b[1;32m     11\u001b[0m \u001b[0mwine_recommendations\u001b[0m \u001b[0;34m=\u001b[0m \u001b[0msort_by_aroma_similarity\u001b[0m\u001b[0;34m(\u001b[0m\u001b[0mwine_recommendations\u001b[0m\u001b[0;34m,\u001b[0m \u001b[0maroma_embedding\u001b[0m\u001b[0;34m)\u001b[0m\u001b[0;34m\u001b[0m\u001b[0;34m\u001b[0m\u001b[0m\n\u001b[0;32m---> 12\u001b[0;31m \u001b[0mwine_recommendations\u001b[0m\u001b[0;34m[\u001b[0m\u001b[0;34m'most_impactful_descriptors'\u001b[0m\u001b[0;34m]\u001b[0m \u001b[0;34m=\u001b[0m \u001b[0mwine_recommendations\u001b[0m\u001b[0;34m.\u001b[0m\u001b[0mindex\u001b[0m\u001b[0;34m.\u001b[0m\u001b[0mmap\u001b[0m\u001b[0;34m(\u001b[0m\u001b[0mmost_impactful_descriptors\u001b[0m\u001b[0;34m)\u001b[0m\u001b[0;34m\u001b[0m\u001b[0;34m\u001b[0m\u001b[0m\n\u001b[0m\u001b[1;32m     13\u001b[0m \u001b[0;34m\u001b[0m\u001b[0m\n\u001b[1;32m     14\u001b[0m \u001b[0;31m# see if there are any contrasting suggestions\u001b[0m\u001b[0;34m\u001b[0m\u001b[0;34m\u001b[0m\u001b[0m\n",
            "\u001b[0;32m/usr/local/lib/python3.10/dist-packages/pandas/core/indexes/base.py\u001b[0m in \u001b[0;36mmap\u001b[0;34m(self, mapper, na_action)\u001b[0m\n\u001b[1;32m   6489\u001b[0m         \u001b[0;32mfrom\u001b[0m \u001b[0mpandas\u001b[0m\u001b[0;34m.\u001b[0m\u001b[0mcore\u001b[0m\u001b[0;34m.\u001b[0m\u001b[0mindexes\u001b[0m\u001b[0;34m.\u001b[0m\u001b[0mmulti\u001b[0m \u001b[0;32mimport\u001b[0m \u001b[0mMultiIndex\u001b[0m\u001b[0;34m\u001b[0m\u001b[0;34m\u001b[0m\u001b[0m\n\u001b[1;32m   6490\u001b[0m \u001b[0;34m\u001b[0m\u001b[0m\n\u001b[0;32m-> 6491\u001b[0;31m         \u001b[0mnew_values\u001b[0m \u001b[0;34m=\u001b[0m \u001b[0mself\u001b[0m\u001b[0;34m.\u001b[0m\u001b[0m_map_values\u001b[0m\u001b[0;34m(\u001b[0m\u001b[0mmapper\u001b[0m\u001b[0;34m,\u001b[0m \u001b[0mna_action\u001b[0m\u001b[0;34m=\u001b[0m\u001b[0mna_action\u001b[0m\u001b[0;34m)\u001b[0m\u001b[0;34m\u001b[0m\u001b[0;34m\u001b[0m\u001b[0m\n\u001b[0m\u001b[1;32m   6492\u001b[0m \u001b[0;34m\u001b[0m\u001b[0m\n\u001b[1;32m   6493\u001b[0m         \u001b[0;31m# we can return a MultiIndex\u001b[0m\u001b[0;34m\u001b[0m\u001b[0;34m\u001b[0m\u001b[0m\n",
            "\u001b[0;32m/usr/local/lib/python3.10/dist-packages/pandas/core/base.py\u001b[0m in \u001b[0;36m_map_values\u001b[0;34m(self, mapper, na_action, convert)\u001b[0m\n\u001b[1;32m    919\u001b[0m             \u001b[0;32mreturn\u001b[0m \u001b[0marr\u001b[0m\u001b[0;34m.\u001b[0m\u001b[0mmap\u001b[0m\u001b[0;34m(\u001b[0m\u001b[0mmapper\u001b[0m\u001b[0;34m,\u001b[0m \u001b[0mna_action\u001b[0m\u001b[0;34m=\u001b[0m\u001b[0mna_action\u001b[0m\u001b[0;34m)\u001b[0m\u001b[0;34m\u001b[0m\u001b[0;34m\u001b[0m\u001b[0m\n\u001b[1;32m    920\u001b[0m \u001b[0;34m\u001b[0m\u001b[0m\n\u001b[0;32m--> 921\u001b[0;31m         \u001b[0;32mreturn\u001b[0m \u001b[0malgorithms\u001b[0m\u001b[0;34m.\u001b[0m\u001b[0mmap_array\u001b[0m\u001b[0;34m(\u001b[0m\u001b[0marr\u001b[0m\u001b[0;34m,\u001b[0m \u001b[0mmapper\u001b[0m\u001b[0;34m,\u001b[0m \u001b[0mna_action\u001b[0m\u001b[0;34m=\u001b[0m\u001b[0mna_action\u001b[0m\u001b[0;34m,\u001b[0m \u001b[0mconvert\u001b[0m\u001b[0;34m=\u001b[0m\u001b[0mconvert\u001b[0m\u001b[0;34m)\u001b[0m\u001b[0;34m\u001b[0m\u001b[0;34m\u001b[0m\u001b[0m\n\u001b[0m\u001b[1;32m    922\u001b[0m \u001b[0;34m\u001b[0m\u001b[0m\n\u001b[1;32m    923\u001b[0m     \u001b[0;34m@\u001b[0m\u001b[0mfinal\u001b[0m\u001b[0;34m\u001b[0m\u001b[0;34m\u001b[0m\u001b[0m\n",
            "\u001b[0;32m/usr/local/lib/python3.10/dist-packages/pandas/core/algorithms.py\u001b[0m in \u001b[0;36mmap_array\u001b[0;34m(arr, mapper, na_action, convert)\u001b[0m\n\u001b[1;32m   1741\u001b[0m     \u001b[0mvalues\u001b[0m \u001b[0;34m=\u001b[0m \u001b[0marr\u001b[0m\u001b[0;34m.\u001b[0m\u001b[0mastype\u001b[0m\u001b[0;34m(\u001b[0m\u001b[0mobject\u001b[0m\u001b[0;34m,\u001b[0m \u001b[0mcopy\u001b[0m\u001b[0;34m=\u001b[0m\u001b[0;32mFalse\u001b[0m\u001b[0;34m)\u001b[0m\u001b[0;34m\u001b[0m\u001b[0;34m\u001b[0m\u001b[0m\n\u001b[1;32m   1742\u001b[0m     \u001b[0;32mif\u001b[0m \u001b[0mna_action\u001b[0m \u001b[0;32mis\u001b[0m \u001b[0;32mNone\u001b[0m\u001b[0;34m:\u001b[0m\u001b[0;34m\u001b[0m\u001b[0;34m\u001b[0m\u001b[0m\n\u001b[0;32m-> 1743\u001b[0;31m         \u001b[0;32mreturn\u001b[0m \u001b[0mlib\u001b[0m\u001b[0;34m.\u001b[0m\u001b[0mmap_infer\u001b[0m\u001b[0;34m(\u001b[0m\u001b[0mvalues\u001b[0m\u001b[0;34m,\u001b[0m \u001b[0mmapper\u001b[0m\u001b[0;34m,\u001b[0m \u001b[0mconvert\u001b[0m\u001b[0;34m=\u001b[0m\u001b[0mconvert\u001b[0m\u001b[0;34m)\u001b[0m\u001b[0;34m\u001b[0m\u001b[0;34m\u001b[0m\u001b[0m\n\u001b[0m\u001b[1;32m   1744\u001b[0m     \u001b[0;32melse\u001b[0m\u001b[0;34m:\u001b[0m\u001b[0;34m\u001b[0m\u001b[0;34m\u001b[0m\u001b[0m\n\u001b[1;32m   1745\u001b[0m         return lib.map_infer_mask(\n",
            "\u001b[0;32mlib.pyx\u001b[0m in \u001b[0;36mpandas._libs.lib.map_infer\u001b[0;34m()\u001b[0m\n",
            "\u001b[0;32m<ipython-input-36-ffd7a5b18e2b>\u001b[0m in \u001b[0;36mmost_impactful_descriptors\u001b[0;34m(recommendation)\u001b[0m\n\u001b[1;32m      7\u001b[0m \u001b[0;34m\u001b[0m\u001b[0m\n\u001b[1;32m      8\u001b[0m \u001b[0;32mdef\u001b[0m \u001b[0mmost_impactful_descriptors\u001b[0m\u001b[0;34m(\u001b[0m\u001b[0mrecommendation\u001b[0m\u001b[0;34m)\u001b[0m\u001b[0;34m:\u001b[0m\u001b[0;34m\u001b[0m\u001b[0;34m\u001b[0m\u001b[0m\n\u001b[0;32m----> 9\u001b[0;31m     \u001b[0mrecommendation_frequencies\u001b[0m \u001b[0;34m=\u001b[0m \u001b[0mdescriptor_frequencies\u001b[0m\u001b[0;34m.\u001b[0m\u001b[0mfilter\u001b[0m\u001b[0;34m(\u001b[0m\u001b[0mlike\u001b[0m\u001b[0;34m=\u001b[0m\u001b[0mrecommendation\u001b[0m\u001b[0;34m,\u001b[0m \u001b[0maxis\u001b[0m\u001b[0;34m=\u001b[0m\u001b[0;36m0\u001b[0m\u001b[0;34m)\u001b[0m\u001b[0;34m\u001b[0m\u001b[0;34m\u001b[0m\u001b[0m\n\u001b[0m\u001b[1;32m     10\u001b[0m     \u001b[0mrecommendation_frequencies\u001b[0m\u001b[0;34m[\u001b[0m\u001b[0;34m'similarity'\u001b[0m\u001b[0;34m]\u001b[0m \u001b[0;34m=\u001b[0m \u001b[0mrecommendation_frequencies\u001b[0m\u001b[0;34m[\u001b[0m\u001b[0;34m'descriptors'\u001b[0m\u001b[0;34m]\u001b[0m\u001b[0;34m.\u001b[0m\u001b[0mapply\u001b[0m\u001b[0;34m(\u001b[0m\u001b[0;32mlambda\u001b[0m \u001b[0mx\u001b[0m\u001b[0;34m:\u001b[0m \u001b[0mfind_descriptor_distance\u001b[0m\u001b[0;34m(\u001b[0m\u001b[0mx\u001b[0m\u001b[0;34m,\u001b[0m \u001b[0maroma_embedding\u001b[0m\u001b[0;34m)\u001b[0m\u001b[0;34m)\u001b[0m\u001b[0;34m\u001b[0m\u001b[0;34m\u001b[0m\u001b[0m\n\u001b[1;32m     11\u001b[0m     \u001b[0mrecommendation_frequencies\u001b[0m\u001b[0;34m.\u001b[0m\u001b[0msort_values\u001b[0m\u001b[0;34m(\u001b[0m\u001b[0;34m[\u001b[0m\u001b[0;34m'similarity'\u001b[0m\u001b[0;34m,\u001b[0m \u001b[0;34m'relative_frequency'\u001b[0m\u001b[0;34m]\u001b[0m\u001b[0;34m,\u001b[0m \u001b[0mascending\u001b[0m\u001b[0;34m=\u001b[0m\u001b[0;32mFalse\u001b[0m\u001b[0;34m,\u001b[0m \u001b[0minplace\u001b[0m\u001b[0;34m=\u001b[0m\u001b[0;32mTrue\u001b[0m\u001b[0;34m)\u001b[0m\u001b[0;34m\u001b[0m\u001b[0;34m\u001b[0m\u001b[0m\n",
            "\u001b[0;32m/usr/local/lib/python3.10/dist-packages/pandas/core/generic.py\u001b[0m in \u001b[0;36mfilter\u001b[0;34m(self, items, like, regex, axis)\u001b[0m\n\u001b[1;32m   5803\u001b[0m                 \u001b[0;32mreturn\u001b[0m \u001b[0mlike\u001b[0m \u001b[0;32min\u001b[0m \u001b[0mensure_str\u001b[0m\u001b[0;34m(\u001b[0m\u001b[0mx\u001b[0m\u001b[0;34m)\u001b[0m\u001b[0;34m\u001b[0m\u001b[0;34m\u001b[0m\u001b[0m\n\u001b[1;32m   5804\u001b[0m \u001b[0;34m\u001b[0m\u001b[0m\n\u001b[0;32m-> 5805\u001b[0;31m             \u001b[0mvalues\u001b[0m \u001b[0;34m=\u001b[0m \u001b[0mlabels\u001b[0m\u001b[0;34m.\u001b[0m\u001b[0mmap\u001b[0m\u001b[0;34m(\u001b[0m\u001b[0mf\u001b[0m\u001b[0;34m)\u001b[0m\u001b[0;34m\u001b[0m\u001b[0;34m\u001b[0m\u001b[0m\n\u001b[0m\u001b[1;32m   5806\u001b[0m             \u001b[0;32mreturn\u001b[0m \u001b[0mself\u001b[0m\u001b[0;34m.\u001b[0m\u001b[0mloc\u001b[0m\u001b[0;34m(\u001b[0m\u001b[0maxis\u001b[0m\u001b[0;34m=\u001b[0m\u001b[0maxis\u001b[0m\u001b[0;34m)\u001b[0m\u001b[0;34m[\u001b[0m\u001b[0mvalues\u001b[0m\u001b[0;34m]\u001b[0m\u001b[0;34m\u001b[0m\u001b[0;34m\u001b[0m\u001b[0m\n\u001b[1;32m   5807\u001b[0m         \u001b[0;32melif\u001b[0m \u001b[0mregex\u001b[0m\u001b[0;34m:\u001b[0m\u001b[0;34m\u001b[0m\u001b[0;34m\u001b[0m\u001b[0m\n",
            "\u001b[0;32m/usr/local/lib/python3.10/dist-packages/pandas/core/indexes/base.py\u001b[0m in \u001b[0;36mmap\u001b[0;34m(self, mapper, na_action)\u001b[0m\n\u001b[1;32m   6489\u001b[0m         \u001b[0;32mfrom\u001b[0m \u001b[0mpandas\u001b[0m\u001b[0;34m.\u001b[0m\u001b[0mcore\u001b[0m\u001b[0;34m.\u001b[0m\u001b[0mindexes\u001b[0m\u001b[0;34m.\u001b[0m\u001b[0mmulti\u001b[0m \u001b[0;32mimport\u001b[0m \u001b[0mMultiIndex\u001b[0m\u001b[0;34m\u001b[0m\u001b[0;34m\u001b[0m\u001b[0m\n\u001b[1;32m   6490\u001b[0m \u001b[0;34m\u001b[0m\u001b[0m\n\u001b[0;32m-> 6491\u001b[0;31m         \u001b[0mnew_values\u001b[0m \u001b[0;34m=\u001b[0m \u001b[0mself\u001b[0m\u001b[0;34m.\u001b[0m\u001b[0m_map_values\u001b[0m\u001b[0;34m(\u001b[0m\u001b[0mmapper\u001b[0m\u001b[0;34m,\u001b[0m \u001b[0mna_action\u001b[0m\u001b[0;34m=\u001b[0m\u001b[0mna_action\u001b[0m\u001b[0;34m)\u001b[0m\u001b[0;34m\u001b[0m\u001b[0;34m\u001b[0m\u001b[0m\n\u001b[0m\u001b[1;32m   6492\u001b[0m \u001b[0;34m\u001b[0m\u001b[0m\n\u001b[1;32m   6493\u001b[0m         \u001b[0;31m# we can return a MultiIndex\u001b[0m\u001b[0;34m\u001b[0m\u001b[0;34m\u001b[0m\u001b[0m\n",
            "\u001b[0;32m/usr/local/lib/python3.10/dist-packages/pandas/core/base.py\u001b[0m in \u001b[0;36m_map_values\u001b[0;34m(self, mapper, na_action, convert)\u001b[0m\n\u001b[1;32m    919\u001b[0m             \u001b[0;32mreturn\u001b[0m \u001b[0marr\u001b[0m\u001b[0;34m.\u001b[0m\u001b[0mmap\u001b[0m\u001b[0;34m(\u001b[0m\u001b[0mmapper\u001b[0m\u001b[0;34m,\u001b[0m \u001b[0mna_action\u001b[0m\u001b[0;34m=\u001b[0m\u001b[0mna_action\u001b[0m\u001b[0;34m)\u001b[0m\u001b[0;34m\u001b[0m\u001b[0;34m\u001b[0m\u001b[0m\n\u001b[1;32m    920\u001b[0m \u001b[0;34m\u001b[0m\u001b[0m\n\u001b[0;32m--> 921\u001b[0;31m         \u001b[0;32mreturn\u001b[0m \u001b[0malgorithms\u001b[0m\u001b[0;34m.\u001b[0m\u001b[0mmap_array\u001b[0m\u001b[0;34m(\u001b[0m\u001b[0marr\u001b[0m\u001b[0;34m,\u001b[0m \u001b[0mmapper\u001b[0m\u001b[0;34m,\u001b[0m \u001b[0mna_action\u001b[0m\u001b[0;34m=\u001b[0m\u001b[0mna_action\u001b[0m\u001b[0;34m,\u001b[0m \u001b[0mconvert\u001b[0m\u001b[0;34m=\u001b[0m\u001b[0mconvert\u001b[0m\u001b[0;34m)\u001b[0m\u001b[0;34m\u001b[0m\u001b[0;34m\u001b[0m\u001b[0m\n\u001b[0m\u001b[1;32m    922\u001b[0m \u001b[0;34m\u001b[0m\u001b[0m\n\u001b[1;32m    923\u001b[0m     \u001b[0;34m@\u001b[0m\u001b[0mfinal\u001b[0m\u001b[0;34m\u001b[0m\u001b[0;34m\u001b[0m\u001b[0m\n",
            "\u001b[0;32m/usr/local/lib/python3.10/dist-packages/pandas/core/algorithms.py\u001b[0m in \u001b[0;36mmap_array\u001b[0;34m(arr, mapper, na_action, convert)\u001b[0m\n\u001b[1;32m   1741\u001b[0m     \u001b[0mvalues\u001b[0m \u001b[0;34m=\u001b[0m \u001b[0marr\u001b[0m\u001b[0;34m.\u001b[0m\u001b[0mastype\u001b[0m\u001b[0;34m(\u001b[0m\u001b[0mobject\u001b[0m\u001b[0;34m,\u001b[0m \u001b[0mcopy\u001b[0m\u001b[0;34m=\u001b[0m\u001b[0;32mFalse\u001b[0m\u001b[0;34m)\u001b[0m\u001b[0;34m\u001b[0m\u001b[0;34m\u001b[0m\u001b[0m\n\u001b[1;32m   1742\u001b[0m     \u001b[0;32mif\u001b[0m \u001b[0mna_action\u001b[0m \u001b[0;32mis\u001b[0m \u001b[0;32mNone\u001b[0m\u001b[0;34m:\u001b[0m\u001b[0;34m\u001b[0m\u001b[0;34m\u001b[0m\u001b[0m\n\u001b[0;32m-> 1743\u001b[0;31m         \u001b[0;32mreturn\u001b[0m \u001b[0mlib\u001b[0m\u001b[0;34m.\u001b[0m\u001b[0mmap_infer\u001b[0m\u001b[0;34m(\u001b[0m\u001b[0mvalues\u001b[0m\u001b[0;34m,\u001b[0m \u001b[0mmapper\u001b[0m\u001b[0;34m,\u001b[0m \u001b[0mconvert\u001b[0m\u001b[0;34m=\u001b[0m\u001b[0mconvert\u001b[0m\u001b[0;34m)\u001b[0m\u001b[0;34m\u001b[0m\u001b[0;34m\u001b[0m\u001b[0m\n\u001b[0m\u001b[1;32m   1744\u001b[0m     \u001b[0;32melse\u001b[0m\u001b[0;34m:\u001b[0m\u001b[0;34m\u001b[0m\u001b[0;34m\u001b[0m\u001b[0m\n\u001b[1;32m   1745\u001b[0m         return lib.map_infer_mask(\n",
            "\u001b[0;32mlib.pyx\u001b[0m in \u001b[0;36mpandas._libs.lib.map_infer\u001b[0;34m()\u001b[0m\n",
            "\u001b[0;32m/usr/local/lib/python3.10/dist-packages/pandas/core/generic.py\u001b[0m in \u001b[0;36mf\u001b[0;34m(x)\u001b[0m\n\u001b[1;32m   5801\u001b[0m             \u001b[0;32mdef\u001b[0m \u001b[0mf\u001b[0m\u001b[0;34m(\u001b[0m\u001b[0mx\u001b[0m\u001b[0;34m)\u001b[0m \u001b[0;34m->\u001b[0m \u001b[0mbool_t\u001b[0m\u001b[0;34m:\u001b[0m\u001b[0;34m\u001b[0m\u001b[0;34m\u001b[0m\u001b[0m\n\u001b[1;32m   5802\u001b[0m                 \u001b[0;32massert\u001b[0m \u001b[0mlike\u001b[0m \u001b[0;32mis\u001b[0m \u001b[0;32mnot\u001b[0m \u001b[0;32mNone\u001b[0m  \u001b[0;31m# needed for mypy\u001b[0m\u001b[0;34m\u001b[0m\u001b[0;34m\u001b[0m\u001b[0m\n\u001b[0;32m-> 5803\u001b[0;31m                 \u001b[0;32mreturn\u001b[0m \u001b[0mlike\u001b[0m \u001b[0;32min\u001b[0m \u001b[0mensure_str\u001b[0m\u001b[0;34m(\u001b[0m\u001b[0mx\u001b[0m\u001b[0;34m)\u001b[0m\u001b[0;34m\u001b[0m\u001b[0;34m\u001b[0m\u001b[0m\n\u001b[0m\u001b[1;32m   5804\u001b[0m \u001b[0;34m\u001b[0m\u001b[0m\n\u001b[1;32m   5805\u001b[0m             \u001b[0mvalues\u001b[0m \u001b[0;34m=\u001b[0m \u001b[0mlabels\u001b[0m\u001b[0;34m.\u001b[0m\u001b[0mmap\u001b[0m\u001b[0;34m(\u001b[0m\u001b[0mf\u001b[0m\u001b[0;34m)\u001b[0m\u001b[0;34m\u001b[0m\u001b[0;34m\u001b[0m\u001b[0m\n",
            "\u001b[0;31mTypeError\u001b[0m: 'in <string>' requires string as left operand, not int"
          ]
        }
      ],
      "source": [
        "test_food = ['hotdog', 'mustard', 'tomato', 'onion', 'pepperoncini', 'gherkin', 'celery', 'relish']\n",
        "appetizer = ['trout', 'dill', 'cucumber', 'sour_cream']\n",
        "entree = ['roast_chicken', 'tarragon', 'sage']\n",
        "dessert = ['peach', 'pie']\n",
        "\n",
        "food_nonaromas, food_weight, aroma_embedding = return_all_food_values(dessert)\n",
        "\n",
        "wine_recommendations = wine_variety_vectors_normalized.copy()\n",
        "wine_recommendations = nonaroma_rules(wine_recommendations, food_nonaromas, food_weight)\n",
        "wine_recommendations = congruent_or_contrasting(wine_recommendations, food_nonaromas)\n",
        "wine_recommendations = sort_by_aroma_similarity(wine_recommendations, aroma_embedding)\n",
        "wine_recommendations['most_impactful_descriptors'] = wine_recommendations.index.map(most_impactful_descriptors)\n",
        "\n",
        "# see if there are any contrasting suggestions\n",
        "try:\n",
        "    contrasting_wines, contrasting_nonaromas, contrasting_body, impactful_descriptors_contrasting = retrieve_pairing_type_info(wine_recommendations, wine_variety_vectors, 'contrasting')\n",
        "except:\n",
        "    contrasting_wines = []\n",
        "\n",
        "try:\n",
        "    congruent_wines, congruent_nonaromas, congruent_body, impactful_descriptors_congruent = retrieve_pairing_type_info(wine_recommendations, wine_variety_vectors, 'congruent')\n",
        "except:\n",
        "    congruent_wines = []\n",
        "\n",
        "# if possible, provide 2 contrasting and 2 congruent options. If not possible, just return 4 options of one type.\n",
        "if len(contrasting_wines) >= 2 and len(congruent_wines) >= 2:\n",
        "    wine_names = contrasting_wines[:2] + congruent_wines[:2]\n",
        "    wine_nonaromas = contrasting_nonaromas[:2] + congruent_nonaromas[:2]\n",
        "    wine_body = contrasting_body[:2] + congruent_body[:2]\n",
        "    impactful_descriptors = impactful_descriptors_contrasting[:2] + impactful_descriptors_congruent[:2]\n",
        "    pairing_types = ['Contrasting', 'Contrasting', 'Congruent', 'Congruent']\n",
        "elif len(contrasting_wines) >= 2:\n",
        "    wine_names = contrasting_wines\n",
        "    wine_nonaromas = contrasting_nonaromas\n",
        "    wine_body = contrasting_body\n",
        "    impactful_descriptors = impactful_descriptors_contrasting\n",
        "    pairing_types = ['Contrasting', 'Contrasting', 'Contrasting', 'Contrasting']\n",
        "else:\n",
        "    wine_names = congruent_wines\n",
        "    wine_nonaromas = congruent_nonaromas\n",
        "    wine_body = congruent_body\n",
        "    impactful_descriptors = impactful_descriptors_congruent\n",
        "    pairing_types = ['Congruent', 'Congruent', 'Congruent', 'Congruent']\n",
        "\n",
        "plot_wine_recommendations(wine_names, wine_nonaromas, wine_body, impactful_descriptors, pairing_types)"
      ]
    },
    {
      "cell_type": "code",
      "execution_count": null,
      "metadata": {
        "id": "455ES5ScaBqr",
        "outputId": "2853876f-1e61-47c8-bfaa-a4a4332c3bb6"
      },
      "outputs": [
        {
          "data": {
            "image/png": "[encoded data removed]",
            "text/plain": [
              "<Figure size 300x375 with 2 Axes>"
            ]
          },
          "metadata": {},
          "output_type": "display_data"
        }
      ],
      "source": [
        "plt.figure(figsize=(4, 5), dpi=75)\n",
        "\n",
        "gs = gridspec.GridSpec(2, 1, height_ratios=[3, 0.5])\n",
        "\n",
        "food_nonaromas_norm = {k: v[0] for k, v in food_nonaromas.items()}\n",
        "\n",
        "food_names = ' + '.join(dessert)\n",
        "make_spider(gs, 0, food_nonaromas_norm, 'Food Flavor Profile:', 'pink', food_names)\n",
        "plot_number_line(gs, 1, food_weight[0], dot_color='pink')"
      ]
    },
    {
      "cell_type": "code",
      "execution_count": null,
      "metadata": {
        "id": "arQlWG7JaBqs",
        "outputId": "356a57a9-d4ea-48b6-fd1b-f60df6ee5d29"
      },
      "outputs": [
        {
          "name": "stdout",
          "output_type": "stream",
          "text": [
            "{'sweet': 0.4613773048272533, 'acid': 0.8096417023389532, 'salt': 0.9014882479880785, 'piquant': 0.695169140975374, 'fat': 0.610969409566638, 'bitter': 0.5461646921026969}\n"
          ]
        }
      ],
      "source": [
        "print(food_nonaromas_norm)"
      ]
    }
  ],
  "metadata": {
    "kernelspec": {
      "display_name": "Python 3",
      "language": "python",
      "name": "python3"
    },
    "language_info": {
      "codemirror_mode": {
        "name": "ipython",
        "version": 3
      },
      "file_extension": ".py",
      "mimetype": "text/x-python",
      "name": "python",
      "nbconvert_exporter": "python",
      "pygments_lexer": "ipython3",
      "version": "3.6.9"
    },
    "colab": {
      "provenance": []
    }
  },
  "nbformat": 4,
  "nbformat_minor": 0
}