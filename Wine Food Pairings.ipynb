{
  "cells": [
    {
      "cell_type": "code",
      "source": [
        "from google.colab import drive\n",
        "drive.mount('/content/drive')"
      ],
      "metadata": {
        "id": "03enyxJ0kJjK",
        "outputId": "860f1cb2-4878-415e-89cf-f9f506bfec35",
        "colab": {
          "base_uri": "https://localhost:8080/"
        }
      },
      "execution_count": 2,
      "outputs": [
        {
          "output_type": "stream",
          "name": "stdout",
          "text": [
            "Mounted at /content/drive\n"
          ]
        }
      ]
    },
    {
      "cell_type": "code",
      "source": [
        "# Debugging code to verify file paths in Notebook 2\n",
        "import os\n",
        "\n",
        "required_files = [\n",
        "    \"wine_aromas_nonaromas.csv\",\n",
        "    \"wine_variety_descriptors.csv\",\n",
        "    \"average_nonaroma_vectors.csv\",\n",
        "    \"food_word2vec_model.bin\",\n",
        "]\n",
        "\n",
        "file_path = \"/content/drive/My Drive/Final Project/wine_food_pairing/\"\n",
        "\n",
        "for file in required_files:\n",
        "    full_path = os.path.join(file_path, file)\n",
        "    if os.path.exists(full_path):\n",
        "        print(f\"Found: {file}\")\n",
        "    else:\n",
        "        print(f\"Missing: {file}\")"
      ],
      "metadata": {
        "id": "dWYvdqPckG-L",
        "outputId": "a9b2e703-521f-4fc5-f9d0-c8b4417468d2",
        "colab": {
          "base_uri": "https://localhost:8080/"
        }
      },
      "execution_count": 3,
      "outputs": [
        {
          "output_type": "stream",
          "name": "stdout",
          "text": [
            "Found: wine_aromas_nonaromas.csv\n",
            "Found: wine_variety_descriptors.csv\n",
            "Found: average_nonaroma_vectors.csv\n",
            "Found: food_word2vec_model.bin\n"
          ]
        }
      ]
    },
    {
      "cell_type": "code",
      "execution_count": 4,
      "metadata": {
        "id": "MMN_fPIQaBqi"
      },
      "outputs": [],
      "source": [
        "import os\n",
        "import pandas as pd\n",
        "import numpy as np\n",
        "import string\n",
        "from operator import itemgetter\n",
        "from collections import Counter, OrderedDict\n",
        "\n",
        "from nltk.tokenize import word_tokenize, sent_tokenize\n",
        "from nltk.stem import SnowballStemmer\n",
        "from nltk.corpus import stopwords\n",
        "\n",
        "from gensim.models.phrases import Phrases, Phraser\n",
        "from gensim.models import Word2Vec\n",
        "\n",
        "from sklearn.feature_extraction.text import TfidfVectorizer\n",
        "from sklearn.decomposition import PCA\n",
        "from matplotlib import pyplot as plt\n",
        "\n",
        "from scipy import spatial\n",
        "import ast\n",
        "\n",
        "import re\n",
        "import matplotlib.pyplot as plt\n",
        "%matplotlib inline\n",
        "from matplotlib import gridspec\n",
        "from math import pi\n",
        "\n",
        "pd.set_option('display.max_rows', 500)\n",
        "pd.set_option('display.max_columns', 500)\n",
        "pd.options.mode.chained_assignment = None"
      ]
    },
    {
      "cell_type": "markdown",
      "metadata": {
        "id": "3FyYBjV1aBql"
      },
      "source": [
        "### Loading the Relevant Data Files\n",
        "\n",
        "First up, the dataset with all our wine varieties and their average aroma & nonaroma embeddings."
      ]
    },
    {
      "cell_type": "code",
      "source": [
        "file_path = '/content/drive/My Drive/Final Project/wine_food_pairing/wine_aromas_nonaromas.csv'"
      ],
      "metadata": {
        "id": "TFpFwBlqaml9"
      },
      "execution_count": 5,
      "outputs": []
    },
    {
      "cell_type": "code",
      "execution_count": 6,
      "metadata": {
        "colab": {
          "base_uri": "https://localhost:8080/",
          "height": 204
        },
        "id": "YrADKK7IaBqm",
        "outputId": "4af25661-bb3e-4c80-e2d9-4bfd343195f1"
      },
      "outputs": [
        {
          "output_type": "execute_result",
          "data": {
            "text/plain": [
              "                                               aroma    weight     sweet  \\\n",
              "0  [ 8.83543372e-01  2.03477836e+00  4.00856638e+...  0.652852  0.704191   \n",
              "1  [ 6.6942054e-01  1.1554404e+00  4.5183077e+00 ...  0.374007  0.823238   \n",
              "2  [ 1.5175816   0.6431955   3.5210435  -4.243507...  0.400942  0.628509   \n",
              "3  [ 9.42802966e-01  6.84352636e-01  3.85812044e+...  0.381809  0.678276   \n",
              "4  [ 1.0192169e+00  6.6217339e-01  4.5112958e+00 ...  0.445992  0.766660   \n",
              "\n",
              "       acid  salt   piquant       fat  bitter  \n",
              "0  0.030032     0  0.556245  0.860050       0  \n",
              "1  0.038633     0  0.699985  0.861359       0  \n",
              "2  0.034513     0  0.578870  0.779324       0  \n",
              "3  0.030032     0  0.801150  0.860050       0  \n",
              "4  0.041743     0  0.649219  0.861077       0  "
            ],
            "text/html": [
              "\n",
              "  <div id=\"df-dbb6df08-f718-4f15-b304-565dab81f596\" class=\"colab-df-container\">\n",
              "    <div>\n",
              "<style scoped>\n",
              "    .dataframe tbody tr th:only-of-type {\n",
              "        vertical-align: middle;\n",
              "    }\n",
              "\n",
              "    .dataframe tbody tr th {\n",
              "        vertical-align: top;\n",
              "    }\n",
              "\n",
              "    .dataframe thead th {\n",
              "        text-align: right;\n",
              "    }\n",
              "</style>\n",
              "<table border=\"1\" class=\"dataframe\">\n",
              "  <thead>\n",
              "    <tr style=\"text-align: right;\">\n",
              "      <th></th>\n",
              "      <th>aroma</th>\n",
              "      <th>weight</th>\n",
              "      <th>sweet</th>\n",
              "      <th>acid</th>\n",
              "      <th>salt</th>\n",
              "      <th>piquant</th>\n",
              "      <th>fat</th>\n",
              "      <th>bitter</th>\n",
              "    </tr>\n",
              "  </thead>\n",
              "  <tbody>\n",
              "    <tr>\n",
              "      <th>0</th>\n",
              "      <td>[ 8.83543372e-01  2.03477836e+00  4.00856638e+...</td>\n",
              "      <td>0.652852</td>\n",
              "      <td>0.704191</td>\n",
              "      <td>0.030032</td>\n",
              "      <td>0</td>\n",
              "      <td>0.556245</td>\n",
              "      <td>0.860050</td>\n",
              "      <td>0</td>\n",
              "    </tr>\n",
              "    <tr>\n",
              "      <th>1</th>\n",
              "      <td>[ 6.6942054e-01  1.1554404e+00  4.5183077e+00 ...</td>\n",
              "      <td>0.374007</td>\n",
              "      <td>0.823238</td>\n",
              "      <td>0.038633</td>\n",
              "      <td>0</td>\n",
              "      <td>0.699985</td>\n",
              "      <td>0.861359</td>\n",
              "      <td>0</td>\n",
              "    </tr>\n",
              "    <tr>\n",
              "      <th>2</th>\n",
              "      <td>[ 1.5175816   0.6431955   3.5210435  -4.243507...</td>\n",
              "      <td>0.400942</td>\n",
              "      <td>0.628509</td>\n",
              "      <td>0.034513</td>\n",
              "      <td>0</td>\n",
              "      <td>0.578870</td>\n",
              "      <td>0.779324</td>\n",
              "      <td>0</td>\n",
              "    </tr>\n",
              "    <tr>\n",
              "      <th>3</th>\n",
              "      <td>[ 9.42802966e-01  6.84352636e-01  3.85812044e+...</td>\n",
              "      <td>0.381809</td>\n",
              "      <td>0.678276</td>\n",
              "      <td>0.030032</td>\n",
              "      <td>0</td>\n",
              "      <td>0.801150</td>\n",
              "      <td>0.860050</td>\n",
              "      <td>0</td>\n",
              "    </tr>\n",
              "    <tr>\n",
              "      <th>4</th>\n",
              "      <td>[ 1.0192169e+00  6.6217339e-01  4.5112958e+00 ...</td>\n",
              "      <td>0.445992</td>\n",
              "      <td>0.766660</td>\n",
              "      <td>0.041743</td>\n",
              "      <td>0</td>\n",
              "      <td>0.649219</td>\n",
              "      <td>0.861077</td>\n",
              "      <td>0</td>\n",
              "    </tr>\n",
              "  </tbody>\n",
              "</table>\n",
              "</div>\n",
              "    <div class=\"colab-df-buttons\">\n",
              "\n",
              "  <div class=\"colab-df-container\">\n",
              "    <button class=\"colab-df-convert\" onclick=\"convertToInteractive('df-dbb6df08-f718-4f15-b304-565dab81f596')\"\n",
              "            title=\"Convert this dataframe to an interactive table.\"\n",
              "            style=\"display:none;\">\n",
              "\n",
              "  <svg xmlns=\"http://www.w3.org/2000/svg\" height=\"24px\" viewBox=\"0 -960 960 960\">\n",
              "    <path d=\"M120-120v-720h720v720H120Zm60-500h600v-160H180v160Zm220 220h160v-160H400v160Zm0 220h160v-160H400v160ZM180-400h160v-160H180v160Zm440 0h160v-160H620v160ZM180-180h160v-160H180v160Zm440 0h160v-160H620v160Z\"/>\n",
              "  </svg>\n",
              "    </button>\n",
              "\n",
              "  <style>\n",
              "    .colab-df-container {\n",
              "      display:flex;\n",
              "      gap: 12px;\n",
              "    }\n",
              "\n",
              "    .colab-df-convert {\n",
              "      background-color: #E8F0FE;\n",
              "      border: none;\n",
              "      border-radius: 50%;\n",
              "      cursor: pointer;\n",
              "      display: none;\n",
              "      fill: #1967D2;\n",
              "      height: 32px;\n",
              "      padding: 0 0 0 0;\n",
              "      width: 32px;\n",
              "    }\n",
              "\n",
              "    .colab-df-convert:hover {\n",
              "      background-color: #E2EBFA;\n",
              "      box-shadow: 0px 1px 2px rgba(60, 64, 67, 0.3), 0px 1px 3px 1px rgba(60, 64, 67, 0.15);\n",
              "      fill: #174EA6;\n",
              "    }\n",
              "\n",
              "    .colab-df-buttons div {\n",
              "      margin-bottom: 4px;\n",
              "    }\n",
              "\n",
              "    [theme=dark] .colab-df-convert {\n",
              "      background-color: #3B4455;\n",
              "      fill: #D2E3FC;\n",
              "    }\n",
              "\n",
              "    [theme=dark] .colab-df-convert:hover {\n",
              "      background-color: #434B5C;\n",
              "      box-shadow: 0px 1px 3px 1px rgba(0, 0, 0, 0.15);\n",
              "      filter: drop-shadow(0px 1px 2px rgba(0, 0, 0, 0.3));\n",
              "      fill: #FFFFFF;\n",
              "    }\n",
              "  </style>\n",
              "\n",
              "    <script>\n",
              "      const buttonEl =\n",
              "        document.querySelector('#df-dbb6df08-f718-4f15-b304-565dab81f596 button.colab-df-convert');\n",
              "      buttonEl.style.display =\n",
              "        google.colab.kernel.accessAllowed ? 'block' : 'none';\n",
              "\n",
              "      async function convertToInteractive(key) {\n",
              "        const element = document.querySelector('#df-dbb6df08-f718-4f15-b304-565dab81f596');\n",
              "        const dataTable =\n",
              "          await google.colab.kernel.invokeFunction('convertToInteractive',\n",
              "                                                    [key], {});\n",
              "        if (!dataTable) return;\n",
              "\n",
              "        const docLinkHtml = 'Like what you see? Visit the ' +\n",
              "          '<a target=\"_blank\" href=https://colab.research.google.com/notebooks/data_table.ipynb>data table notebook</a>'\n",
              "          + ' to learn more about interactive tables.';\n",
              "        element.innerHTML = '';\n",
              "        dataTable['output_type'] = 'display_data';\n",
              "        await google.colab.output.renderOutput(dataTable, element);\n",
              "        const docLink = document.createElement('div');\n",
              "        docLink.innerHTML = docLinkHtml;\n",
              "        element.appendChild(docLink);\n",
              "      }\n",
              "    </script>\n",
              "  </div>\n",
              "\n",
              "\n",
              "<div id=\"df-eb8132a0-a7dc-4d13-adec-61928bc1ac23\">\n",
              "  <button class=\"colab-df-quickchart\" onclick=\"quickchart('df-eb8132a0-a7dc-4d13-adec-61928bc1ac23')\"\n",
              "            title=\"Suggest charts\"\n",
              "            style=\"display:none;\">\n",
              "\n",
              "<svg xmlns=\"http://www.w3.org/2000/svg\" height=\"24px\"viewBox=\"0 0 24 24\"\n",
              "     width=\"24px\">\n",
              "    <g>\n",
              "        <path d=\"M19 3H5c-1.1 0-2 .9-2 2v14c0 1.1.9 2 2 2h14c1.1 0 2-.9 2-2V5c0-1.1-.9-2-2-2zM9 17H7v-7h2v7zm4 0h-2V7h2v10zm4 0h-2v-4h2v4z\"/>\n",
              "    </g>\n",
              "</svg>\n",
              "  </button>\n",
              "\n",
              "<style>\n",
              "  .colab-df-quickchart {\n",
              "      --bg-color: #E8F0FE;\n",
              "      --fill-color: #1967D2;\n",
              "      --hover-bg-color: #E2EBFA;\n",
              "      --hover-fill-color: #174EA6;\n",
              "      --disabled-fill-color: #AAA;\n",
              "      --disabled-bg-color: #DDD;\n",
              "  }\n",
              "\n",
              "  [theme=dark] .colab-df-quickchart {\n",
              "      --bg-color: #3B4455;\n",
              "      --fill-color: #D2E3FC;\n",
              "      --hover-bg-color: #434B5C;\n",
              "      --hover-fill-color: #FFFFFF;\n",
              "      --disabled-bg-color: #3B4455;\n",
              "      --disabled-fill-color: #666;\n",
              "  }\n",
              "\n",
              "  .colab-df-quickchart {\n",
              "    background-color: var(--bg-color);\n",
              "    border: none;\n",
              "    border-radius: 50%;\n",
              "    cursor: pointer;\n",
              "    display: none;\n",
              "    fill: var(--fill-color);\n",
              "    height: 32px;\n",
              "    padding: 0;\n",
              "    width: 32px;\n",
              "  }\n",
              "\n",
              "  .colab-df-quickchart:hover {\n",
              "    background-color: var(--hover-bg-color);\n",
              "    box-shadow: 0 1px 2px rgba(60, 64, 67, 0.3), 0 1px 3px 1px rgba(60, 64, 67, 0.15);\n",
              "    fill: var(--button-hover-fill-color);\n",
              "  }\n",
              "\n",
              "  .colab-df-quickchart-complete:disabled,\n",
              "  .colab-df-quickchart-complete:disabled:hover {\n",
              "    background-color: var(--disabled-bg-color);\n",
              "    fill: var(--disabled-fill-color);\n",
              "    box-shadow: none;\n",
              "  }\n",
              "\n",
              "  .colab-df-spinner {\n",
              "    border: 2px solid var(--fill-color);\n",
              "    border-color: transparent;\n",
              "    border-bottom-color: var(--fill-color);\n",
              "    animation:\n",
              "      spin 1s steps(1) infinite;\n",
              "  }\n",
              "\n",
              "  @keyframes spin {\n",
              "    0% {\n",
              "      border-color: transparent;\n",
              "      border-bottom-color: var(--fill-color);\n",
              "      border-left-color: var(--fill-color);\n",
              "    }\n",
              "    20% {\n",
              "      border-color: transparent;\n",
              "      border-left-color: var(--fill-color);\n",
              "      border-top-color: var(--fill-color);\n",
              "    }\n",
              "    30% {\n",
              "      border-color: transparent;\n",
              "      border-left-color: var(--fill-color);\n",
              "      border-top-color: var(--fill-color);\n",
              "      border-right-color: var(--fill-color);\n",
              "    }\n",
              "    40% {\n",
              "      border-color: transparent;\n",
              "      border-right-color: var(--fill-color);\n",
              "      border-top-color: var(--fill-color);\n",
              "    }\n",
              "    60% {\n",
              "      border-color: transparent;\n",
              "      border-right-color: var(--fill-color);\n",
              "    }\n",
              "    80% {\n",
              "      border-color: transparent;\n",
              "      border-right-color: var(--fill-color);\n",
              "      border-bottom-color: var(--fill-color);\n",
              "    }\n",
              "    90% {\n",
              "      border-color: transparent;\n",
              "      border-bottom-color: var(--fill-color);\n",
              "    }\n",
              "  }\n",
              "</style>\n",
              "\n",
              "  <script>\n",
              "    async function quickchart(key) {\n",
              "      const quickchartButtonEl =\n",
              "        document.querySelector('#' + key + ' button');\n",
              "      quickchartButtonEl.disabled = true;  // To prevent multiple clicks.\n",
              "      quickchartButtonEl.classList.add('colab-df-spinner');\n",
              "      try {\n",
              "        const charts = await google.colab.kernel.invokeFunction(\n",
              "            'suggestCharts', [key], {});\n",
              "      } catch (error) {\n",
              "        console.error('Error during call to suggestCharts:', error);\n",
              "      }\n",
              "      quickchartButtonEl.classList.remove('colab-df-spinner');\n",
              "      quickchartButtonEl.classList.add('colab-df-quickchart-complete');\n",
              "    }\n",
              "    (() => {\n",
              "      let quickchartButtonEl =\n",
              "        document.querySelector('#df-eb8132a0-a7dc-4d13-adec-61928bc1ac23 button');\n",
              "      quickchartButtonEl.style.display =\n",
              "        google.colab.kernel.accessAllowed ? 'block' : 'none';\n",
              "    })();\n",
              "  </script>\n",
              "</div>\n",
              "\n",
              "    </div>\n",
              "  </div>\n"
            ],
            "application/vnd.google.colaboratory.intrinsic+json": {
              "type": "dataframe",
              "variable_name": "wine_variety_vectors",
              "summary": "{\n  \"name\": \"wine_variety_vectors\",\n  \"rows\": 739,\n  \"fields\": [\n    {\n      \"column\": \"aroma\",\n      \"properties\": {\n        \"dtype\": \"string\",\n        \"num_unique_values\": 739,\n        \"samples\": [\n          \"[ 1.125966    0.7276425   3.0613866  -4.084376   -1.4368093  -1.738261\\n  0.00908565 -1.8034017   1.3169016   2.5236266  -1.3495705   7.206943\\n  1.9046379   2.3644526  -1.4333869   0.5923139   1.0616359  -0.30922255\\n  1.8355317  -0.23014885  2.0709543   1.5725077   2.9487255   1.6816987\\n  1.1159539  -1.3994688   4.42098    -0.8252944  -1.1134642   1.3362801\\n -2.9525268  -0.42837325 -0.80901843 -0.98632526  2.142297   -0.8696758\\n -0.2195072  -0.13275115  1.1041396  -1.6596562  -5.521148   -2.1292362\\n -2.738227   -0.14007163 -0.2846265   1.0861057  -0.75750977 -1.3221403\\n -4.92515    -3.2692382  -1.3234019  -0.8902945   0.1709786  -0.61707795\\n  1.2774442  -0.871327    1.2846307  -2.0710428   3.4746995   2.1322665\\n  1.7714534   3.4126384   1.4145623   1.627829    1.8218989   1.4085315\\n -0.7477509  -5.263334   -0.74224305 -2.0183716  -1.0777308   2.639542\\n  1.4634346  -2.0473812  -0.19397774 -0.44451547  1.242056    1.3655546\\n  3.6436217  -1.996192    0.4899226  -0.60249823  2.4895346  -2.278262\\n  1.5288212  -0.713417   -4.216921   -0.24859168 -3.5250692  -1.7595885\\n  0.49010068  2.411903   -1.7621186   1.0812159  -3.556328   -0.4721829\\n  0.31529072 -2.0235815   2.2322779  -2.782481   -0.0153736   2.826835\\n -2.1463735   1.817186   -1.5889355  -2.9674199   1.1065161  -1.1032455\\n -1.7278111   0.05839092 -1.4396483   2.372407    4.282276    1.2877579\\n -0.586102    0.56867     0.23853843  0.45496267  1.2375075   4.9187865\\n -0.02361886  1.30453     1.5986469  -1.8055397  -1.0454816   2.1025188\\n -5.6727586  -0.8920725   3.4336581   3.2606223   0.25271595 -0.68010163\\n  0.17566027  2.1729198   0.79867125  3.4500031   1.8626845   2.7910826\\n -0.16896325 -5.8566856  -0.10051473 -4.093108   -1.9125075  -0.38543615\\n  3.0244198   0.4015982  -2.367876   -2.8592544  -3.1832833   2.8461816\\n -0.14600036  1.3402791  -1.5626726  -0.02961896  0.03473896 -1.1918689\\n -0.38836697 -2.3694139   1.1471868  -4.4393606  -0.86171055  5.0247545\\n -2.4583244   2.0145183  -5.8710966   0.6290018   4.685931    0.29215255\\n -1.065104   -0.94204515 -5.870697    0.98581505 -1.0566088   3.3866193\\n -2.138376    1.3075624   1.5797259  -4.393791   -1.3107411  -4.013326\\n -0.5148293   2.1774197   1.0929552   3.0542076   3.6215491   3.7716799\\n  0.43014294  0.8699848   1.722869    1.7262104  -1.9704764  -1.973854\\n -2.7646642   1.4185795   1.9858264  -0.6273171  -2.4363995   0.10385065\\n  2.9622002  -1.5543288   3.2658799  -1.6675128  -2.7405877  -2.5493205\\n -0.20446521  1.184196    2.8844671  -1.6118398   1.7603685  -2.6920202\\n  0.78313553 -0.09549125 -4.1487813   5.215924    0.13640635  1.8041308\\n -0.63744736 -0.95718265  2.4011154  -2.679841   -2.1087015   0.24942812\\n -0.46856853  0.21389177 -0.3595023  -0.24945915  4.486481    1.0200092\\n -0.4555452  -0.5671667  -1.0035686   2.183895   -1.7170905  -1.8345337\\n -2.4968233   1.1315634   1.6099639   1.6409726  -0.09928267  0.6696852\\n -1.8804461   3.6472607  -3.1954143   2.2040758   4.4034286  -2.4299104\\n  1.4168625   2.541763   -2.4825072   3.2042317  -1.7167717   1.7848891\\n  1.6983398  -5.5798435   1.302967   -0.73390096 -2.1849082   0.87340283\\n  1.5703839  -0.68347526  0.8611238   1.4185628   2.9548066   0.5186008\\n  0.22361647 -2.6812904   1.5834872   1.0363723   3.4362602   4.181854\\n -0.5832746  -3.6132405  -2.9311233  -1.7041237   2.9664705  -0.59918374\\n  3.2196505  -2.9268978  -2.5449762   3.6691923   4.4028854   0.37740484\\n -1.8322483  -0.84877485 -1.033818    2.134569    0.06467823  2.2709339\\n  4.612986   -1.0736977  -0.4599368  -1.4607351   3.4904819   4.0712647\\n -0.8248203   0.8958014   0.4792693  -2.7272394  -1.3993105  -5.016441  ]\",\n          \"[-0.8089279  -0.9853679   2.4757812  -3.6692479   0.78529567 -1.6468744\\n  0.4790694  -1.4495226   2.3319046   0.8351416  -0.641372    5.1329317\\n  1.050486    1.2117548  -0.3162368   1.0081942   0.27646443  4.1026244\\n  2.6082642  -3.076567    2.0283387   2.9599242   1.7065035   1.0515254\\n -1.5573716   0.36400604  2.7468524  -2.4673884  -0.5483197   1.2750559\\n -0.7785842   1.2174703  -2.236197   -4.5385737   0.57470036 -0.32901418\\n  0.7795732   1.239636    1.7759898  -0.5723844  -2.3624744  -2.9847574\\n -0.48422095 -0.16979304  0.5283068   1.249312   -1.845343   -1.7048405\\n -4.1474967  -1.8673944  -1.5997915  -3.0452514  -0.23093572 -1.2580076\\n  0.39312753  0.4923586   1.9421418  -2.4861536   2.5192626   2.730887\\n  0.29829827  0.44335765  0.9726391  -0.15758987  1.6877004  -0.71779996\\n -0.42281124 -3.6853952  -1.0647     -3.408669   -0.26859057  3.9893396\\n  2.4050481  -2.9560797   1.2356285  -2.703182   -0.24828126  2.240649\\n  3.9362192   1.2294731   1.8393692   0.2500878   1.358287   -2.4800406\\n  1.3590021  -2.9954453  -2.6214116  -1.9786713  -3.835634   -0.47410884\\n -0.67981654  2.1084023   0.80924976  1.6532831  -5.8481627   1.555092\\n -1.2440903   0.14326741 -0.06553208 -1.645642   -0.3755233   3.5640197\\n -1.0874895   3.9531822  -2.4785008  -4.9409785  -0.856979   -2.4831665\\n -1.4297472  -1.7480392  -0.2959313   2.236115    3.6780946  -1.756829\\n -1.1279993   0.3169512   3.268768    1.9476681   0.84559184  0.68048054\\n -0.87646794  0.65465677  0.5291108  -0.82262003 -1.3816603   1.7595546\\n -4.374286   -1.6955055  -0.18866241  2.954859    0.79537255 -0.33395565\\n -0.1575847   2.4890478  -0.49790192  2.2461145   1.2084911   3.538744\\n -2.036024   -6.3603163   2.5129151  -3.6031754  -0.9927701  -1.2789642\\n  4.978464    1.4436052  -4.419988   -3.3182857  -2.3300698   2.4966621\\n  1.2602816   4.74799    -2.0009243  -0.02352374  0.9385058  -0.30440414\\n -1.5775179  -1.9271716   1.7445244  -4.790869   -0.85490024  3.909117\\n -2.2162104   3.2296014  -4.1969748   0.6806662   4.8075886  -0.3535665\\n -2.0733972   0.10087432 -5.754532   -1.0418472  -0.58865285  4.16952\\n -3.1034937   0.56418145 -0.35432878 -4.115776    0.7782792  -3.5867858\\n -0.6787698   0.436283   -0.356708    1.206889    3.8194568   2.7139738\\n -0.6807825  -2.815332    2.4393911   0.64549506 -1.2321882  -2.9486296\\n -0.8791035   0.63709956 -1.6307071   0.6916383  -3.230599    1.37309\\n  3.02829    -0.38361508  2.4753697   0.29179773 -2.9481506  -1.4501586\\n  1.0469314   2.249629   -0.58936584 -1.0931914   1.3855414  -2.0494409\\n -0.52127063  0.64431006 -2.5055656   2.7452738  -2.3728983  -1.7809533\\n -0.42468068 -1.9924363  -0.46550766 -2.6634822  -0.97141904  0.7729822\\n -1.7401714  -0.4929196  -0.29008248  0.65825325  4.6179214   3.0316272\\n  0.69035137  0.5079224  -1.3003575   0.411641    0.2320271  -2.4531226\\n -4.094703    1.324878    3.0457308   1.7709067  -1.1554974   0.43940252\\n -0.81765854  4.392203   -1.2741715   2.8781257   3.738808   -1.0305846\\n  2.2681656   0.10158386 -0.21748479  0.26532343  1.064389    0.9248791\\n  1.4665381  -3.7879722  -1.7715936   0.3392691  -1.7474792   1.8696679\\n  2.0383139  -1.6785947   3.0328517   1.1503559  -1.1145946  -2.6050503\\n -0.144368   -2.7355251  -0.5494847   2.2274365   0.6513321   3.4099202\\n -2.042705   -0.81601614 -0.48894626 -3.3742528   4.8247013   0.37824658\\n  2.305698   -3.2280574  -2.5783916   2.077828    2.4093525   1.1879493\\n  0.8689333  -2.3109937   0.32438725  3.0335927   1.8796742  -1.0682205\\n  3.558161   -0.97363734  0.30375305  0.38203132  0.8111416   2.2203307\\n  0.24057299  0.4202993   1.9385332  -0.53334284  0.24385528 -5.1805053 ]\",\n          \"[ 7.53373325e-01  4.63527948e-01  3.92918491e+00 -4.89900446e+00\\n -2.60337472e+00 -1.03687835e+00  1.53732195e-01 -1.86820960e+00\\n  1.73656476e+00  1.26157010e+00 -2.13605329e-01  7.38137293e+00\\n  1.32242060e+00  2.44180989e+00 -1.20971322e+00  9.01563346e-01\\n  5.98117590e-01  5.58471441e-01  2.73692250e+00 -5.45619071e-01\\n  1.12860346e+00  2.21100450e+00  3.26650095e+00  2.69665432e+00\\n -8.51175189e-01 -2.05277538e+00  4.46477747e+00 -3.07009053e+00\\n  1.72561347e-01  1.40671146e+00 -3.18222427e+00 -8.40840518e-01\\n -2.57893848e+00 -2.85349631e+00  2.95146704e+00  1.07696041e-01\\n  6.66369796e-01 -7.93522166e-04  1.64913607e+00 -2.53498006e+00\\n -6.20300722e+00 -2.20119095e+00 -3.57677197e+00 -9.91335869e-01\\n -1.72665566e-01  1.63688791e+00 -5.76722801e-01 -8.50151062e-01\\n -4.54597092e+00 -3.07208085e+00 -1.26314437e+00 -5.13139784e-01\\n  4.01310176e-01 -1.09546840e+00  8.53444219e-01 -1.16980445e+00\\n  1.16176283e+00 -3.43729949e+00  4.11113596e+00  2.74870849e+00\\n  9.55658257e-01  1.71519196e+00  4.47678030e-01  7.83917427e-01\\n  2.22100449e+00  1.18668175e+00 -1.38773406e+00 -4.77001762e+00\\n -1.44515467e+00 -3.26323295e+00 -8.15953791e-01  3.96984982e+00\\n  1.22721064e+00 -1.60218894e+00  8.24006975e-01  2.97359526e-02\\n  2.60387331e-01  1.55280828e+00  2.78378367e+00 -1.46447134e+00\\n  5.68900764e-01 -1.68873593e-01  3.41456223e+00 -2.62966323e+00\\n  1.90203273e+00 -5.74778616e-01 -4.84219265e+00 -5.66636510e-02\\n -3.04373002e+00 -1.97891939e+00  2.15776110e+00  2.26019311e+00\\n -2.15778232e+00  1.18770468e+00 -4.05906105e+00  3.81335616e-01\\n -1.28203243e-01 -2.10740733e+00  1.59721482e+00 -3.62830997e+00\\n  4.23361629e-01  3.83704138e+00 -9.68164623e-01  3.41829538e+00\\n -2.89650512e+00 -3.80031705e+00  4.29406375e-01 -6.32338166e-01\\n -1.37750220e+00  1.17349684e+00 -1.56950188e+00  2.54775953e+00\\n  4.42804146e+00  6.96113884e-01 -7.86410332e-01 -3.20117801e-01\\n  3.27088624e-01  9.02378559e-01  1.28067017e+00  4.58701849e+00\\n  2.94140965e-01  1.13264096e+00  2.26694489e+00 -1.92819655e+00\\n -1.62968063e+00  3.00193238e+00 -6.06769562e+00 -1.69426787e+00\\n  2.66871715e+00  3.28973246e+00  4.89639133e-01 -1.74732596e-01\\n  4.78204250e-01  3.19144034e+00  1.71708000e+00  3.92207646e+00\\n  2.71167111e+00  2.71802759e+00 -9.10429597e-01 -7.01237583e+00\\n -2.38591462e-01 -3.64463568e+00 -1.80747771e+00 -3.13525945e-02\\n  5.02266645e+00  1.55417061e+00 -2.69512558e+00 -2.76554060e+00\\n -3.30339575e+00  2.97684050e+00 -3.65312010e-01  2.21439075e+00\\n -1.69826555e+00  4.06251013e-01  2.93737590e-01 -7.48241484e-01\\n -8.56658757e-01 -2.19732857e+00 -5.48826933e-01 -4.42858171e+00\\n -1.67448854e+00  5.14366961e+00 -1.67951524e+00  2.04708505e+00\\n -5.70062494e+00  4.95666951e-01  5.80189943e+00 -3.50534916e-01\\n -1.32072008e+00  3.47706825e-01 -6.86809635e+00 -1.66888341e-01\\n  4.07063700e-02  1.98089600e+00 -1.93241644e+00  7.93271482e-01\\n  1.13275623e+00 -4.03671026e+00 -1.79234996e-01 -4.36259937e+00\\n -4.34656024e-01  2.81760073e+00  1.95049918e+00  2.37038493e+00\\n  2.20482349e+00  4.13276148e+00  1.40180290e+00  1.78252077e+00\\n  2.14568710e+00  2.63006377e+00 -2.87289333e+00 -1.57557237e+00\\n -2.91585922e+00  9.72935796e-01  1.41264856e+00  1.82919472e-01\\n -4.29129457e+00  2.46614382e-01  3.77863598e+00 -2.06819034e+00\\n  2.01994658e+00 -2.13513064e+00 -3.40149736e+00 -2.73956418e+00\\n  3.27229321e-01  2.41102546e-01  2.85221744e+00 -2.30695558e+00\\n  1.54861295e+00 -2.72836876e+00  9.88391757e-01 -1.06841512e-01\\n -4.09377289e+00  5.53742218e+00 -1.18035758e+00  1.22727597e+00\\n -1.53767276e+00 -7.55835533e-01  2.82747912e+00 -3.23621583e+00\\n -1.88268459e+00 -3.35080743e-01 -9.79038775e-01  1.64364889e-01\\n -1.71689674e-01  1.16997272e-01  4.46537161e+00  1.20296538e+00\\n -9.90806341e-01  6.56457901e-01 -2.41775751e-01  2.28996873e+00\\n -1.22805619e+00 -1.95610595e+00 -3.09905934e+00  8.28857541e-01\\n  2.79287553e+00  2.03840852e+00  7.43410885e-01  7.39029527e-01\\n -1.26629221e+00  4.52513361e+00 -1.94233918e+00  2.28588843e+00\\n  4.51587152e+00 -2.49184036e+00  1.20855856e+00  3.67686677e+00\\n -3.99637198e+00  2.79233456e+00 -5.59995234e-01  1.17537594e+00\\n  2.50585198e+00 -3.94846153e+00  9.69983116e-02  6.43305480e-01\\n -2.04999948e+00 -1.52074441e-04  1.35421789e+00 -1.35263526e+00\\n  1.29866242e+00  1.81952512e+00  2.59090090e+00  4.79907274e-01\\n -7.40376294e-01 -2.89153624e+00  2.39777446e+00  2.09488034e+00\\n  3.58828974e+00  4.19783783e+00 -1.57601869e+00 -1.99719524e+00\\n -2.85183668e+00 -2.59573650e+00  4.06466818e+00 -4.32807446e-01\\n  3.16524482e+00 -3.92764854e+00 -2.26669741e+00  3.97277522e+00\\n  3.90011549e+00 -3.51276875e-01 -2.39923716e+00 -3.22436184e-01\\n -1.17189038e+00  2.22591448e+00 -1.59505054e-01  1.13085806e+00\\n  4.40088463e+00 -8.63274872e-01 -4.10504229e-02 -1.69459379e+00\\n  3.47551346e+00  4.07184553e+00 -1.63427091e+00  1.66486347e+00\\n  1.10744834e-01 -2.46827745e+00 -9.11621869e-01 -4.39175320e+00]\"\n        ],\n        \"semantic_type\": \"\",\n        \"description\": \"\"\n      }\n    },\n    {\n      \"column\": \"weight\",\n      \"properties\": {\n        \"dtype\": \"number\",\n        \"std\": 0.16896126455622915,\n        \"min\": 0.0,\n        \"max\": 1.0,\n        \"num_unique_values\": 739,\n        \"samples\": [\n          0.6472488644899278,\n          0.1691625618476733,\n          0.2634407692131967\n        ],\n        \"semantic_type\": \"\",\n        \"description\": \"\"\n      }\n    },\n    {\n      \"column\": \"sweet\",\n      \"properties\": {\n        \"dtype\": \"number\",\n        \"std\": 0.0928561726094496,\n        \"min\": 0.0,\n        \"max\": 1.0,\n        \"num_unique_values\": 738,\n        \"samples\": [\n          0.6324723993416158,\n          0.6912159038443895,\n          0.7393629332335608\n        ],\n        \"semantic_type\": \"\",\n        \"description\": \"\"\n      }\n    },\n    {\n      \"column\": \"acid\",\n      \"properties\": {\n        \"dtype\": \"number\",\n        \"std\": 0.08908918865226136,\n        \"min\": 0.0,\n        \"max\": 1.0,\n        \"num_unique_values\": 739,\n        \"samples\": [\n          0.055056153019216,\n          0.0279275978631172,\n          0.0141915547211837\n        ],\n        \"semantic_type\": \"\",\n        \"description\": \"\"\n      }\n    },\n    {\n      \"column\": \"salt\",\n      \"properties\": {\n        \"dtype\": \"number\",\n        \"std\": 0,\n        \"min\": 0,\n        \"max\": 0,\n        \"num_unique_values\": 1,\n        \"samples\": [\n          0\n        ],\n        \"semantic_type\": \"\",\n        \"description\": \"\"\n      }\n    },\n    {\n      \"column\": \"piquant\",\n      \"properties\": {\n        \"dtype\": \"number\",\n        \"std\": 0.16699400211158483,\n        \"min\": 0.0,\n        \"max\": 1.0,\n        \"num_unique_values\": 661,\n        \"samples\": [\n          0.9096364737506756\n        ],\n        \"semantic_type\": \"\",\n        \"description\": \"\"\n      }\n    },\n    {\n      \"column\": \"fat\",\n      \"properties\": {\n        \"dtype\": \"number\",\n        \"std\": 0.1451403924554569,\n        \"min\": 0.0,\n        \"max\": 1.0,\n        \"num_unique_values\": 612,\n        \"samples\": [\n          0.7029176365896309\n        ],\n        \"semantic_type\": \"\",\n        \"description\": \"\"\n      }\n    },\n    {\n      \"column\": \"bitter\",\n      \"properties\": {\n        \"dtype\": \"number\",\n        \"std\": 0,\n        \"min\": 0,\n        \"max\": 0,\n        \"num_unique_values\": 1,\n        \"samples\": [\n          0\n        ],\n        \"semantic_type\": \"\",\n        \"description\": \"\"\n      }\n    }\n  ]\n}"
            }
          },
          "metadata": {},
          "execution_count": 6
        }
      ],
      "source": [
        "wine_variety_vectors = pd.read_csv(file_path)\n",
        "wine_variety_vectors.head()"
      ]
    },
    {
      "cell_type": "markdown",
      "metadata": {
        "id": "kGH_Jec4aBqm"
      },
      "source": [
        "Before we proceed, we should make sure that the nonaromas are modeled on a scale from low to high for each flavor. At a glance, those for weight, acid, salt and bitter need to be flipped."
      ]
    },
    {
      "cell_type": "code",
      "execution_count": 7,
      "metadata": {
        "id": "OeGowExtaBqm"
      },
      "outputs": [],
      "source": [
        "wine_variety_vectors['weight'] = wine_variety_vectors['weight'].apply(lambda x: 1 - x)\n",
        "wine_variety_vectors['acid'] = wine_variety_vectors['acid'].apply(lambda x: 1 - x)\n",
        "wine_variety_vectors['salt'] = wine_variety_vectors['salt'].apply(lambda x: 1 - x)\n",
        "wine_variety_vectors['bitter'] = wine_variety_vectors['bitter'].apply(lambda x: 1 - x)"
      ]
    },
    {
      "cell_type": "markdown",
      "metadata": {
        "id": "yz3jpN2MaBqn"
      },
      "source": [
        "Let's load the other files we'll need:"
      ]
    },
    {
      "cell_type": "code",
      "source": [
        "file_path1 = '/content/drive/My Drive/Final Project/wine_food_pairing/wine_variety_descriptors.csv'\n",
        "file_path2 = '/content/drive/My Drive/Final Project/wine_food_pairing/food_word2vec_model.bin'\n",
        "file_path3 = '/content/drive/My Drive/Final Project/wine_food_pairing/average_nonaroma_vectors.csv'"
      ],
      "metadata": {
        "id": "eOGZKEKUcMgf"
      },
      "execution_count": 8,
      "outputs": []
    },
    {
      "cell_type": "code",
      "execution_count": 9,
      "metadata": {
        "id": "0FD_BdrmaBqn"
      },
      "outputs": [],
      "source": [
        "# a file containing the 50 most frequently appearing descriptors for each wine\n",
        "descriptor_frequencies = pd.read_csv(file_path1)\n",
        "\n",
        "# our word2vec model for all wine and food terms\n",
        "wine_word2vec_model = Word2Vec.load(file_path2)\n",
        "word_vectors = wine_word2vec_model.wv\n",
        "\n",
        "# a file with the average wine nonaroma vectors for each nonaroma\n",
        "food_nonaroma_infos = pd.read_csv(file_path3)"
      ]
    },
    {
      "cell_type": "code",
      "source": [
        "print(descriptor_frequencies.dtypes)"
      ],
      "metadata": {
        "id": "eEaFEh1shVJl",
        "outputId": "0bff6e81-0897-4d4f-be7c-32230233d330",
        "colab": {
          "base_uri": "https://localhost:8080/"
        }
      },
      "execution_count": 12,
      "outputs": [
        {
          "output_type": "stream",
          "name": "stdout",
          "text": [
            "descriptors            object\n",
            "relative_frequency    float64\n",
            "dtype: object\n"
          ]
        }
      ]
    },
    {
      "cell_type": "code",
      "source": [
        "print(descriptor_frequencies.dtypes)"
      ],
      "metadata": {
        "id": "snfo5AbPinza",
        "outputId": "e86f43f2-a019-498e-f8b3-8d9c82835570",
        "colab": {
          "base_uri": "https://localhost:8080/"
        }
      },
      "execution_count": 10,
      "outputs": [
        {
          "output_type": "stream",
          "name": "stdout",
          "text": [
            "index                  object\n",
            "descriptors            object\n",
            "relative_frequency    float64\n",
            "dtype: object\n"
          ]
        }
      ]
    },
    {
      "cell_type": "code",
      "source": [
        "descriptor_frequencies.set_index('index', inplace=True)"
      ],
      "metadata": {
        "id": "-jwHphlSlY9B"
      },
      "execution_count": 11,
      "outputs": []
    },
    {
      "cell_type": "code",
      "source": [
        "wine_recommendations['most_impactful_descriptors'] = wine_recommendations['index'].map(most_impactful_descriptors)"
      ],
      "metadata": {
        "id": "xp2K_ZSWiSwt",
        "outputId": "0d6bef8d-3f6b-4f33-a04d-2586284ef529",
        "colab": {
          "base_uri": "https://localhost:8080/",
          "height": 139
        }
      },
      "execution_count": 13,
      "outputs": [
        {
          "output_type": "error",
          "ename": "NameError",
          "evalue": "name 'wine_recommendations' is not defined",
          "traceback": [
            "\u001b[0;31m---------------------------------------------------------------------------\u001b[0m",
            "\u001b[0;31mNameError\u001b[0m                                 Traceback (most recent call last)",
            "\u001b[0;32m<ipython-input-13-a859ead7c819>\u001b[0m in \u001b[0;36m<cell line: 1>\u001b[0;34m()\u001b[0m\n\u001b[0;32m----> 1\u001b[0;31m \u001b[0mwine_recommendations\u001b[0m\u001b[0;34m[\u001b[0m\u001b[0;34m'most_impactful_descriptors'\u001b[0m\u001b[0;34m]\u001b[0m \u001b[0;34m=\u001b[0m \u001b[0mwine_recommendations\u001b[0m\u001b[0;34m[\u001b[0m\u001b[0;34m'index'\u001b[0m\u001b[0;34m]\u001b[0m\u001b[0;34m.\u001b[0m\u001b[0mmap\u001b[0m\u001b[0;34m(\u001b[0m\u001b[0mmost_impactful_descriptors\u001b[0m\u001b[0;34m)\u001b[0m\u001b[0;34m\u001b[0m\u001b[0;34m\u001b[0m\u001b[0m\n\u001b[0m",
            "\u001b[0;31mNameError\u001b[0m: name 'wine_recommendations' is not defined"
          ]
        }
      ]
    },
    {
      "cell_type": "code",
      "source": [
        "print(wine_variety_vectors.columns)\n",
        "print(descriptor_frequencies.columns)\n",
        "print(food_nonaroma_infos.columns)"
      ],
      "metadata": {
        "colab": {
          "base_uri": "https://localhost:8080/"
        },
        "id": "QDLdFTDbhfys",
        "outputId": "f0abb0b8-69dc-488f-a3cd-331e58139dde"
      },
      "execution_count": null,
      "outputs": [
        {
          "output_type": "stream",
          "name": "stdout",
          "text": [
            "Index(['aroma', 'weight', 'sweet', 'acid', 'salt', 'piquant', 'fat', 'bitter'], dtype='object')\n",
            "Index(['index', 'descriptors', 'relative_frequency'], dtype='object')\n",
            "Index(['farthest', 'closest', 'average_vec'], dtype='object')\n"
          ]
        }
      ]
    },
    {
      "cell_type": "code",
      "source": [
        "print(wine_variety_vectors.index)\n",
        "print(descriptor_frequencies.index)\n",
        "print(food_nonaroma_infos.index)"
      ],
      "metadata": {
        "colab": {
          "base_uri": "https://localhost:8080/"
        },
        "id": "gpKEKKLmhh2v",
        "outputId": "12331920-ec75-43e4-cc93-69edd0220398"
      },
      "execution_count": null,
      "outputs": [
        {
          "output_type": "stream",
          "name": "stdout",
          "text": [
            "RangeIndex(start=0, stop=739, step=1)\n",
            "RangeIndex(start=0, stop=21469, step=1)\n",
            "Index(['weight', 'sweet', 'acid', 'salt', 'piquant', 'fat', 'bitter'], dtype='object', name='Unnamed: 0')\n"
          ]
        }
      ]
    },
    {
      "cell_type": "code",
      "source": [
        "print(wine_recommendations.head())\n",
        "print(food_nonaromas)\n",
        "print(food_weight)"
      ],
      "metadata": {
        "colab": {
          "base_uri": "https://localhost:8080/"
        },
        "id": "S2dDl6rzhlX1",
        "outputId": "0e1a46cd-7f8c-4bd9-ca53-d468880f985c"
      },
      "execution_count": null,
      "outputs": [
        {
          "output_type": "stream",
          "name": "stdout",
          "text": [
            "   index                                              aroma  weight  sweet  \\\n",
            "0    193  [3.6170471, -2.5913758, 0.96421856, -3.279789,...       2      2   \n",
            "1    556  [5.2432156, -1.2206883, 1.6791562, -3.6666715,...       3      2   \n",
            "2    198  [3.741254, -3.297289, 0.9975004, -3.4976885, 0...       3      2   \n",
            "3    628  [4.2170572, -2.7370536, 0.72930068, -2.4595389...       3      3   \n",
            "4    157  [3.6520329, -2.620361, 1.131393, -3.2362242, -...       2      2   \n",
            "\n",
            "   acid  salt  piquant  fat  bitter pairing_type  aroma_distance  \n",
            "0     4     4        1    2       4  contrasting        0.302175  \n",
            "1     3     4        1    1       4  contrasting        0.304311  \n",
            "2     4     4        1    2       4  contrasting        0.304467  \n",
            "3     3     4        1    1       4  contrasting        0.309213  \n",
            "4     3     4        1    2       4  contrasting        0.310258  \n",
            "{'sweet': (0.8927243630794977, 4), 'acid': (0.6724349682464564, 3), 'salt': (0.38513325472932425, 2), 'piquant': (0.30745579223486363, 1), 'fat': (0.6479118272938675, 4), 'bitter': (0.49642615808542345, 2)}\n",
            "(0.5201521630261822, 3)\n"
          ]
        }
      ]
    },
    {
      "cell_type": "code",
      "source": [
        "print(wine_variety_vectors.head())\n",
        "print(descriptor_frequencies.head())\n",
        "print(food_nonaroma_infos.head())"
      ],
      "metadata": {
        "id": "d9dWqDthikXQ",
        "outputId": "775e1752-3624-4898-e664-d0e3201ea847",
        "colab": {
          "base_uri": "https://localhost:8080/"
        }
      },
      "execution_count": null,
      "outputs": [
        {
          "output_type": "stream",
          "name": "stdout",
          "text": [
            "                                               aroma    weight     sweet  \\\n",
            "0  [ 1.5145130e+00  1.8424729e+00  1.6289674e+00 ...  0.652749  0.704186   \n",
            "1  [ 1.2242099   1.2104877   2.3766973  -1.986676...  0.373510  0.823233   \n",
            "2  [ 1.9763136e+00  1.1378931e+00  1.3378321e+00 ...  0.400822  0.628506   \n",
            "3  [ 1.4385724   0.8306817   1.5512958  -2.316678...  0.381676  0.678274   \n",
            "4  [ 1.2342598   0.67209095  2.050209   -2.131179...  0.445926  0.766655   \n",
            "\n",
            "       acid  salt   piquant       fat  bitter  \n",
            "0  0.030034     1  0.454686  0.182172       1  \n",
            "1  0.038634     1  0.315761  0.180033       1  \n",
            "2  0.034514     1  0.432617  0.258589       1  \n",
            "3  0.030034     1  0.214675  0.182172       1  \n",
            "4  0.041745     1  0.363961  0.178097       1  \n",
            "                                               index descriptors  \\\n",
            "0  Cabernet Sauvignon, Central Coast, Central Coa...  blackberry   \n",
            "1  Cabernet Sauvignon, none, none, Curicó Valley,...        herb   \n",
            "2  Cabernet Sauvignon, none, none, Maipo Valley, ...        herb   \n",
            "3  Bordeaux-style Red Blend, Margaux, none, Borde...         oak   \n",
            "4               Arneis, Roero, none, Piedmont, Italy      flower   \n",
            "\n",
            "   relative_frequency  \n",
            "0                0.31  \n",
            "1                0.11  \n",
            "2                0.10  \n",
            "3                0.24  \n",
            "4                0.24  \n",
            "            farthest   closest  \\\n",
            "Unnamed: 0                       \n",
            "weight     -0.112542  0.546997   \n",
            "sweet      -0.178080  0.569045   \n",
            "acid       -0.122667  0.576622   \n",
            "salt       -0.145948  0.604643   \n",
            "piquant    -0.113430  0.347895   \n",
            "\n",
            "                                                  average_vec  \n",
            "Unnamed: 0                                                     \n",
            "weight      [-3.91950518e-01  1.47827134e-01 -2.20653694e-...  \n",
            "sweet       [ 0.6886504  -0.56699586 -0.62899655 -1.280294...  \n",
            "acid        [ 6.49246395e-01  4.74704623e-01  1.22554518e-...  \n",
            "salt        [ 1.63945481e-01  4.76453900e-01  1.99856743e-...  \n",
            "piquant     [ 0.27950513 -0.90266985  0.64406705 -0.757049...  \n"
          ]
        }
      ]
    },
    {
      "cell_type": "code",
      "source": [
        "food_nonaroma_infos.set_index('Unnamed: 0', inplace=True)"
      ],
      "metadata": {
        "id": "PslkLuOGd2ck"
      },
      "execution_count": null,
      "outputs": []
    },
    {
      "cell_type": "code",
      "source": [
        "print(wine_recommendations.columns)"
      ],
      "metadata": {
        "colab": {
          "base_uri": "https://localhost:8080/"
        },
        "id": "1Kvnstpre4GF",
        "outputId": "0ec22c2d-7ad9-4581-bf63-632cea8a57d1"
      },
      "execution_count": null,
      "outputs": [
        {
          "output_type": "stream",
          "name": "stdout",
          "text": [
            "Index(['index', 'aroma', 'weight', 'sweet', 'acid', 'salt', 'piquant', 'fat',\n",
            "       'bitter', 'pairing_type', 'aroma_distance'],\n",
            "      dtype='object')\n"
          ]
        }
      ]
    },
    {
      "cell_type": "code",
      "source": [
        "wine_recommendations.set_index('Unnamed: 0', inplace=True)"
      ],
      "metadata": {
        "colab": {
          "base_uri": "https://localhost:8080/",
          "height": 275
        },
        "id": "esJLAPaigN_u",
        "outputId": "ba03f044-fbfe-4366-e0fb-3d3ad3c60374"
      },
      "execution_count": null,
      "outputs": [
        {
          "output_type": "error",
          "ename": "KeyError",
          "evalue": "\"None of ['Unnamed: 0'] are in the columns\"",
          "traceback": [
            "\u001b[0;31m---------------------------------------------------------------------------\u001b[0m",
            "\u001b[0;31mKeyError\u001b[0m                                  Traceback (most recent call last)",
            "\u001b[0;32m<ipython-input-49-227e162720c6>\u001b[0m in \u001b[0;36m<cell line: 1>\u001b[0;34m()\u001b[0m\n\u001b[0;32m----> 1\u001b[0;31m \u001b[0mwine_recommendations\u001b[0m\u001b[0;34m.\u001b[0m\u001b[0mset_index\u001b[0m\u001b[0;34m(\u001b[0m\u001b[0;34m'Unnamed: 0'\u001b[0m\u001b[0;34m,\u001b[0m \u001b[0minplace\u001b[0m\u001b[0;34m=\u001b[0m\u001b[0;32mTrue\u001b[0m\u001b[0;34m)\u001b[0m\u001b[0;34m\u001b[0m\u001b[0;34m\u001b[0m\u001b[0m\n\u001b[0m",
            "\u001b[0;32m/usr/local/lib/python3.10/dist-packages/pandas/core/frame.py\u001b[0m in \u001b[0;36mset_index\u001b[0;34m(self, keys, drop, append, inplace, verify_integrity)\u001b[0m\n\u001b[1;32m   6120\u001b[0m \u001b[0;34m\u001b[0m\u001b[0m\n\u001b[1;32m   6121\u001b[0m         \u001b[0;32mif\u001b[0m \u001b[0mmissing\u001b[0m\u001b[0;34m:\u001b[0m\u001b[0;34m\u001b[0m\u001b[0;34m\u001b[0m\u001b[0m\n\u001b[0;32m-> 6122\u001b[0;31m             \u001b[0;32mraise\u001b[0m \u001b[0mKeyError\u001b[0m\u001b[0;34m(\u001b[0m\u001b[0;34mf\"None of {missing} are in the columns\"\u001b[0m\u001b[0;34m)\u001b[0m\u001b[0;34m\u001b[0m\u001b[0;34m\u001b[0m\u001b[0m\n\u001b[0m\u001b[1;32m   6123\u001b[0m \u001b[0;34m\u001b[0m\u001b[0m\n\u001b[1;32m   6124\u001b[0m         \u001b[0;32mif\u001b[0m \u001b[0minplace\u001b[0m\u001b[0;34m:\u001b[0m\u001b[0;34m\u001b[0m\u001b[0;34m\u001b[0m\u001b[0m\n",
            "\u001b[0;31mKeyError\u001b[0m: \"None of ['Unnamed: 0'] are in the columns\""
          ]
        }
      ]
    },
    {
      "cell_type": "code",
      "source": [
        "print(wine_recommendations.head())"
      ],
      "metadata": {
        "colab": {
          "base_uri": "https://localhost:8080/"
        },
        "id": "FMfskeatfBRR",
        "outputId": "1258660e-3b79-41bf-e670-01ff01296f70"
      },
      "execution_count": null,
      "outputs": [
        {
          "output_type": "stream",
          "name": "stdout",
          "text": [
            "   index                                              aroma  weight  sweet  \\\n",
            "0    193  [3.6170471, -2.5913758, 0.96421856, -3.279789,...       2      2   \n",
            "1    556  [5.2432156, -1.2206883, 1.6791562, -3.6666715,...       3      2   \n",
            "2    198  [3.741254, -3.297289, 0.9975004, -3.4976885, 0...       3      2   \n",
            "3    628  [4.2170572, -2.7370536, 0.72930068, -2.4595389...       3      3   \n",
            "4    157  [3.6520329, -2.620361, 1.131393, -3.2362242, -...       2      2   \n",
            "\n",
            "   acid  salt  piquant  fat  bitter pairing_type  aroma_distance  \n",
            "0     4     4        1    2       4  contrasting        0.302175  \n",
            "1     3     4        1    1       4  contrasting        0.304311  \n",
            "2     4     4        1    2       4  contrasting        0.304467  \n",
            "3     3     4        1    1       4  contrasting        0.309213  \n",
            "4     3     4        1    2       4  contrasting        0.310258  \n"
          ]
        }
      ]
    },
    {
      "cell_type": "code",
      "source": [
        "# Reset the index so we can use the 'title' column\n",
        "wine_recommendations.reset_index(inplace=True)\n",
        "\n",
        "# Assuming the column 'title' contains wine names or identifiers\n",
        "wine_recommendations['most_impactful_descriptors'] = wine_recommendations['title'].map(most_impactful_descriptors)"
      ],
      "metadata": {
        "colab": {
          "base_uri": "https://localhost:8080/",
          "height": 537
        },
        "id": "SZL8zqi-euU5",
        "outputId": "0f07b21b-aca7-496b-e3a8-24967766080c"
      },
      "execution_count": null,
      "outputs": [
        {
          "output_type": "error",
          "ename": "KeyError",
          "evalue": "'title'",
          "traceback": [
            "\u001b[0;31m---------------------------------------------------------------------------\u001b[0m",
            "\u001b[0;31mKeyError\u001b[0m                                  Traceback (most recent call last)",
            "\u001b[0;32m/usr/local/lib/python3.10/dist-packages/pandas/core/indexes/base.py\u001b[0m in \u001b[0;36mget_loc\u001b[0;34m(self, key)\u001b[0m\n\u001b[1;32m   3804\u001b[0m         \u001b[0;32mtry\u001b[0m\u001b[0;34m:\u001b[0m\u001b[0;34m\u001b[0m\u001b[0;34m\u001b[0m\u001b[0m\n\u001b[0;32m-> 3805\u001b[0;31m             \u001b[0;32mreturn\u001b[0m \u001b[0mself\u001b[0m\u001b[0;34m.\u001b[0m\u001b[0m_engine\u001b[0m\u001b[0;34m.\u001b[0m\u001b[0mget_loc\u001b[0m\u001b[0;34m(\u001b[0m\u001b[0mcasted_key\u001b[0m\u001b[0;34m)\u001b[0m\u001b[0;34m\u001b[0m\u001b[0;34m\u001b[0m\u001b[0m\n\u001b[0m\u001b[1;32m   3806\u001b[0m         \u001b[0;32mexcept\u001b[0m \u001b[0mKeyError\u001b[0m \u001b[0;32mas\u001b[0m \u001b[0merr\u001b[0m\u001b[0;34m:\u001b[0m\u001b[0;34m\u001b[0m\u001b[0;34m\u001b[0m\u001b[0m\n",
            "\u001b[0;32mindex.pyx\u001b[0m in \u001b[0;36mpandas._libs.index.IndexEngine.get_loc\u001b[0;34m()\u001b[0m\n",
            "\u001b[0;32mindex.pyx\u001b[0m in \u001b[0;36mpandas._libs.index.IndexEngine.get_loc\u001b[0;34m()\u001b[0m\n",
            "\u001b[0;32mpandas/_libs/hashtable_class_helper.pxi\u001b[0m in \u001b[0;36mpandas._libs.hashtable.PyObjectHashTable.get_item\u001b[0;34m()\u001b[0m\n",
            "\u001b[0;32mpandas/_libs/hashtable_class_helper.pxi\u001b[0m in \u001b[0;36mpandas._libs.hashtable.PyObjectHashTable.get_item\u001b[0;34m()\u001b[0m\n",
            "\u001b[0;31mKeyError\u001b[0m: 'title'",
            "\nThe above exception was the direct cause of the following exception:\n",
            "\u001b[0;31mKeyError\u001b[0m                                  Traceback (most recent call last)",
            "\u001b[0;32m<ipython-input-46-055c600ab95f>\u001b[0m in \u001b[0;36m<cell line: 5>\u001b[0;34m()\u001b[0m\n\u001b[1;32m      3\u001b[0m \u001b[0;34m\u001b[0m\u001b[0m\n\u001b[1;32m      4\u001b[0m \u001b[0;31m# Assuming the column 'title' contains wine names or identifiers\u001b[0m\u001b[0;34m\u001b[0m\u001b[0;34m\u001b[0m\u001b[0m\n\u001b[0;32m----> 5\u001b[0;31m \u001b[0mwine_recommendations\u001b[0m\u001b[0;34m[\u001b[0m\u001b[0;34m'most_impactful_descriptors'\u001b[0m\u001b[0;34m]\u001b[0m \u001b[0;34m=\u001b[0m \u001b[0mwine_recommendations\u001b[0m\u001b[0;34m[\u001b[0m\u001b[0;34m'title'\u001b[0m\u001b[0;34m]\u001b[0m\u001b[0;34m.\u001b[0m\u001b[0mmap\u001b[0m\u001b[0;34m(\u001b[0m\u001b[0mmost_impactful_descriptors\u001b[0m\u001b[0;34m)\u001b[0m\u001b[0;34m\u001b[0m\u001b[0;34m\u001b[0m\u001b[0m\n\u001b[0m",
            "\u001b[0;32m/usr/local/lib/python3.10/dist-packages/pandas/core/frame.py\u001b[0m in \u001b[0;36m__getitem__\u001b[0;34m(self, key)\u001b[0m\n\u001b[1;32m   4100\u001b[0m             \u001b[0;32mif\u001b[0m \u001b[0mself\u001b[0m\u001b[0;34m.\u001b[0m\u001b[0mcolumns\u001b[0m\u001b[0;34m.\u001b[0m\u001b[0mnlevels\u001b[0m \u001b[0;34m>\u001b[0m \u001b[0;36m1\u001b[0m\u001b[0;34m:\u001b[0m\u001b[0;34m\u001b[0m\u001b[0;34m\u001b[0m\u001b[0m\n\u001b[1;32m   4101\u001b[0m                 \u001b[0;32mreturn\u001b[0m \u001b[0mself\u001b[0m\u001b[0;34m.\u001b[0m\u001b[0m_getitem_multilevel\u001b[0m\u001b[0;34m(\u001b[0m\u001b[0mkey\u001b[0m\u001b[0;34m)\u001b[0m\u001b[0;34m\u001b[0m\u001b[0;34m\u001b[0m\u001b[0m\n\u001b[0;32m-> 4102\u001b[0;31m             \u001b[0mindexer\u001b[0m \u001b[0;34m=\u001b[0m \u001b[0mself\u001b[0m\u001b[0;34m.\u001b[0m\u001b[0mcolumns\u001b[0m\u001b[0;34m.\u001b[0m\u001b[0mget_loc\u001b[0m\u001b[0;34m(\u001b[0m\u001b[0mkey\u001b[0m\u001b[0;34m)\u001b[0m\u001b[0;34m\u001b[0m\u001b[0;34m\u001b[0m\u001b[0m\n\u001b[0m\u001b[1;32m   4103\u001b[0m             \u001b[0;32mif\u001b[0m \u001b[0mis_integer\u001b[0m\u001b[0;34m(\u001b[0m\u001b[0mindexer\u001b[0m\u001b[0;34m)\u001b[0m\u001b[0;34m:\u001b[0m\u001b[0;34m\u001b[0m\u001b[0;34m\u001b[0m\u001b[0m\n\u001b[1;32m   4104\u001b[0m                 \u001b[0mindexer\u001b[0m \u001b[0;34m=\u001b[0m \u001b[0;34m[\u001b[0m\u001b[0mindexer\u001b[0m\u001b[0;34m]\u001b[0m\u001b[0;34m\u001b[0m\u001b[0;34m\u001b[0m\u001b[0m\n",
            "\u001b[0;32m/usr/local/lib/python3.10/dist-packages/pandas/core/indexes/base.py\u001b[0m in \u001b[0;36mget_loc\u001b[0;34m(self, key)\u001b[0m\n\u001b[1;32m   3810\u001b[0m             ):\n\u001b[1;32m   3811\u001b[0m                 \u001b[0;32mraise\u001b[0m \u001b[0mInvalidIndexError\u001b[0m\u001b[0;34m(\u001b[0m\u001b[0mkey\u001b[0m\u001b[0;34m)\u001b[0m\u001b[0;34m\u001b[0m\u001b[0;34m\u001b[0m\u001b[0m\n\u001b[0;32m-> 3812\u001b[0;31m             \u001b[0;32mraise\u001b[0m \u001b[0mKeyError\u001b[0m\u001b[0;34m(\u001b[0m\u001b[0mkey\u001b[0m\u001b[0;34m)\u001b[0m \u001b[0;32mfrom\u001b[0m \u001b[0merr\u001b[0m\u001b[0;34m\u001b[0m\u001b[0;34m\u001b[0m\u001b[0m\n\u001b[0m\u001b[1;32m   3813\u001b[0m         \u001b[0;32mexcept\u001b[0m \u001b[0mTypeError\u001b[0m\u001b[0;34m:\u001b[0m\u001b[0;34m\u001b[0m\u001b[0;34m\u001b[0m\u001b[0m\n\u001b[1;32m   3814\u001b[0m             \u001b[0;31m# If we have a listlike key, _check_indexing_error will raise\u001b[0m\u001b[0;34m\u001b[0m\u001b[0;34m\u001b[0m\u001b[0m\n",
            "\u001b[0;31mKeyError\u001b[0m: 'title'"
          ]
        }
      ]
    },
    {
      "cell_type": "markdown",
      "metadata": {
        "id": "nme7HncgaBqn"
      },
      "source": [
        "#### Extracting Nonaroma Values from Food\n",
        "\n",
        "We will need a method to extract nonaroma values from food. We will compute a value for each nonaroma by looking at the distance between a food's embedding and the embedding that represents each nonaroma. We will normalize this to return a value between 0 and 1. Then, we will further standardize this by mapping the value between 0 and 1 to an ordinal integer value between 1 (low) and 4 (high)."
      ]
    },
    {
      "cell_type": "code",
      "execution_count": null,
      "metadata": {
        "id": "Eh32Ws2saBqn"
      },
      "outputs": [],
      "source": [
        "# this function scales each nonaroma between 0 and 1\n",
        "def minmax_scaler(val, minval, maxval):\n",
        "    val = max(min(val, maxval), minval)\n",
        "    normalized_val = (val - minval)/(maxval - minval)\n",
        "    return normalized_val\n",
        "\n",
        "# this function makes sure that a scaled value (between 0 and 1) is returned for a food nonaroma\n",
        "def check_in_range(label_range_dict, value):\n",
        "    for label, value_range_tuple in label_range_dict.items():\n",
        "        lower_end = value_range_tuple[0]\n",
        "        upper_end = value_range_tuple[1]\n",
        "        if value >= lower_end and value <= upper_end:\n",
        "            return label\n",
        "        else:\n",
        "            continue\n",
        "\n",
        "# this function calculates the average word embedding of all foods supplied as input\n",
        "def calculate_avg_food_vec(sample_foods):\n",
        "    sample_food_vecs = []\n",
        "    for s in sample_foods:\n",
        "        sample_food_vec = word_vectors[s]\n",
        "        sample_food_vecs.append(sample_food_vec)\n",
        "    sample_food_vecs_avg = np.average(sample_food_vecs, axis=0)\n",
        "    return sample_food_vecs_avg\n",
        "\n",
        "# this function returns two things: a score (between 0 and 1) and a normalized value (integer between 1 and 4) for a given nonaroma\n",
        "def nonaroma_values(nonaroma, average_food_embedding):\n",
        "    average_taste_vec = food_nonaroma_infos.at[nonaroma, 'average_vec']\n",
        "    average_taste_vec = re.sub('\\s+', ',', average_taste_vec)\n",
        "    average_taste_vec = average_taste_vec.replace('[,', '[')\n",
        "    average_taste_vec  = np.array(ast.literal_eval(average_taste_vec))\n",
        "\n",
        "    similarity = 1 - spatial.distance.cosine(average_taste_vec, average_food_embedding)\n",
        "    # scale the similarity using our minmax scaler\n",
        "    scaled_similarity = minmax_scaler(similarity, food_nonaroma_infos.at[nonaroma, 'farthest'],\n",
        "                                      food_nonaroma_infos.at[nonaroma, 'closest'])\n",
        "    standardized_similarity = check_in_range(food_weights[nonaroma], scaled_similarity)\n",
        "    similarity_and_scalar = (scaled_similarity, standardized_similarity)\n",
        "    return similarity_and_scalar\n",
        "\n",
        "# this function loops through the various nonaromas, returning the nonaroma scores & normalized values, the body/weight of the food and the average food embedding\n",
        "def return_all_food_values(sample_foods):\n",
        "    food_nonaromas = dict()\n",
        "    average_food_embedding = calculate_avg_food_vec(sample_foods)\n",
        "    for nonaroma in ['sweet', 'acid', 'salt', 'piquant', 'fat', 'bitter']:\n",
        "        food_nonaromas[nonaroma] = nonaroma_values(nonaroma, average_food_embedding)\n",
        "    food_weight = nonaroma_values('weight', average_food_embedding)\n",
        "    return food_nonaromas, food_weight, average_food_embedding"
      ]
    },
    {
      "cell_type": "code",
      "execution_count": null,
      "metadata": {
        "id": "wYQ71dkUaBqo"
      },
      "outputs": [],
      "source": [
        "# this is the mapping of food similarities to the normalized ordinal integer values between 1 and 4\n",
        "food_weights = {\n",
        "    'weight': {1: (0, 0.3), 2: (0.3, 0.5), 3: (0.5, 0.7), 4: (0.7, 1)},\n",
        "    'sweet': {1: (0, 0.45), 2: (0.45, 0.6), 3: (0.6, 0.8), 4: (0.8, 1)},\n",
        "    'acid': {1: (0, 0.4), 2: (0.4, 0.55), 3: (0.55, 0.7), 4: (0.7, 1)},\n",
        "    'salt': {1: (0, 0.3), 2: (0.3, 0.55), 3: (0.55, 0.8), 4: (0.8, 1)},\n",
        "    'piquant': {1: (0, 0.4), 2: (0.4, 0.6), 3: (0.6, 0.8), 4: (0.8, 1)},\n",
        "    'fat': {1: (0, 0.4), 2: (0.4, 0.5), 3: (0.5, 0.6), 4: (0.6, 1)},\n",
        "    'bitter': {1: (0, 0.3), 2: (0.3, 0.5), 3: (0.5, 0.65), 4: (0.65, 1)}\n",
        "}"
      ]
    },
    {
      "cell_type": "markdown",
      "metadata": {
        "id": "lyvvR8GFaBqo"
      },
      "source": [
        "### Standardizing Nonaroma Values from Wine\n",
        "\n",
        "To compare the nonaroma characteristics of wines and foods, we need to normalize them on the same scale (1-4)."
      ]
    },
    {
      "cell_type": "code",
      "execution_count": null,
      "metadata": {
        "id": "AvgCU65_aBqo"
      },
      "outputs": [],
      "source": [
        "wine_weights = {\n",
        "    'weight': {1: (0, 0.25), 2: (0.25, 0.45), 3: (0.45, 0.75), 4: (0.75, 1)},\n",
        "    'sweet': {1: (0, 0.25), 2: (0.25, 0.6), 3: (0.6, 0.75), 4: (0.75, 1)},\n",
        "    'acid': {1: (0, 0.05), 2: (0.05, 0.25), 3: (0.25, 0.5), 4: (0.5, 1)},\n",
        "    'salt': {1: (0, 0.15), 2: (0.15, 0.25), 3: (0.25, 0.7), 4: (0.7, 1)},\n",
        "    'piquant': {1: (0, 0.15), 2: (0.15, 0.3), 3: (0.3, 0.6), 4: (0.6, 1)},\n",
        "    'fat': {1: (0, 0.25), 2: (0.25, 0.5), 3: (0.5, 0.7), 4: (0.7, 1)},\n",
        "    'bitter': {1: (0, 0.2), 2: (0.2, 0.37), 3: (0.37, 0.6), 4: (0.6, 1)}\n",
        "}\n",
        "\n",
        "wine_variety_vectors_normalized = wine_variety_vectors.copy()\n",
        "for w, subdict in wine_weights.items():\n",
        "    wine_variety_vectors_normalized[w] = wine_variety_vectors_normalized[w].apply(lambda x: check_in_range(subdict, x))\n",
        "\n",
        "wine_variety_vectors_normalized.sort_index(inplace=True)"
      ]
    },
    {
      "cell_type": "markdown",
      "metadata": {
        "id": "qCUke0sxaBqo"
      },
      "source": [
        "### Pairing Rules\n",
        "\n",
        "Now, we will set some rules for creating wine pairings. We will run the rules below sequentially to eliminate pairings that do not make sense."
      ]
    },
    {
      "cell_type": "code",
      "execution_count": null,
      "metadata": {
        "id": "K-e8sqPiaBqo"
      },
      "outputs": [],
      "source": [
        "def weight_rule(df, food_weight):\n",
        "    # Rule 1: the wine should have at least the same body as the food\n",
        "    df = df.loc[(df['weight'] >= food_weight[1] - 1) & (df['weight'] <= food_weight[1])]\n",
        "    return df\n",
        "\n",
        "def acidity_rule(df, food_nonaromas):\n",
        "    # Rule 2: the wine should be at least as acidic as the food\n",
        "    df = df.loc[df['acid'] >= food_nonaromas['acid'][1]]\n",
        "    return df\n",
        "\n",
        "def sweetness_rule(df, food_nonaromas):\n",
        "    # Rule 3: the wine should be at least as sweet as the food\n",
        "    df = df.loc[df['sweet'] >= food_nonaromas['sweet'][1]]\n",
        "    return df\n",
        "\n",
        "def bitterness_rule(df, food_nonaromas):\n",
        "    # Rule 4: bitter wines do not pair well with bitter foods\n",
        "    if food_nonaromas['bitter'][1] == 4:\n",
        "        df = df.loc[df['bitter'] <= 2]\n",
        "    return df\n",
        "\n",
        "def bitter_salt_rule(df, food_nonaromas):\n",
        "    # Rule 5: bitter and salt do not go well together\n",
        "    if food_nonaromas['bitter'][1] == 4:\n",
        "        df = df.loc[(df['salt'] <= 2)]\n",
        "    if food_nonaromas['salt'] == 4:\n",
        "        df = df.loc[(df['bitter'][1] <= 2)]\n",
        "    return df\n",
        "\n",
        "def acid_bitter_rule(df, food_nonaromas):\n",
        "    # Rule 6: acid and bitterness do not go well together\n",
        "    if food_nonaromas['acid'][1] == 4:\n",
        "        df = df.loc[(df['bitter'] <= 2)]\n",
        "    if food_nonaromas['bitter'][1] == 4:\n",
        "        df = df.loc[(df['acid'] <= 2)]\n",
        "    return df\n",
        "\n",
        "def acid_piquant_rule(df, food_nonaromas):\n",
        "    # Rule 7: acid and piquant do not go well together\n",
        "    if food_nonaromas['acid'][1] == 4:\n",
        "        df = df.loc[(df['piquant'] <= 2)]\n",
        "    if food_nonaromas['piquant'][1] == 4:\n",
        "        df = df.loc[(df['acid'] <= 2)]\n",
        "    return df\n",
        "\n",
        "def nonaroma_rules(wine_df, food_nonaromas, food_weight):\n",
        "    df = weight_rule(wine_df, food_weight)\n",
        "    list_of_tests = [acidity_rule, sweetness_rule, bitterness_rule, bitter_salt_rule, acid_bitter_rule, acid_piquant_rule]\n",
        "    for t in list_of_tests:\n",
        "        # only apply the rule if it retains a sufficient number of wines in the selection.\n",
        "        df_test = t(df, food_nonaromas)\n",
        "        if df_test.shape[0] > 5:\n",
        "            df = t(df, food_nonaromas)\n",
        "#         print(df.shape)\n",
        "    return df\n"
      ]
    },
    {
      "cell_type": "markdown",
      "metadata": {
        "id": "PW26LFRiaBqp"
      },
      "source": [
        "Now, we would like to find which pairings are contrasting or congruent. Contrasting pairings have nonaroma attributes that are different but that match well, whereas congruent pairings make use of shared compounds between wine and food."
      ]
    },
    {
      "cell_type": "code",
      "execution_count": null,
      "metadata": {
        "id": "7PrKkwtgaBqp"
      },
      "outputs": [],
      "source": [
        "def sweet_pairing(df, food_nonaromas):\n",
        "    # Rule 1: sweet food goes well with highly bitter, fat, piquant, salt or acid wine\n",
        "    if food_nonaromas['sweet'][1] == 4:\n",
        "        df['pairing_type'] = np.where(((df.bitter == 4) | (df.fat == 4) | (df.piquant == 4) | (df.salt == 4) | (df.acid == 4)), 'contrasting', df.pairing_type)\n",
        "    return df\n",
        "\n",
        "def acid_pairing(df, food_nonaromas):\n",
        "    # Rule 2: acidic food goes well with highly sweet, fat, or salt wine\n",
        "    if food_nonaromas['acid'][1] == 4:\n",
        "        df['pairing_type'] = np.where(((df.sweet == 4) | (df.fat == 4) | (df.salt == 4)), 'contrasting', df.pairing_type)\n",
        "    return df\n",
        "\n",
        "def salt_pairing(df, food_nonaromas):\n",
        "    # Rule 3: sweet food goes well with highly bitter, fat, piquant, salt or acid wine\n",
        "    if food_nonaromas['salt'][1] == 4:\n",
        "        df['pairing_type'] = np.where(((df.bitter == 4) | (df.sweet == 4) | (df.piquant == 4) | (df.fat == 4) | (df.acid == 4)), 'contrasting', df.pairing_type)\n",
        "    return df\n",
        "\n",
        "def piquant_pairing(df, food_nonaromas):\n",
        "    # Rule 4: piquant food goes well with highly sweet, fat, or salt wine\n",
        "    if food_nonaromas['piquant'][1] == 4:\n",
        "        df['pairing_type'] = np.where(((df.sweet == 4) | (df.fat == 4) | (df.salt == 4)), 'contrasting', df.pairing_type)\n",
        "    return df\n",
        "\n",
        "def fat_pairing(df, food_nonaromas):\n",
        "    # Rule 5: fatty food goes well with highly bitter, fat, piquant, salt or acid wine\n",
        "    if food_nonaromas['fat'][1] == 4:\n",
        "        df['pairing_type'] = np.where(((df.bitter == 4) | (df.sweet == 4) | (df.piquant == 4) | (df.salt == 4) | (df.acid == 4)), 'contrasting', df.pairing_type)\n",
        "    return df\n",
        "\n",
        "def bitter_pairing(df, food_nonaromas):\n",
        "    # Rule 6: bitter food goes well with highly sweet, fat, or salt wine\n",
        "    if food_nonaromas['bitter'][1] == 4:\n",
        "        df['pairing_type'] = np.where(((df.sweet == 4) | (df.fat == 4) | (df.salt == 4)), 'contrasting', df.pairing_type)\n",
        "    return df\n",
        "\n",
        "def congruent_pairing(pairing_type, max_food_nonaroma_val, wine_nonaroma_val):\n",
        "    if pairing_type == 'congruent':\n",
        "        return 'congruent'\n",
        "    elif wine_nonaroma_val >= max_food_nonaroma_val:\n",
        "        return 'congruent'\n",
        "    else:\n",
        "        return ''\n",
        "\n",
        "def congruent_or_contrasting(df, food_nonaromas):\n",
        "\n",
        "    # first, look for a congruent match\n",
        "    max_nonaroma_val = max([i[1] for i in list(food_nonaromas.values())])\n",
        "    most_defining_tastes = [key for key, val in food_nonaromas.items() if val[1] == max_nonaroma_val]\n",
        "    df['pairing_type'] = ''\n",
        "    for m in most_defining_tastes:\n",
        "        df['pairing_type'] = df.apply(lambda x: congruent_pairing(x['pairing_type'], food_nonaromas[m][1], x[m]), axis=1)\n",
        "\n",
        "    # then, look for any contrasting matches\n",
        "    list_of_tests = [sweet_pairing, acid_pairing, salt_pairing, piquant_pairing, fat_pairing, bitter_pairing]\n",
        "    for t in list_of_tests:\n",
        "        df = t(df, food_nonaromas)\n",
        "    return df"
      ]
    },
    {
      "cell_type": "markdown",
      "metadata": {
        "id": "uLH9ItX9aBqp"
      },
      "source": [
        "Finally, we will prioritize wine recommendations that share aroma characteristics with the food. We will sort the resulting recommendations by similarity between the wine aroma embedding and the average food embedding, in descending order."
      ]
    },
    {
      "cell_type": "code",
      "execution_count": null,
      "metadata": {
        "id": "TvrJzD3eaBqp"
      },
      "outputs": [],
      "source": [
        "def sort_by_aroma_similarity(df, food_aroma):\n",
        "\n",
        "    def nparray_str_to_list(array_string):\n",
        "        average_taste_vec = re.sub('\\s+', ',', array_string)\n",
        "        average_taste_vec = average_taste_vec.replace('[,', '[')\n",
        "        average_taste_vec  = np.array(ast.literal_eval(average_taste_vec))\n",
        "        return average_taste_vec\n",
        "\n",
        "    df['aroma'] = df['aroma'].apply(nparray_str_to_list)\n",
        "    df['aroma_distance'] = df['aroma'].apply(lambda x: spatial.distance.cosine(x, food_aroma))\n",
        "    df.sort_values(by=['aroma_distance'], ascending=True, inplace=True)\n",
        "    return df"
      ]
    },
    {
      "cell_type": "markdown",
      "metadata": {
        "id": "gkmF6dqRaBqp"
      },
      "source": [
        "For the top wine recommendations, we would also like to have a bit of additional context on which aroma descriptors in the wine match well with our food."
      ]
    },
    {
      "cell_type": "code",
      "execution_count": null,
      "metadata": {
        "id": "wdfn8B5taBqp"
      },
      "outputs": [],
      "source": [
        "# these functions return the wine descriptors that most closely match the wine aromas of the selected recommendations. This will help give additional context and justification to the recommendations.\n",
        "\n",
        "def find_descriptor_distance(word, foodvec):\n",
        "    descriptor_wordvec = word_vectors[word]\n",
        "    similarity = 1 - spatial.distance.cosine(descriptor_wordvec, foodvec)\n",
        "    return similarity\n",
        "\n",
        "def most_impactful_descriptors(recommendation):\n",
        "    recommendation_frequencies = descriptor_frequencies.filter(like=recommendation, axis=0)\n",
        "    recommendation_frequencies['similarity'] = recommendation_frequencies['descriptors'].apply(lambda x: find_descriptor_distance(x, aroma_embedding))\n",
        "    recommendation_frequencies.sort_values(['similarity', 'relative_frequency'], ascending=False, inplace=True)\n",
        "    recommendation_frequencies = recommendation_frequencies.head(5)\n",
        "    most_impactful_descriptors = list(recommendation_frequencies['descriptors'])\n",
        "    return most_impactful_descriptors"
      ]
    },
    {
      "cell_type": "markdown",
      "metadata": {
        "id": "8Z_LByjeaBqq"
      },
      "source": [
        "The following function puts all the steps in our recommendation generation process together."
      ]
    },
    {
      "cell_type": "code",
      "execution_count": null,
      "metadata": {
        "id": "u48FFID7aBqq"
      },
      "outputs": [],
      "source": [
        "def retrieve_pairing_type_info(wine_recommendations, full_nonaroma_table, pairing_type):\n",
        "    pairings = wine_recommendations.loc[wine_recommendations['pairing_type'] == pairing_type].head(4)\n",
        "    wine_names = list(pairings.index)\n",
        "    recommendation_nonaromas = full_nonaroma_table.loc[wine_names, :]\n",
        "    pairing_nonaromas = recommendation_nonaromas[['sweet', 'acid', 'salt', 'piquant', 'fat', 'bitter']].to_dict('records')\n",
        "    pairing_body = list(recommendation_nonaromas['weight'])\n",
        "    impactful_descriptors = list(pairings['most_impactful_descriptors'])\n",
        "    return wine_names, pairing_nonaromas, pairing_body, impactful_descriptors"
      ]
    },
    {
      "cell_type": "markdown",
      "metadata": {
        "id": "lrMjwynraBqq"
      },
      "source": [
        "### Visualization\n",
        "\n",
        "We will want to examine the proposed recommendations in a visual manner. The following cells lay out functions that we can use to generate a visualization of the food nonaromas, and subsequently nonaroma & aroma details for a series of wine recommendations."
      ]
    },
    {
      "cell_type": "code",
      "execution_count": null,
      "metadata": {
        "id": "ndpzDcZZaBqq"
      },
      "outputs": [],
      "source": [
        "def make_spider(gs, n, data, title, color, pairing_type):\n",
        "\n",
        "    # number of variable\n",
        "    categories = list(food_nonaromas.keys())\n",
        "    N = len(categories)\n",
        "\n",
        "    # What will be the angle of each axis in the plot? (we divide the plot / number of variable)\n",
        "    angles = [n / float(N) * 2 * pi for n in range(N)]\n",
        "    angles += angles[:1]\n",
        "\n",
        "    # Initialise the spider plot\n",
        "    ax = plt.subplot(gs[n], polar=True, )\n",
        "\n",
        "    # If you want the first axis to be on top:\n",
        "    ax.set_theta_offset(pi / 2)\n",
        "    ax.set_theta_direction(-1)\n",
        "\n",
        "    # Draw one axe per variable + add labels labels yet\n",
        "    plt.xticks(angles[:-1], categories, color='grey', size=11)\n",
        "\n",
        "    # Draw ylabels\n",
        "    ax.set_rlabel_position(0)\n",
        "    plt.yticks([0.25, 0.5, 0.75, 1.0], [\"0.25\",\"0.50\",\"0.75\", \"1.00\"], color=\"grey\", size=0)\n",
        "    plt.ylim(0, 1)\n",
        "\n",
        "    # Ind1\n",
        "    values = list(data.values())\n",
        "    values += values[:1]\n",
        "    ax.plot(angles, values, color=color, linewidth=2, linestyle='solid')\n",
        "    ax.fill(angles, values, color=color, alpha=0.4)\n",
        "\n",
        "    # Add a title\n",
        "    # Insert a line break in the title if needed\n",
        "    title_split = str(title).split(',')\n",
        "    new_title = []\n",
        "    for number, word in enumerate(title_split):\n",
        "        if (number % 2) == 0 and number > 0:\n",
        "            updated_word = '\\n' + word.strip()\n",
        "            new_title.append(updated_word)\n",
        "        else:\n",
        "            updated_word = word.strip()\n",
        "            new_title.append(updated_word)\n",
        "    new_title = ', '.join(new_title)\n",
        "\n",
        "    title_incl_pairing_type = new_title + '\\n' + '(' + str(pairing_type) + ')'\n",
        "\n",
        "    plt.title(title_incl_pairing_type, size=13, color='black', y=1.2)"
      ]
    },
    {
      "cell_type": "code",
      "execution_count": null,
      "metadata": {
        "id": "9_zXnPGEaBqq"
      },
      "outputs": [],
      "source": [
        "def plot_number_line(gs, n, value, dot_color):\n",
        "    ax = plt.subplot(gs[n])\n",
        "    ax.set_xlim(-1, 2)\n",
        "    ax.set_ylim(0, 3)\n",
        "\n",
        "    # draw lines\n",
        "    xmin = 0\n",
        "    xmax = 1\n",
        "    y = 1\n",
        "    height = 0.2\n",
        "\n",
        "    plt.hlines(y, xmin, xmax)\n",
        "    plt.vlines(xmin, y - height / 2., y + height / 2.)\n",
        "    plt.vlines(xmax, y - height / 2., y + height / 2.)\n",
        "\n",
        "    # draw a point on the line\n",
        "    px = value\n",
        "    plt.plot(px, y, 'ko', ms = 10, mfc = dot_color)\n",
        "\n",
        "    # add numbers\n",
        "    plt.text(xmin - 0.1, y, 'Light-Bodied', horizontalalignment='right', fontsize=11, color='grey')\n",
        "    plt.text(xmax + 0.1, y, 'Full-Bodied', horizontalalignment='left', fontsize=11, color='grey')\n",
        "\n",
        "    plt.axis('off')"
      ]
    },
    {
      "cell_type": "code",
      "execution_count": null,
      "metadata": {
        "id": "4faGe8VdaBqq"
      },
      "outputs": [],
      "source": [
        "def create_text(gs, n, impactful_descriptors):\n",
        "    ax = plt.subplot(gs[n])\n",
        "\n",
        "    ax.set_xticks([])\n",
        "    ax.set_yticks([])\n",
        "    for spine in ax.spines.values():\n",
        "        spine.set_visible(False)\n",
        "    ax.invert_yaxis()\n",
        "\n",
        "    text = f'Complementary wine aromas:\\n\\n{impactful_descriptors[0]}, \\n{impactful_descriptors[1]}, \\n{impactful_descriptors[2]}, \\n{impactful_descriptors[3]}, \\n{impactful_descriptors[4]}'\n",
        "    ax.text(x=0, y=1, s=text, fontsize=12, color='grey')"
      ]
    },
    {
      "cell_type": "code",
      "execution_count": null,
      "metadata": {
        "id": "lEz617_gaBqr"
      },
      "outputs": [],
      "source": [
        "def plot_wine_recommendations(pairing_wines, pairing_nonaromas, pairing_body, impactful_descriptors, pairing_types):\n",
        "\n",
        "    subplot_rows = 3\n",
        "    subplot_columns = 4\n",
        "    plt.figure(figsize=(20, 7), dpi=96)\n",
        "\n",
        "    gs = gridspec.GridSpec(3, 4, height_ratios=[3, 0.5, 1])\n",
        "\n",
        "    spider_nr = 0\n",
        "    number_line_nr = 4\n",
        "    descriptor_nr = 8\n",
        "\n",
        "    for w in range(4):\n",
        "        make_spider(gs, spider_nr, pairing_nonaromas[w], pairing_wines[w], 'red', pairing_types[w])\n",
        "        plot_number_line(gs, number_line_nr, pairing_body[w], dot_color='red')\n",
        "        create_text(gs, descriptor_nr, impactful_descriptors[w])\n",
        "        spider_nr += 1\n",
        "        number_line_nr += 1\n",
        "        descriptor_nr += 1"
      ]
    },
    {
      "cell_type": "markdown",
      "metadata": {
        "id": "lwLjHg_faBqr"
      },
      "source": [
        "It's showtime. Time to generate our wine recommendations."
      ]
    },
    {
      "cell_type": "code",
      "source": [
        "print(food_nonaroma_infos.index)\n",
        "print(food_nonaroma_infos.columns)"
      ],
      "metadata": {
        "colab": {
          "base_uri": "https://localhost:8080/"
        },
        "id": "0Qo5hJ_IdUI8",
        "outputId": "e888699b-03b6-4fcb-d019-fd9aa79a1514"
      },
      "execution_count": null,
      "outputs": [
        {
          "output_type": "stream",
          "name": "stdout",
          "text": [
            "Index(['weight', 'sweet', 'acid', 'salt', 'piquant', 'fat', 'bitter'], dtype='object', name='Unnamed: 0')\n",
            "Index(['farthest', 'closest', 'average_vec'], dtype='object')\n"
          ]
        }
      ]
    },
    {
      "cell_type": "code",
      "source": [
        "print(food_nonaroma_infos.head())"
      ],
      "metadata": {
        "colab": {
          "base_uri": "https://localhost:8080/"
        },
        "id": "_2f4OhEfdZCP",
        "outputId": "2290fb7e-ab92-474b-c7d8-1747060d898f"
      },
      "execution_count": null,
      "outputs": [
        {
          "output_type": "stream",
          "name": "stdout",
          "text": [
            "            farthest   closest  \\\n",
            "Unnamed: 0                       \n",
            "weight     -0.112542  0.546997   \n",
            "sweet      -0.178080  0.569045   \n",
            "acid       -0.122667  0.576622   \n",
            "salt       -0.145948  0.604643   \n",
            "piquant    -0.113430  0.347895   \n",
            "\n",
            "                                                  average_vec  \n",
            "Unnamed: 0                                                     \n",
            "weight      [-3.91950518e-01  1.47827134e-01 -2.20653694e-...  \n",
            "sweet       [ 0.6886504  -0.56699586 -0.62899655 -1.280294...  \n",
            "acid        [ 6.49246395e-01  4.74704623e-01  1.22554518e-...  \n",
            "salt        [ 1.63945481e-01  4.76453900e-01  1.99856743e-...  \n",
            "piquant     [ 0.27950513 -0.90266985  0.64406705 -0.757049...  \n"
          ]
        }
      ]
    },
    {
      "cell_type": "code",
      "source": [
        "print(wine_recommendations.index)\n",
        "print(wine_recommendations.index.dtype)"
      ],
      "metadata": {
        "colab": {
          "base_uri": "https://localhost:8080/"
        },
        "id": "H3deiXSteS9O",
        "outputId": "e323de2f-d46d-4cf4-aeee-7ee6f45128f5"
      },
      "execution_count": null,
      "outputs": [
        {
          "output_type": "stream",
          "name": "stdout",
          "text": [
            "Index([193, 556, 198, 628, 157,   5, 613, 194, 192, 195, 708, 241, 592, 720,\n",
            "       609, 702, 611, 552, 615, 703, 249, 376, 304, 692, 113, 474, 305, 127],\n",
            "      dtype='int64')\n",
            "int64\n"
          ]
        }
      ]
    },
    {
      "cell_type": "code",
      "execution_count": null,
      "metadata": {
        "colab": {
          "base_uri": "https://localhost:8080/",
          "height": 418
        },
        "id": "bBgdneglaBqr",
        "outputId": "c44ecd55-7214-4848-900f-68b87f27b6f6"
      },
      "outputs": [
        {
          "output_type": "error",
          "ename": "TypeError",
          "evalue": "'in <string>' requires string as left operand, not int",
          "traceback": [
            "\u001b[0;31m---------------------------------------------------------------------------\u001b[0m",
            "\u001b[0;31mTypeError\u001b[0m                                 Traceback (most recent call last)",
            "\u001b[0;32m<ipython-input-44-01f6d93e0532>\u001b[0m in \u001b[0;36m<cell line: 12>\u001b[0;34m()\u001b[0m\n\u001b[1;32m     10\u001b[0m \u001b[0mwine_recommendations\u001b[0m \u001b[0;34m=\u001b[0m \u001b[0mcongruent_or_contrasting\u001b[0m\u001b[0;34m(\u001b[0m\u001b[0mwine_recommendations\u001b[0m\u001b[0;34m,\u001b[0m \u001b[0mfood_nonaromas\u001b[0m\u001b[0;34m)\u001b[0m\u001b[0;34m\u001b[0m\u001b[0;34m\u001b[0m\u001b[0m\n\u001b[1;32m     11\u001b[0m \u001b[0mwine_recommendations\u001b[0m \u001b[0;34m=\u001b[0m \u001b[0msort_by_aroma_similarity\u001b[0m\u001b[0;34m(\u001b[0m\u001b[0mwine_recommendations\u001b[0m\u001b[0;34m,\u001b[0m \u001b[0maroma_embedding\u001b[0m\u001b[0;34m)\u001b[0m\u001b[0;34m\u001b[0m\u001b[0;34m\u001b[0m\u001b[0m\n\u001b[0;32m---> 12\u001b[0;31m \u001b[0mwine_recommendations\u001b[0m\u001b[0;34m[\u001b[0m\u001b[0;34m'most_impactful_descriptors'\u001b[0m\u001b[0;34m]\u001b[0m \u001b[0;34m=\u001b[0m \u001b[0mwine_recommendations\u001b[0m\u001b[0;34m.\u001b[0m\u001b[0mindex\u001b[0m\u001b[0;34m.\u001b[0m\u001b[0mmap\u001b[0m\u001b[0;34m(\u001b[0m\u001b[0mmost_impactful_descriptors\u001b[0m\u001b[0;34m)\u001b[0m\u001b[0;34m\u001b[0m\u001b[0;34m\u001b[0m\u001b[0m\n\u001b[0m\u001b[1;32m     13\u001b[0m \u001b[0;34m\u001b[0m\u001b[0m\n\u001b[1;32m     14\u001b[0m \u001b[0;31m# see if there are any contrasting suggestions\u001b[0m\u001b[0;34m\u001b[0m\u001b[0;34m\u001b[0m\u001b[0m\n",
            "\u001b[0;32m/usr/local/lib/python3.10/dist-packages/pandas/core/indexes/base.py\u001b[0m in \u001b[0;36mmap\u001b[0;34m(self, mapper, na_action)\u001b[0m\n\u001b[1;32m   6489\u001b[0m         \u001b[0;32mfrom\u001b[0m \u001b[0mpandas\u001b[0m\u001b[0;34m.\u001b[0m\u001b[0mcore\u001b[0m\u001b[0;34m.\u001b[0m\u001b[0mindexes\u001b[0m\u001b[0;34m.\u001b[0m\u001b[0mmulti\u001b[0m \u001b[0;32mimport\u001b[0m \u001b[0mMultiIndex\u001b[0m\u001b[0;34m\u001b[0m\u001b[0;34m\u001b[0m\u001b[0m\n\u001b[1;32m   6490\u001b[0m \u001b[0;34m\u001b[0m\u001b[0m\n\u001b[0;32m-> 6491\u001b[0;31m         \u001b[0mnew_values\u001b[0m \u001b[0;34m=\u001b[0m \u001b[0mself\u001b[0m\u001b[0;34m.\u001b[0m\u001b[0m_map_values\u001b[0m\u001b[0;34m(\u001b[0m\u001b[0mmapper\u001b[0m\u001b[0;34m,\u001b[0m \u001b[0mna_action\u001b[0m\u001b[0;34m=\u001b[0m\u001b[0mna_action\u001b[0m\u001b[0;34m)\u001b[0m\u001b[0;34m\u001b[0m\u001b[0;34m\u001b[0m\u001b[0m\n\u001b[0m\u001b[1;32m   6492\u001b[0m \u001b[0;34m\u001b[0m\u001b[0m\n\u001b[1;32m   6493\u001b[0m         \u001b[0;31m# we can return a MultiIndex\u001b[0m\u001b[0;34m\u001b[0m\u001b[0;34m\u001b[0m\u001b[0m\n",
            "\u001b[0;32m/usr/local/lib/python3.10/dist-packages/pandas/core/base.py\u001b[0m in \u001b[0;36m_map_values\u001b[0;34m(self, mapper, na_action, convert)\u001b[0m\n\u001b[1;32m    919\u001b[0m             \u001b[0;32mreturn\u001b[0m \u001b[0marr\u001b[0m\u001b[0;34m.\u001b[0m\u001b[0mmap\u001b[0m\u001b[0;34m(\u001b[0m\u001b[0mmapper\u001b[0m\u001b[0;34m,\u001b[0m \u001b[0mna_action\u001b[0m\u001b[0;34m=\u001b[0m\u001b[0mna_action\u001b[0m\u001b[0;34m)\u001b[0m\u001b[0;34m\u001b[0m\u001b[0;34m\u001b[0m\u001b[0m\n\u001b[1;32m    920\u001b[0m \u001b[0;34m\u001b[0m\u001b[0m\n\u001b[0;32m--> 921\u001b[0;31m         \u001b[0;32mreturn\u001b[0m \u001b[0malgorithms\u001b[0m\u001b[0;34m.\u001b[0m\u001b[0mmap_array\u001b[0m\u001b[0;34m(\u001b[0m\u001b[0marr\u001b[0m\u001b[0;34m,\u001b[0m \u001b[0mmapper\u001b[0m\u001b[0;34m,\u001b[0m \u001b[0mna_action\u001b[0m\u001b[0;34m=\u001b[0m\u001b[0mna_action\u001b[0m\u001b[0;34m,\u001b[0m \u001b[0mconvert\u001b[0m\u001b[0;34m=\u001b[0m\u001b[0mconvert\u001b[0m\u001b[0;34m)\u001b[0m\u001b[0;34m\u001b[0m\u001b[0;34m\u001b[0m\u001b[0m\n\u001b[0m\u001b[1;32m    922\u001b[0m \u001b[0;34m\u001b[0m\u001b[0m\n\u001b[1;32m    923\u001b[0m     \u001b[0;34m@\u001b[0m\u001b[0mfinal\u001b[0m\u001b[0;34m\u001b[0m\u001b[0;34m\u001b[0m\u001b[0m\n",
            "\u001b[0;32m/usr/local/lib/python3.10/dist-packages/pandas/core/algorithms.py\u001b[0m in \u001b[0;36mmap_array\u001b[0;34m(arr, mapper, na_action, convert)\u001b[0m\n\u001b[1;32m   1741\u001b[0m     \u001b[0mvalues\u001b[0m \u001b[0;34m=\u001b[0m \u001b[0marr\u001b[0m\u001b[0;34m.\u001b[0m\u001b[0mastype\u001b[0m\u001b[0;34m(\u001b[0m\u001b[0mobject\u001b[0m\u001b[0;34m,\u001b[0m \u001b[0mcopy\u001b[0m\u001b[0;34m=\u001b[0m\u001b[0;32mFalse\u001b[0m\u001b[0;34m)\u001b[0m\u001b[0;34m\u001b[0m\u001b[0;34m\u001b[0m\u001b[0m\n\u001b[1;32m   1742\u001b[0m     \u001b[0;32mif\u001b[0m \u001b[0mna_action\u001b[0m \u001b[0;32mis\u001b[0m \u001b[0;32mNone\u001b[0m\u001b[0;34m:\u001b[0m\u001b[0;34m\u001b[0m\u001b[0;34m\u001b[0m\u001b[0m\n\u001b[0;32m-> 1743\u001b[0;31m         \u001b[0;32mreturn\u001b[0m \u001b[0mlib\u001b[0m\u001b[0;34m.\u001b[0m\u001b[0mmap_infer\u001b[0m\u001b[0;34m(\u001b[0m\u001b[0mvalues\u001b[0m\u001b[0;34m,\u001b[0m \u001b[0mmapper\u001b[0m\u001b[0;34m,\u001b[0m \u001b[0mconvert\u001b[0m\u001b[0;34m=\u001b[0m\u001b[0mconvert\u001b[0m\u001b[0;34m)\u001b[0m\u001b[0;34m\u001b[0m\u001b[0;34m\u001b[0m\u001b[0m\n\u001b[0m\u001b[1;32m   1744\u001b[0m     \u001b[0;32melse\u001b[0m\u001b[0;34m:\u001b[0m\u001b[0;34m\u001b[0m\u001b[0;34m\u001b[0m\u001b[0m\n\u001b[1;32m   1745\u001b[0m         return lib.map_infer_mask(\n",
            "\u001b[0;32mlib.pyx\u001b[0m in \u001b[0;36mpandas._libs.lib.map_infer\u001b[0;34m()\u001b[0m\n",
            "\u001b[0;32m<ipython-input-36-ffd7a5b18e2b>\u001b[0m in \u001b[0;36mmost_impactful_descriptors\u001b[0;34m(recommendation)\u001b[0m\n\u001b[1;32m      7\u001b[0m \u001b[0;34m\u001b[0m\u001b[0m\n\u001b[1;32m      8\u001b[0m \u001b[0;32mdef\u001b[0m \u001b[0mmost_impactful_descriptors\u001b[0m\u001b[0;34m(\u001b[0m\u001b[0mrecommendation\u001b[0m\u001b[0;34m)\u001b[0m\u001b[0;34m:\u001b[0m\u001b[0;34m\u001b[0m\u001b[0;34m\u001b[0m\u001b[0m\n\u001b[0;32m----> 9\u001b[0;31m     \u001b[0mrecommendation_frequencies\u001b[0m \u001b[0;34m=\u001b[0m \u001b[0mdescriptor_frequencies\u001b[0m\u001b[0;34m.\u001b[0m\u001b[0mfilter\u001b[0m\u001b[0;34m(\u001b[0m\u001b[0mlike\u001b[0m\u001b[0;34m=\u001b[0m\u001b[0mrecommendation\u001b[0m\u001b[0;34m,\u001b[0m \u001b[0maxis\u001b[0m\u001b[0;34m=\u001b[0m\u001b[0;36m0\u001b[0m\u001b[0;34m)\u001b[0m\u001b[0;34m\u001b[0m\u001b[0;34m\u001b[0m\u001b[0m\n\u001b[0m\u001b[1;32m     10\u001b[0m     \u001b[0mrecommendation_frequencies\u001b[0m\u001b[0;34m[\u001b[0m\u001b[0;34m'similarity'\u001b[0m\u001b[0;34m]\u001b[0m \u001b[0;34m=\u001b[0m \u001b[0mrecommendation_frequencies\u001b[0m\u001b[0;34m[\u001b[0m\u001b[0;34m'descriptors'\u001b[0m\u001b[0;34m]\u001b[0m\u001b[0;34m.\u001b[0m\u001b[0mapply\u001b[0m\u001b[0;34m(\u001b[0m\u001b[0;32mlambda\u001b[0m \u001b[0mx\u001b[0m\u001b[0;34m:\u001b[0m \u001b[0mfind_descriptor_distance\u001b[0m\u001b[0;34m(\u001b[0m\u001b[0mx\u001b[0m\u001b[0;34m,\u001b[0m \u001b[0maroma_embedding\u001b[0m\u001b[0;34m)\u001b[0m\u001b[0;34m)\u001b[0m\u001b[0;34m\u001b[0m\u001b[0;34m\u001b[0m\u001b[0m\n\u001b[1;32m     11\u001b[0m     \u001b[0mrecommendation_frequencies\u001b[0m\u001b[0;34m.\u001b[0m\u001b[0msort_values\u001b[0m\u001b[0;34m(\u001b[0m\u001b[0;34m[\u001b[0m\u001b[0;34m'similarity'\u001b[0m\u001b[0;34m,\u001b[0m \u001b[0;34m'relative_frequency'\u001b[0m\u001b[0;34m]\u001b[0m\u001b[0;34m,\u001b[0m \u001b[0mascending\u001b[0m\u001b[0;34m=\u001b[0m\u001b[0;32mFalse\u001b[0m\u001b[0;34m,\u001b[0m \u001b[0minplace\u001b[0m\u001b[0;34m=\u001b[0m\u001b[0;32mTrue\u001b[0m\u001b[0;34m)\u001b[0m\u001b[0;34m\u001b[0m\u001b[0;34m\u001b[0m\u001b[0m\n",
            "\u001b[0;32m/usr/local/lib/python3.10/dist-packages/pandas/core/generic.py\u001b[0m in \u001b[0;36mfilter\u001b[0;34m(self, items, like, regex, axis)\u001b[0m\n\u001b[1;32m   5803\u001b[0m                 \u001b[0;32mreturn\u001b[0m \u001b[0mlike\u001b[0m \u001b[0;32min\u001b[0m \u001b[0mensure_str\u001b[0m\u001b[0;34m(\u001b[0m\u001b[0mx\u001b[0m\u001b[0;34m)\u001b[0m\u001b[0;34m\u001b[0m\u001b[0;34m\u001b[0m\u001b[0m\n\u001b[1;32m   5804\u001b[0m \u001b[0;34m\u001b[0m\u001b[0m\n\u001b[0;32m-> 5805\u001b[0;31m             \u001b[0mvalues\u001b[0m \u001b[0;34m=\u001b[0m \u001b[0mlabels\u001b[0m\u001b[0;34m.\u001b[0m\u001b[0mmap\u001b[0m\u001b[0;34m(\u001b[0m\u001b[0mf\u001b[0m\u001b[0;34m)\u001b[0m\u001b[0;34m\u001b[0m\u001b[0;34m\u001b[0m\u001b[0m\n\u001b[0m\u001b[1;32m   5806\u001b[0m             \u001b[0;32mreturn\u001b[0m \u001b[0mself\u001b[0m\u001b[0;34m.\u001b[0m\u001b[0mloc\u001b[0m\u001b[0;34m(\u001b[0m\u001b[0maxis\u001b[0m\u001b[0;34m=\u001b[0m\u001b[0maxis\u001b[0m\u001b[0;34m)\u001b[0m\u001b[0;34m[\u001b[0m\u001b[0mvalues\u001b[0m\u001b[0;34m]\u001b[0m\u001b[0;34m\u001b[0m\u001b[0;34m\u001b[0m\u001b[0m\n\u001b[1;32m   5807\u001b[0m         \u001b[0;32melif\u001b[0m \u001b[0mregex\u001b[0m\u001b[0;34m:\u001b[0m\u001b[0;34m\u001b[0m\u001b[0;34m\u001b[0m\u001b[0m\n",
            "\u001b[0;32m/usr/local/lib/python3.10/dist-packages/pandas/core/indexes/base.py\u001b[0m in \u001b[0;36mmap\u001b[0;34m(self, mapper, na_action)\u001b[0m\n\u001b[1;32m   6489\u001b[0m         \u001b[0;32mfrom\u001b[0m \u001b[0mpandas\u001b[0m\u001b[0;34m.\u001b[0m\u001b[0mcore\u001b[0m\u001b[0;34m.\u001b[0m\u001b[0mindexes\u001b[0m\u001b[0;34m.\u001b[0m\u001b[0mmulti\u001b[0m \u001b[0;32mimport\u001b[0m \u001b[0mMultiIndex\u001b[0m\u001b[0;34m\u001b[0m\u001b[0;34m\u001b[0m\u001b[0m\n\u001b[1;32m   6490\u001b[0m \u001b[0;34m\u001b[0m\u001b[0m\n\u001b[0;32m-> 6491\u001b[0;31m         \u001b[0mnew_values\u001b[0m \u001b[0;34m=\u001b[0m \u001b[0mself\u001b[0m\u001b[0;34m.\u001b[0m\u001b[0m_map_values\u001b[0m\u001b[0;34m(\u001b[0m\u001b[0mmapper\u001b[0m\u001b[0;34m,\u001b[0m \u001b[0mna_action\u001b[0m\u001b[0;34m=\u001b[0m\u001b[0mna_action\u001b[0m\u001b[0;34m)\u001b[0m\u001b[0;34m\u001b[0m\u001b[0;34m\u001b[0m\u001b[0m\n\u001b[0m\u001b[1;32m   6492\u001b[0m \u001b[0;34m\u001b[0m\u001b[0m\n\u001b[1;32m   6493\u001b[0m         \u001b[0;31m# we can return a MultiIndex\u001b[0m\u001b[0;34m\u001b[0m\u001b[0;34m\u001b[0m\u001b[0m\n",
            "\u001b[0;32m/usr/local/lib/python3.10/dist-packages/pandas/core/base.py\u001b[0m in \u001b[0;36m_map_values\u001b[0;34m(self, mapper, na_action, convert)\u001b[0m\n\u001b[1;32m    919\u001b[0m             \u001b[0;32mreturn\u001b[0m \u001b[0marr\u001b[0m\u001b[0;34m.\u001b[0m\u001b[0mmap\u001b[0m\u001b[0;34m(\u001b[0m\u001b[0mmapper\u001b[0m\u001b[0;34m,\u001b[0m \u001b[0mna_action\u001b[0m\u001b[0;34m=\u001b[0m\u001b[0mna_action\u001b[0m\u001b[0;34m)\u001b[0m\u001b[0;34m\u001b[0m\u001b[0;34m\u001b[0m\u001b[0m\n\u001b[1;32m    920\u001b[0m \u001b[0;34m\u001b[0m\u001b[0m\n\u001b[0;32m--> 921\u001b[0;31m         \u001b[0;32mreturn\u001b[0m \u001b[0malgorithms\u001b[0m\u001b[0;34m.\u001b[0m\u001b[0mmap_array\u001b[0m\u001b[0;34m(\u001b[0m\u001b[0marr\u001b[0m\u001b[0;34m,\u001b[0m \u001b[0mmapper\u001b[0m\u001b[0;34m,\u001b[0m \u001b[0mna_action\u001b[0m\u001b[0;34m=\u001b[0m\u001b[0mna_action\u001b[0m\u001b[0;34m,\u001b[0m \u001b[0mconvert\u001b[0m\u001b[0;34m=\u001b[0m\u001b[0mconvert\u001b[0m\u001b[0;34m)\u001b[0m\u001b[0;34m\u001b[0m\u001b[0;34m\u001b[0m\u001b[0m\n\u001b[0m\u001b[1;32m    922\u001b[0m \u001b[0;34m\u001b[0m\u001b[0m\n\u001b[1;32m    923\u001b[0m     \u001b[0;34m@\u001b[0m\u001b[0mfinal\u001b[0m\u001b[0;34m\u001b[0m\u001b[0;34m\u001b[0m\u001b[0m\n",
            "\u001b[0;32m/usr/local/lib/python3.10/dist-packages/pandas/core/algorithms.py\u001b[0m in \u001b[0;36mmap_array\u001b[0;34m(arr, mapper, na_action, convert)\u001b[0m\n\u001b[1;32m   1741\u001b[0m     \u001b[0mvalues\u001b[0m \u001b[0;34m=\u001b[0m \u001b[0marr\u001b[0m\u001b[0;34m.\u001b[0m\u001b[0mastype\u001b[0m\u001b[0;34m(\u001b[0m\u001b[0mobject\u001b[0m\u001b[0;34m,\u001b[0m \u001b[0mcopy\u001b[0m\u001b[0;34m=\u001b[0m\u001b[0;32mFalse\u001b[0m\u001b[0;34m)\u001b[0m\u001b[0;34m\u001b[0m\u001b[0;34m\u001b[0m\u001b[0m\n\u001b[1;32m   1742\u001b[0m     \u001b[0;32mif\u001b[0m \u001b[0mna_action\u001b[0m \u001b[0;32mis\u001b[0m \u001b[0;32mNone\u001b[0m\u001b[0;34m:\u001b[0m\u001b[0;34m\u001b[0m\u001b[0;34m\u001b[0m\u001b[0m\n\u001b[0;32m-> 1743\u001b[0;31m         \u001b[0;32mreturn\u001b[0m \u001b[0mlib\u001b[0m\u001b[0;34m.\u001b[0m\u001b[0mmap_infer\u001b[0m\u001b[0;34m(\u001b[0m\u001b[0mvalues\u001b[0m\u001b[0;34m,\u001b[0m \u001b[0mmapper\u001b[0m\u001b[0;34m,\u001b[0m \u001b[0mconvert\u001b[0m\u001b[0;34m=\u001b[0m\u001b[0mconvert\u001b[0m\u001b[0;34m)\u001b[0m\u001b[0;34m\u001b[0m\u001b[0;34m\u001b[0m\u001b[0m\n\u001b[0m\u001b[1;32m   1744\u001b[0m     \u001b[0;32melse\u001b[0m\u001b[0;34m:\u001b[0m\u001b[0;34m\u001b[0m\u001b[0;34m\u001b[0m\u001b[0m\n\u001b[1;32m   1745\u001b[0m         return lib.map_infer_mask(\n",
            "\u001b[0;32mlib.pyx\u001b[0m in \u001b[0;36mpandas._libs.lib.map_infer\u001b[0;34m()\u001b[0m\n",
            "\u001b[0;32m/usr/local/lib/python3.10/dist-packages/pandas/core/generic.py\u001b[0m in \u001b[0;36mf\u001b[0;34m(x)\u001b[0m\n\u001b[1;32m   5801\u001b[0m             \u001b[0;32mdef\u001b[0m \u001b[0mf\u001b[0m\u001b[0;34m(\u001b[0m\u001b[0mx\u001b[0m\u001b[0;34m)\u001b[0m \u001b[0;34m->\u001b[0m \u001b[0mbool_t\u001b[0m\u001b[0;34m:\u001b[0m\u001b[0;34m\u001b[0m\u001b[0;34m\u001b[0m\u001b[0m\n\u001b[1;32m   5802\u001b[0m                 \u001b[0;32massert\u001b[0m \u001b[0mlike\u001b[0m \u001b[0;32mis\u001b[0m \u001b[0;32mnot\u001b[0m \u001b[0;32mNone\u001b[0m  \u001b[0;31m# needed for mypy\u001b[0m\u001b[0;34m\u001b[0m\u001b[0;34m\u001b[0m\u001b[0m\n\u001b[0;32m-> 5803\u001b[0;31m                 \u001b[0;32mreturn\u001b[0m \u001b[0mlike\u001b[0m \u001b[0;32min\u001b[0m \u001b[0mensure_str\u001b[0m\u001b[0;34m(\u001b[0m\u001b[0mx\u001b[0m\u001b[0;34m)\u001b[0m\u001b[0;34m\u001b[0m\u001b[0;34m\u001b[0m\u001b[0m\n\u001b[0m\u001b[1;32m   5804\u001b[0m \u001b[0;34m\u001b[0m\u001b[0m\n\u001b[1;32m   5805\u001b[0m             \u001b[0mvalues\u001b[0m \u001b[0;34m=\u001b[0m \u001b[0mlabels\u001b[0m\u001b[0;34m.\u001b[0m\u001b[0mmap\u001b[0m\u001b[0;34m(\u001b[0m\u001b[0mf\u001b[0m\u001b[0;34m)\u001b[0m\u001b[0;34m\u001b[0m\u001b[0;34m\u001b[0m\u001b[0m\n",
            "\u001b[0;31mTypeError\u001b[0m: 'in <string>' requires string as left operand, not int"
          ]
        }
      ],
      "source": [
        "test_food = ['hotdog', 'mustard', 'tomato', 'onion', 'pepperoncini', 'gherkin', 'celery', 'relish']\n",
        "appetizer = ['trout', 'dill', 'cucumber', 'sour_cream']\n",
        "entree = ['roast_chicken', 'tarragon', 'sage']\n",
        "dessert = ['peach', 'pie']\n",
        "\n",
        "food_nonaromas, food_weight, aroma_embedding = return_all_food_values(dessert)\n",
        "\n",
        "wine_recommendations = wine_variety_vectors_normalized.copy()\n",
        "wine_recommendations = nonaroma_rules(wine_recommendations, food_nonaromas, food_weight)\n",
        "wine_recommendations = congruent_or_contrasting(wine_recommendations, food_nonaromas)\n",
        "wine_recommendations = sort_by_aroma_similarity(wine_recommendations, aroma_embedding)\n",
        "wine_recommendations['most_impactful_descriptors'] = wine_recommendations.index.map(most_impactful_descriptors)\n",
        "\n",
        "# see if there are any contrasting suggestions\n",
        "try:\n",
        "    contrasting_wines, contrasting_nonaromas, contrasting_body, impactful_descriptors_contrasting = retrieve_pairing_type_info(wine_recommendations, wine_variety_vectors, 'contrasting')\n",
        "except:\n",
        "    contrasting_wines = []\n",
        "\n",
        "try:\n",
        "    congruent_wines, congruent_nonaromas, congruent_body, impactful_descriptors_congruent = retrieve_pairing_type_info(wine_recommendations, wine_variety_vectors, 'congruent')\n",
        "except:\n",
        "    congruent_wines = []\n",
        "\n",
        "# if possible, provide 2 contrasting and 2 congruent options. If not possible, just return 4 options of one type.\n",
        "if len(contrasting_wines) >= 2 and len(congruent_wines) >= 2:\n",
        "    wine_names = contrasting_wines[:2] + congruent_wines[:2]\n",
        "    wine_nonaromas = contrasting_nonaromas[:2] + congruent_nonaromas[:2]\n",
        "    wine_body = contrasting_body[:2] + congruent_body[:2]\n",
        "    impactful_descriptors = impactful_descriptors_contrasting[:2] + impactful_descriptors_congruent[:2]\n",
        "    pairing_types = ['Contrasting', 'Contrasting', 'Congruent', 'Congruent']\n",
        "elif len(contrasting_wines) >= 2:\n",
        "    wine_names = contrasting_wines\n",
        "    wine_nonaromas = contrasting_nonaromas\n",
        "    wine_body = contrasting_body\n",
        "    impactful_descriptors = impactful_descriptors_contrasting\n",
        "    pairing_types = ['Contrasting', 'Contrasting', 'Contrasting', 'Contrasting']\n",
        "else:\n",
        "    wine_names = congruent_wines\n",
        "    wine_nonaromas = congruent_nonaromas\n",
        "    wine_body = congruent_body\n",
        "    impactful_descriptors = impactful_descriptors_congruent\n",
        "    pairing_types = ['Congruent', 'Congruent', 'Congruent', 'Congruent']\n",
        "\n",
        "plot_wine_recommendations(wine_names, wine_nonaromas, wine_body, impactful_descriptors, pairing_types)"
      ]
    },
    {
      "cell_type": "code",
      "execution_count": null,
      "metadata": {
        "id": "455ES5ScaBqr",
        "outputId": "2853876f-1e61-47c8-bfaa-a4a4332c3bb6"
      },
      "outputs": [
        {
          "data": {
            "image/png": "[encoded data removed]",
            "text/plain": [
              "<Figure size 300x375 with 2 Axes>"
            ]
          },
          "metadata": {},
          "output_type": "display_data"
        }
      ],
      "source": [
        "plt.figure(figsize=(4, 5), dpi=75)\n",
        "\n",
        "gs = gridspec.GridSpec(2, 1, height_ratios=[3, 0.5])\n",
        "\n",
        "food_nonaromas_norm = {k: v[0] for k, v in food_nonaromas.items()}\n",
        "\n",
        "food_names = ' + '.join(dessert)\n",
        "make_spider(gs, 0, food_nonaromas_norm, 'Food Flavor Profile:', 'pink', food_names)\n",
        "plot_number_line(gs, 1, food_weight[0], dot_color='pink')"
      ]
    },
    {
      "cell_type": "code",
      "execution_count": null,
      "metadata": {
        "id": "arQlWG7JaBqs",
        "outputId": "356a57a9-d4ea-48b6-fd1b-f60df6ee5d29"
      },
      "outputs": [
        {
          "name": "stdout",
          "output_type": "stream",
          "text": [
            "{'sweet': 0.4613773048272533, 'acid': 0.8096417023389532, 'salt': 0.9014882479880785, 'piquant': 0.695169140975374, 'fat': 0.610969409566638, 'bitter': 0.5461646921026969}\n"
          ]
        }
      ],
      "source": [
        "print(food_nonaromas_norm)"
      ]
    }
  ],
  "metadata": {
    "kernelspec": {
      "display_name": "Python 3",
      "language": "python",
      "name": "python3"
    },
    "language_info": {
      "codemirror_mode": {
        "name": "ipython",
        "version": 3
      },
      "file_extension": ".py",
      "mimetype": "text/x-python",
      "name": "python",
      "nbconvert_exporter": "python",
      "pygments_lexer": "ipython3",
      "version": "3.6.9"
    },
    "colab": {
      "provenance": []
    }
  },
  "nbformat": 4,
  "nbformat_minor": 0
}